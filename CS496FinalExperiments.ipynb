{
  "cells": [
    {
      "cell_type": "markdown",
      "metadata": {
        "id": "view-in-github",
        "colab_type": "text"
      },
      "source": [
        "<a href=\"https://colab.research.google.com/github/step-cheng/cs496_gradienttheory/blob/main/CS496FinalExperiments.ipynb\" target=\"_parent\"><img src=\"https://colab.research.google.com/assets/colab-badge.svg\" alt=\"Open In Colab\"/></a>"
      ]
    },
    {
      "cell_type": "markdown",
      "metadata": {
        "id": "X5EwWiNAeDbT"
      },
      "source": [
        "# **CS496 Final Project Experiments - Shampoo**\n",
        "\n",
        "All code is below but brief synopsis.\n",
        "\n",
        "Hyperparameters for Experiment 1 & Experiment 3 were grid searched. (The results from one grid search one are in the cell output at the bottom, but it was actually run many times with many different combinations, and for more than 3 epochs) Hyperparameters for Experiment 2 were just the best of ~10 tried, because we do not have enough GPU resources to train the model a bunch of times, and the model was way more sensitive (it failed to converge for many hyperparameter combinations, unlike Resnet which was fairly insensitive).\n",
        "\n",
        "The most notable change from the intermediate report is that we implement the Diagonal Shampoo algorithm (described in Appendix A of the original paper) for high dimensional preconditioning matrices. The base Shampoo algorithm runs fine on Resnet-34 but the memory requirements explode beyond any reasonable value for larger models like DistillBERT.\n",
        "\n",
        "Experiment 1 (Resnet-34 CIFAR-10 training):\n",
        "  Shampoo underperforms after about ~3 epochs, and test accuracy stops improving. This was true regardless of hyperparameter picked.\n",
        "\n",
        "Experiment 2 (DistilBERT SST-2 Finetuning):\n",
        "  Shampoo underperforms the other optimizers, but takes longer, and requires significantly more hyperparameter tuning.\n",
        "\n",
        "Experiment 3 (1/2 vs 1/4 Exponent):\n",
        "  1/4 exponent appears to perform better than 1/2"
      ]
    },
    {
      "cell_type": "markdown",
      "metadata": {
        "id": "kSd_Yk6jKomn"
      },
      "source": [
        "# **Setup**"
      ]
    },
    {
      "cell_type": "code",
      "execution_count": null,
      "metadata": {
        "colab": {
          "base_uri": "https://localhost:8080/"
        },
        "collapsed": true,
        "id": "wuC8UxJpSVKN",
        "outputId": "c1258d0b-251a-4b1b-b81e-8ee7362ce6b0"
      },
      "outputs": [
        {
          "name": "stdout",
          "output_type": "stream",
          "text": [
            "Defaulting to user installation because normal site-packages is not writeable\n",
            "Requirement already satisfied: torch-optimizer in ./.local/lib/python3.8/site-packages (0.3.0)\n",
            "Requirement already satisfied: torch>=1.5.0 in ./.local/lib/python3.8/site-packages (from torch-optimizer) (2.4.1)\n",
            "Requirement already satisfied: pytorch-ranger>=0.1.1 in ./.local/lib/python3.8/site-packages (from torch-optimizer) (0.1.1)\n",
            "Requirement already satisfied: filelock in ./.local/lib/python3.8/site-packages (from torch>=1.5.0->torch-optimizer) (3.16.1)\n",
            "Requirement already satisfied: typing-extensions>=4.8.0 in ./.local/lib/python3.8/site-packages (from torch>=1.5.0->torch-optimizer) (4.12.2)\n",
            "Requirement already satisfied: sympy in ./.local/lib/python3.8/site-packages (from torch>=1.5.0->torch-optimizer) (1.13.3)\n",
            "Requirement already satisfied: networkx in ./.local/lib/python3.8/site-packages (from torch>=1.5.0->torch-optimizer) (3.1)\n",
            "Requirement already satisfied: jinja2 in ./.local/lib/python3.8/site-packages (from torch>=1.5.0->torch-optimizer) (3.1.5)\n",
            "Requirement already satisfied: fsspec in ./.local/lib/python3.8/site-packages (from torch>=1.5.0->torch-optimizer) (2024.9.0)\n",
            "Requirement already satisfied: nvidia-cuda-nvrtc-cu12==12.1.105 in ./.local/lib/python3.8/site-packages (from torch>=1.5.0->torch-optimizer) (12.1.105)\n",
            "Requirement already satisfied: nvidia-cuda-runtime-cu12==12.1.105 in ./.local/lib/python3.8/site-packages (from torch>=1.5.0->torch-optimizer) (12.1.105)\n",
            "Requirement already satisfied: nvidia-cuda-cupti-cu12==12.1.105 in ./.local/lib/python3.8/site-packages (from torch>=1.5.0->torch-optimizer) (12.1.105)\n",
            "Requirement already satisfied: nvidia-cudnn-cu12==9.1.0.70 in ./.local/lib/python3.8/site-packages (from torch>=1.5.0->torch-optimizer) (9.1.0.70)\n",
            "Requirement already satisfied: nvidia-cublas-cu12==12.1.3.1 in ./.local/lib/python3.8/site-packages (from torch>=1.5.0->torch-optimizer) (12.1.3.1)\n",
            "Requirement already satisfied: nvidia-cufft-cu12==11.0.2.54 in ./.local/lib/python3.8/site-packages (from torch>=1.5.0->torch-optimizer) (11.0.2.54)\n",
            "Requirement already satisfied: nvidia-curand-cu12==10.3.2.106 in ./.local/lib/python3.8/site-packages (from torch>=1.5.0->torch-optimizer) (10.3.2.106)\n",
            "Requirement already satisfied: nvidia-cusolver-cu12==11.4.5.107 in ./.local/lib/python3.8/site-packages (from torch>=1.5.0->torch-optimizer) (11.4.5.107)\n",
            "Requirement already satisfied: nvidia-cusparse-cu12==12.1.0.106 in ./.local/lib/python3.8/site-packages (from torch>=1.5.0->torch-optimizer) (12.1.0.106)\n",
            "Requirement already satisfied: nvidia-nccl-cu12==2.20.5 in ./.local/lib/python3.8/site-packages (from torch>=1.5.0->torch-optimizer) (2.20.5)\n",
            "Requirement already satisfied: nvidia-nvtx-cu12==12.1.105 in ./.local/lib/python3.8/site-packages (from torch>=1.5.0->torch-optimizer) (12.1.105)\n",
            "Requirement already satisfied: triton==3.0.0 in ./.local/lib/python3.8/site-packages (from torch>=1.5.0->torch-optimizer) (3.0.0)\n",
            "Requirement already satisfied: nvidia-nvjitlink-cu12 in ./.local/lib/python3.8/site-packages (from nvidia-cusolver-cu12==11.4.5.107->torch>=1.5.0->torch-optimizer) (12.8.61)\n",
            "Requirement already satisfied: MarkupSafe>=2.0 in ./.local/lib/python3.8/site-packages (from jinja2->torch>=1.5.0->torch-optimizer) (2.1.5)\n",
            "Requirement already satisfied: mpmath<1.4,>=1.1.0 in ./.local/lib/python3.8/site-packages (from sympy->torch>=1.5.0->torch-optimizer) (1.3.0)\n",
            "\n",
            "\u001b[1m[\u001b[0m\u001b[34;49mnotice\u001b[0m\u001b[1;39;49m]\u001b[0m\u001b[39;49m A new release of pip is available: \u001b[0m\u001b[31;49m23.2.1\u001b[0m\u001b[39;49m -> \u001b[0m\u001b[32;49m25.0.1\u001b[0m\n",
            "\u001b[1m[\u001b[0m\u001b[34;49mnotice\u001b[0m\u001b[1;39;49m]\u001b[0m\u001b[39;49m To update, run: \u001b[0m\u001b[32;49mpython3 -m pip install --upgrade pip\u001b[0m\n",
            "Defaulting to user installation because normal site-packages is not writeable\n",
            "Requirement already satisfied: transformers in ./.local/lib/python3.8/site-packages (4.46.3)\n",
            "Requirement already satisfied: datasets in ./.local/lib/python3.8/site-packages (3.1.0)\n",
            "Requirement already satisfied: filelock in ./.local/lib/python3.8/site-packages (from transformers) (3.16.1)\n",
            "Requirement already satisfied: huggingface-hub<1.0,>=0.23.2 in ./.local/lib/python3.8/site-packages (from transformers) (0.29.2)\n",
            "Requirement already satisfied: numpy>=1.17 in ./.local/lib/python3.8/site-packages (from transformers) (1.24.2)\n",
            "Requirement already satisfied: packaging>=20.0 in ./.local/lib/python3.8/site-packages (from transformers) (23.0)\n",
            "Requirement already satisfied: pyyaml>=5.1 in ./.local/lib/python3.8/site-packages (from transformers) (6.0.2)\n",
            "Requirement already satisfied: regex!=2019.12.17 in ./.local/lib/python3.8/site-packages (from transformers) (2024.11.6)\n",
            "Requirement already satisfied: requests in ./.local/lib/python3.8/site-packages (from transformers) (2.32.3)\n",
            "Requirement already satisfied: tokenizers<0.21,>=0.20 in ./.local/lib/python3.8/site-packages (from transformers) (0.20.3)\n",
            "Requirement already satisfied: safetensors>=0.4.1 in ./.local/lib/python3.8/site-packages (from transformers) (0.5.3)\n",
            "Requirement already satisfied: tqdm>=4.27 in ./.local/lib/python3.8/site-packages (from transformers) (4.67.1)\n",
            "Requirement already satisfied: pyarrow>=15.0.0 in ./.local/lib/python3.8/site-packages (from datasets) (17.0.0)\n",
            "Requirement already satisfied: dill<0.3.9,>=0.3.0 in ./.local/lib/python3.8/site-packages (from datasets) (0.3.8)\n",
            "Requirement already satisfied: pandas in ./.local/lib/python3.8/site-packages (from datasets) (2.0.3)\n",
            "Requirement already satisfied: xxhash in ./.local/lib/python3.8/site-packages (from datasets) (3.5.0)\n",
            "Requirement already satisfied: multiprocess<0.70.17 in ./.local/lib/python3.8/site-packages (from datasets) (0.70.16)\n",
            "Requirement already satisfied: fsspec[http]<=2024.9.0,>=2023.1.0 in ./.local/lib/python3.8/site-packages (from datasets) (2024.9.0)\n",
            "Requirement already satisfied: aiohttp in ./.local/lib/python3.8/site-packages (from datasets) (3.10.11)\n",
            "Requirement already satisfied: aiohappyeyeballs>=2.3.0 in ./.local/lib/python3.8/site-packages (from aiohttp->datasets) (2.4.4)\n",
            "Requirement already satisfied: aiosignal>=1.1.2 in ./.local/lib/python3.8/site-packages (from aiohttp->datasets) (1.3.1)\n",
            "Requirement already satisfied: attrs>=17.3.0 in ./.local/lib/python3.8/site-packages (from aiohttp->datasets) (25.1.0)\n",
            "Requirement already satisfied: frozenlist>=1.1.1 in ./.local/lib/python3.8/site-packages (from aiohttp->datasets) (1.5.0)\n",
            "Requirement already satisfied: multidict<7.0,>=4.5 in ./.local/lib/python3.8/site-packages (from aiohttp->datasets) (6.1.0)\n",
            "Requirement already satisfied: yarl<2.0,>=1.12.0 in ./.local/lib/python3.8/site-packages (from aiohttp->datasets) (1.15.2)\n",
            "Requirement already satisfied: async-timeout<6.0,>=4.0 in ./.local/lib/python3.8/site-packages (from aiohttp->datasets) (5.0.1)\n",
            "Requirement already satisfied: typing-extensions>=3.7.4.3 in ./.local/lib/python3.8/site-packages (from huggingface-hub<1.0,>=0.23.2->transformers) (4.12.2)\n",
            "Requirement already satisfied: charset-normalizer<4,>=2 in ./.local/lib/python3.8/site-packages (from requests->transformers) (3.4.1)\n",
            "Requirement already satisfied: idna<4,>=2.5 in /usr/lib/python3/dist-packages (from requests->transformers) (2.8)\n",
            "Requirement already satisfied: urllib3<3,>=1.21.1 in /usr/lib/python3/dist-packages (from requests->transformers) (1.25.8)\n",
            "Requirement already satisfied: certifi>=2017.4.17 in /usr/lib/python3/dist-packages (from requests->transformers) (2019.11.28)\n",
            "Requirement already satisfied: python-dateutil>=2.8.2 in ./.local/lib/python3.8/site-packages (from pandas->datasets) (2.9.0.post0)\n",
            "Requirement already satisfied: pytz>=2020.1 in ./.local/lib/python3.8/site-packages (from pandas->datasets) (2025.1)\n",
            "Requirement already satisfied: tzdata>=2022.1 in ./.local/lib/python3.8/site-packages (from pandas->datasets) (2025.1)\n",
            "Requirement already satisfied: six>=1.5 in /usr/lib/python3/dist-packages (from python-dateutil>=2.8.2->pandas->datasets) (1.14.0)\n",
            "Requirement already satisfied: propcache>=0.2.0 in ./.local/lib/python3.8/site-packages (from yarl<2.0,>=1.12.0->aiohttp->datasets) (0.2.0)\n",
            "\n",
            "\u001b[1m[\u001b[0m\u001b[34;49mnotice\u001b[0m\u001b[1;39;49m]\u001b[0m\u001b[39;49m A new release of pip is available: \u001b[0m\u001b[31;49m23.2.1\u001b[0m\u001b[39;49m -> \u001b[0m\u001b[32;49m25.0.1\u001b[0m\n",
            "\u001b[1m[\u001b[0m\u001b[34;49mnotice\u001b[0m\u001b[1;39;49m]\u001b[0m\u001b[39;49m To update, run: \u001b[0m\u001b[32;49mpython3 -m pip install --upgrade pip\u001b[0m\n"
          ]
        }
      ],
      "source": [
        "!pip install torch-optimizer\n",
        "!pip install transformers datasets"
      ]
    },
    {
      "cell_type": "code",
      "execution_count": null,
      "metadata": {
        "colab": {
          "base_uri": "https://localhost:8080/"
        },
        "collapsed": true,
        "id": "glb0_wf4K-sk",
        "outputId": "29b9ce40-e082-446b-ccbc-95e8d5184429"
      },
      "outputs": [
        {
          "name": "stderr",
          "output_type": "stream",
          "text": [
            "/home/liampatterson/.local/lib/python3.8/site-packages/tqdm/auto.py:21: TqdmWarning: IProgress not found. Please update jupyter and ipywidgets. See https://ipywidgets.readthedocs.io/en/stable/user_install.html\n",
            "  from .autonotebook import tqdm as notebook_tqdm\n"
          ]
        },
        {
          "name": "stdout",
          "output_type": "stream",
          "text": [
            "Using device: cuda\n"
          ]
        }
      ],
      "source": [
        "import torch\n",
        "import torch.nn as nn\n",
        "import torch.optim as optim\n",
        "import torch_optimizer as optim_ext\n",
        "import torchvision\n",
        "import torchvision.transforms as transforms\n",
        "import matplotlib.pyplot as plt\n",
        "from torch.cuda.amp import autocast, GradScaler\n",
        "import copy\n",
        "import gc\n",
        "import math\n",
        "import time\n",
        "import numpy as np\n",
        "from torch.utils.data import DataLoader\n",
        "from torch.optim import Optimizer\n",
        "\n",
        "from datasets import load_dataset\n",
        "from transformers import (\n",
        "    DistilBertTokenizerFast,\n",
        "    DistilBertForSequenceClassification\n",
        ")\n",
        "\n",
        "device = torch.device(\"cuda\" if torch.cuda.is_available() else \"cpu\")\n",
        "print(\"Using device:\", device)"
      ]
    },
    {
      "cell_type": "markdown",
      "metadata": {
        "id": "6-AQZ5fnGuwz"
      },
      "source": [
        "Shampoo Implementation"
      ]
    },
    {
      "cell_type": "code",
      "execution_count": null,
      "metadata": {
        "id": "sMM5njFDRxSk"
      },
      "outputs": [],
      "source": [
        "class Shampoo(Optimizer):\n",
        "    def __init__(\n",
        "        self,\n",
        "        params,\n",
        "        gamma=0.1,\n",
        "        alpha=0.8,\n",
        "        epsilon=1e-1,\n",
        "        f=50,\n",
        "        exponent=0.5,\n",
        "        diag_threshold=1200\n",
        "    ):\n",
        "        defaults = dict(\n",
        "            gamma=gamma,\n",
        "            alpha=alpha,\n",
        "            epsilon=epsilon,\n",
        "            f=f,\n",
        "            exponent=exponent,\n",
        "            diag_threshold=diag_threshold\n",
        "        )\n",
        "        super().__init__(params, defaults)\n",
        "\n",
        "    def _init_preconditioners(self, state, grad_f_W_t, epsilon, diag_threshold):\n",
        "        if \"H_t\" not in state:\n",
        "            k = grad_f_W_t.ndim\n",
        "            state[\"H_t\"] = {}\n",
        "            state[\"H_t_inv\"] = {}\n",
        "            state[\"dim_sizes\"] = list(grad_f_W_t.shape)\n",
        "\n",
        "            for i in range(k):\n",
        "                d_i = grad_f_W_t.shape[i]\n",
        "                if d_i > diag_threshold:\n",
        "                    H_i_init = epsilon * torch.ones(\n",
        "                        d_i, device=grad_f_W_t.device, dtype=grad_f_W_t.dtype\n",
        "                    )\n",
        "                else:\n",
        "                    H_i_init = epsilon * torch.eye(\n",
        "                        d_i, device=grad_f_W_t.device, dtype=grad_f_W_t.dtype\n",
        "                    )\n",
        "                state[\"H_t\"][i] = H_i_init\n",
        "                state[\"H_t_inv\"][i] = None\n",
        "\n",
        "    def _update_and_precondition(self, G_t, state, t, f, exponent):\n",
        "        G_t_tilde = G_t\n",
        "        k = G_t.ndim\n",
        "\n",
        "        for i in range(k):\n",
        "            G_t_tilde = G_t_tilde.transpose(0, i).contiguous()\n",
        "            d_i = state[\"dim_sizes\"][i]\n",
        "            original_shape = G_t_tilde.size()\n",
        "            G_t_i = G_t_tilde.view(d_i, -1)\n",
        "\n",
        "            H_i = state[\"H_t\"][i]\n",
        "            if H_i.dim() == 1:\n",
        "                diag_update = (G_t_i ** 2).sum(dim=1)\n",
        "                H_i.add_(diag_update)\n",
        "\n",
        "                if t % f == 0:\n",
        "                    H_i_inv = H_i.clamp_min(1e-12).pow(-exponent)\n",
        "                    state[\"H_t_inv\"][i] = H_i_inv\n",
        "\n",
        "                H_inv_i = state[\"H_t_inv\"][i]\n",
        "                if H_inv_i is not None:\n",
        "                    G_t_i = H_inv_i.unsqueeze(1) * G_t_i\n",
        "                G_t_tilde = G_t_i.view(original_shape).transpose(0, i)\n",
        "\n",
        "            else:\n",
        "                H_i.add_(G_t_i @ G_t_i.t())\n",
        "\n",
        "                if t % f == 0:\n",
        "                    eigvals, eigvecs = torch.linalg.eigh(H_i)\n",
        "                    eigvals = eigvals.clamp_min(1e-12).pow(-exponent)\n",
        "                    H_i_inv = eigvecs @ torch.diag(eigvals) @ eigvecs.transpose(-1, -2)\n",
        "                    state[\"H_t_inv\"][i] = H_i_inv\n",
        "\n",
        "                H_inv_i = state[\"H_t_inv\"][i]\n",
        "                if H_inv_i is not None:\n",
        "                    G_t_i = H_inv_i @ G_t_i\n",
        "                G_t_tilde = G_t_i.view(original_shape).transpose(0, i)\n",
        "\n",
        "        return G_t_tilde\n",
        "\n",
        "    @torch.no_grad()\n",
        "    def step(self):\n",
        "        for group in self.param_groups:\n",
        "            gamma = group[\"gamma\"]\n",
        "            alpha = group[\"alpha\"]\n",
        "            epsilon = group[\"epsilon\"]\n",
        "            f = group[\"f\"]\n",
        "            exponent = group[\"exponent\"]\n",
        "            diag_threshold = group[\"diag_threshold\"]\n",
        "\n",
        "            if \"t\" not in group:\n",
        "                group[\"t\"] = 0\n",
        "            group[\"t\"] += 1\n",
        "            t = group[\"t\"]\n",
        "\n",
        "            for W_t in group[\"params\"]:\n",
        "                if W_t.grad is None:\n",
        "                    continue\n",
        "\n",
        "                grad_f_W_t = W_t.grad.data\n",
        "                state = self.state[W_t]\n",
        "\n",
        "                if \"G_t\" not in state:\n",
        "                    state[\"G_t\"] = torch.zeros_like(grad_f_W_t)\n",
        "                G_t = state[\"G_t\"]\n",
        "                G_t.mul_(alpha).add_(grad_f_W_t, alpha=(1 - alpha))\n",
        "\n",
        "                self._init_preconditioners(state, grad_f_W_t, epsilon, diag_threshold)\n",
        "\n",
        "                G_t_tilde = self._update_and_precondition(G_t, state, t, f, exponent)\n",
        "\n",
        "                W_t.data.add_(G_t_tilde, alpha=-gamma)\n"
      ]
    },
    {
      "cell_type": "markdown",
      "metadata": {
        "id": "TbwwXtKXFG7j"
      },
      "source": [
        "Helpers"
      ]
    },
    {
      "cell_type": "code",
      "execution_count": null,
      "metadata": {
        "id": "YpMnAGTiFITC"
      },
      "outputs": [],
      "source": [
        "def _create_optimizer(optimizer_name, parameters,\n",
        "                      lr=0.2, momentum=0.8, eps=1e-1,\n",
        "                      update_freq=5, weight_decay=0.0, alpha=None):\n",
        "    if alpha is None:\n",
        "        alpha = momentum\n",
        "\n",
        "    if optimizer_name == 'SGD':\n",
        "        return optim.SGD(parameters, lr=lr, momentum=momentum)\n",
        "    elif optimizer_name == 'Adam':\n",
        "        return optim.Adam(parameters, lr=lr, eps=eps)\n",
        "    elif optimizer_name == 'AdamW':\n",
        "        return optim.AdamW(parameters, lr=lr, eps=eps)\n",
        "    elif optimizer_name == 'Adagrad':\n",
        "        return optim.Adagrad(parameters, lr=lr)\n",
        "    elif optimizer_name == 'Shampoo':\n",
        "        return Shampoo(parameters,\n",
        "                       gamma=lr,\n",
        "                       alpha=momentum,\n",
        "                       epsilon=eps,\n",
        "                       f=update_freq)\n",
        "    elif optimizer_name == 'ReferenceShampoo':\n",
        "        return optim_ext.Shampoo(parameters,\n",
        "                                 lr=lr,\n",
        "                                 momentum=momentum,\n",
        "                                 epsilon=eps,\n",
        "                                 update_freq=update_freq,\n",
        "                                 weight_decay=weight_decay)\n",
        "    else:\n",
        "        raise ValueError(f\"Unknown optimizer {optimizer_name}\")\n",
        "def _create_optimizer(optimizer_name, parameters,\n",
        "                      lr=0.2, momentum=0.8, eps=1e-1,\n",
        "                      update_freq=5, weight_decay=0.0, alpha=None):\n",
        "    if alpha is None:\n",
        "        alpha = momentum\n",
        "\n",
        "    if optimizer_name == 'SGD':\n",
        "        return optim.SGD(parameters, lr=0.001, momentum=.9)\n",
        "    elif optimizer_name == 'Adam':\n",
        "        return optim.Adam(parameters, lr=.001, weight_decay=.001)\n",
        "    elif optimizer_name == 'AdamW':\n",
        "        return optim.AdamW(parameters, lr=.001, weight_decay=.001)\n",
        "    elif optimizer_name == 'Adagrad':\n",
        "        return optim.Adagrad(parameters, lr=.001, weight_decay=.001)\n",
        "    elif optimizer_name == 'Shampoo':\n",
        "        return Shampoo(parameters,\n",
        "                       gamma=.001,\n",
        "                       alpha=.8,\n",
        "                       epsilon=1e-1,\n",
        "                       f=50)\n",
        "    elif optimizer_name == 'ReferenceShampoo':\n",
        "        return optim_ext.Shampoo(parameters,\n",
        "                                 lr=lr,\n",
        "                                 momentum=momentum,\n",
        "                                 epsilon=eps,\n",
        "                                 update_freq=update_freq,\n",
        "                                 weight_decay=weight_decay)\n",
        "    else:\n",
        "        raise ValueError(f\"Unknown optimizer {optimizer_name}\")"
      ]
    },
    {
      "cell_type": "markdown",
      "metadata": {
        "id": "G4Z61wigFLnR"
      },
      "source": [
        "CIFAR-10 / RESNET"
      ]
    },
    {
      "cell_type": "code",
      "execution_count": null,
      "metadata": {
        "id": "WTz4LY8ZFNHE"
      },
      "outputs": [],
      "source": [
        "train_loader = None\n",
        "test_loader = None\n",
        "def _train_loop_cifar(model, optimizer, train_loader, test_loader, device,\n",
        "                      num_epochs, lr, momentum, eps, update_freq, weight_decay,\n",
        "                      optimizer_name):\n",
        "    criterion = nn.CrossEntropyLoss()\n",
        "\n",
        "    train_loss_per_epoch = []\n",
        "    test_acc_per_epoch = []\n",
        "    mem_usage_per_epoch = []\n",
        "    avg_step_time_per_epoch = []\n",
        "\n",
        "    for epoch in range(1, num_epochs + 1):\n",
        "        model.train()\n",
        "        running_loss = 0.0\n",
        "\n",
        "        if device.type == 'cuda':\n",
        "            torch.cuda.reset_peak_memory_stats(device)\n",
        "\n",
        "        start_epoch_time = time.time()\n",
        "\n",
        "        for images, labels in train_loader:\n",
        "            images, labels = images.to(device), labels.to(device)\n",
        "            outputs = model(images)\n",
        "            loss = criterion(outputs, labels)\n",
        "\n",
        "            optimizer.zero_grad()\n",
        "            loss.backward()\n",
        "            optimizer.step()\n",
        "\n",
        "            running_loss += loss.item()\n",
        "\n",
        "        end_epoch_time = time.time()\n",
        "        epoch_duration = end_epoch_time - start_epoch_time\n",
        "        average_step_time = epoch_duration / len(train_loader)\n",
        "        avg_step_time_per_epoch.append(average_step_time)\n",
        "\n",
        "        avg_loss = running_loss / len(train_loader)\n",
        "        train_loss_per_epoch.append(avg_loss)\n",
        "\n",
        "        model.eval()\n",
        "        correct = 0\n",
        "        total = 0\n",
        "        with torch.no_grad():\n",
        "            for images, labels in test_loader:\n",
        "                images, labels = images.to(device), labels.to(device)\n",
        "                outputs = model(images)\n",
        "                _, predicted = torch.max(outputs, 1)\n",
        "                total += labels.size(0)\n",
        "                correct += (predicted == labels).sum().item()\n",
        "\n",
        "        accuracy = 100.0 * correct / total\n",
        "        test_acc_per_epoch.append(accuracy)\n",
        "\n",
        "        if device.type == 'cuda':\n",
        "            peak_mem = torch.cuda.max_memory_allocated(device) / (1024**2)\n",
        "        else:\n",
        "            peak_mem = 0.0\n",
        "        mem_usage_per_epoch.append(peak_mem)\n",
        "\n",
        "        print(f\"[{optimizer_name}] Epoch {epoch}/{num_epochs} | \"\n",
        "              f\" Test Acc: {accuracy:.2f}% | \"\n",
        "              f\"PeakMem: {peak_mem:.1f} MB | Avg Step Time: {average_step_time:.4f}s\")\n",
        "\n",
        "    return train_loss_per_epoch, test_acc_per_epoch, mem_usage_per_epoch, avg_step_time_per_epoch"
      ]
    },
    {
      "cell_type": "code",
      "execution_count": null,
      "metadata": {
        "colab": {
          "base_uri": "https://localhost:8080/"
        },
        "id": "MzRgnTI6Fcrj",
        "outputId": "3d0286c3-2dab-44ce-fa73-a004b3f12f4d"
      },
      "outputs": [
        {
          "name": "stdout",
          "output_type": "stream",
          "text": [
            "Files already downloaded and verified\n",
            "Files already downloaded and verified\n"
          ]
        }
      ],
      "source": [
        "transform = transforms.Compose([\n",
        "    transforms.ToTensor(),\n",
        "    transforms.Normalize((0.4914, 0.4822, 0.4465), (0.2470, 0.2435, 0.2616))\n",
        "])\n",
        "\n",
        "train_dataset = torchvision.datasets.CIFAR10(\n",
        "    root='./data', train=True, download=True, transform=transform)\n",
        "test_dataset = torchvision.datasets.CIFAR10(\n",
        "    root='./data', train=False, download=True, transform=transform)\n",
        "\n",
        "train_loader = torch.utils.data.DataLoader(\n",
        "    train_dataset, batch_size=256, shuffle=True, num_workers=6)\n",
        "test_loader = torch.utils.data.DataLoader(\n",
        "    test_dataset, batch_size=256, shuffle=False, num_workers=6)\n"
      ]
    },
    {
      "cell_type": "markdown",
      "metadata": {
        "id": "3SbS_3msFoZQ"
      },
      "source": [
        "# **RESNET-34 Optimizer Comparisons**"
      ]
    },
    {
      "cell_type": "code",
      "execution_count": null,
      "metadata": {
        "id": "GOs0pyTIFOu2"
      },
      "outputs": [],
      "source": [
        "def run_cifar_experiment():\n",
        "  base_model = torchvision.models.resnet34(weights=None, num_classes=10)\n",
        "\n",
        "  optimizers_to_compare = [\"Shampoo\", \"SGD\", \"Adam\", \"AdamW\", \"Adagrad\"]\n",
        "  num_epochs = 30\n",
        "\n",
        "  results = {}\n",
        "\n",
        "  for opt_name in optimizers_to_compare:\n",
        "      gc.collect()\n",
        "      torch.cuda.empty_cache()\n",
        "      print(f\"\\n===== Training with {opt_name} =====\")\n",
        "\n",
        "      model_copy = copy.deepcopy(base_model).to(device)\n",
        "\n",
        "      optimizer = _create_optimizer_cifar_10(\n",
        "          opt_name, model_copy.parameters(),\n",
        "          lr=0.2, momentum=0.4, eps=1e-1,\n",
        "          update_freq=3, weight_decay=0.0\n",
        "      )\n",
        "\n",
        "      (train_loss, test_acc, mem_usage, step_time) = _train_loop_cifar(\n",
        "          model_copy, optimizer,\n",
        "          train_loader, test_loader, device,\n",
        "          num_epochs=num_epochs,\n",
        "          lr=0.2, momentum=0.4, eps=1e-1,\n",
        "          update_freq=5, weight_decay=0.0,\n",
        "          optimizer_name=opt_name\n",
        "      )\n",
        "\n",
        "      results[opt_name] = {\n",
        "          \"loss\": train_loss,\n",
        "          \"acc\": test_acc,\n",
        "          \"mem\": mem_usage,\n",
        "          \"time\": step_time\n",
        "      }\n",
        "\n",
        "  epochs_range = range(1, num_epochs + 1)\n",
        "  plt.figure(figsize=(20, 4))\n",
        "\n",
        "  plt.subplot(1, 4, 1)\n",
        "  for opt_name in optimizers_to_compare:\n",
        "      plt.plot(epochs_range, results[opt_name][\"loss\"], label=opt_name)\n",
        "  plt.title(\"Training Loss\")\n",
        "  plt.xlabel(\"Epoch\")\n",
        "  plt.ylabel(\"Loss\")\n",
        "  plt.legend()\n",
        "\n",
        "  plt.subplot(1, 4, 2)\n",
        "  for opt_name in optimizers_to_compare:\n",
        "      plt.plot(epochs_range, results[opt_name][\"acc\"], label=opt_name)\n",
        "  plt.title(\"Test Accuracy\")\n",
        "  plt.xlabel(\"Epoch\")\n",
        "  plt.ylabel(\"Accuracy (%)\")\n",
        "  plt.legend()\n",
        "\n",
        "  plt.subplot(1, 4, 3)\n",
        "  for opt_name in optimizers_to_compare:\n",
        "      plt.plot(epochs_range, results[opt_name][\"mem\"], label=opt_name)\n",
        "  plt.title(\"Peak GPU Memory Usage\")\n",
        "  plt.xlabel(\"Epoch\")\n",
        "  plt.ylabel(\"MB\")\n",
        "  plt.legend()\n",
        "\n",
        "  plt.subplot(1, 4, 4)\n",
        "  for opt_name in optimizers_to_compare:\n",
        "      plt.plot(epochs_range, results[opt_name][\"time\"], label=opt_name)\n",
        "  plt.title(\"Avg Step Time Per Epoch\")\n",
        "  plt.xlabel(\"Epoch\")\n",
        "  plt.ylabel(\"Time (s)\")\n",
        "  plt.legend()\n",
        "\n",
        "  plt.tight_layout()\n",
        "  plt.show()"
      ]
    },
    {
      "cell_type": "code",
      "execution_count": null,
      "metadata": {
        "colab": {
          "base_uri": "https://localhost:8080/",
          "height": 1000
        },
        "id": "mzeFce9fFrnH",
        "outputId": "7bcb265c-9fed-48d4-9d52-23d6c141aaad"
      },
      "outputs": [
        {
          "name": "stdout",
          "output_type": "stream",
          "text": [
            "\n",
            "===== Training with Shampoo =====\n",
            "[Shampoo] Epoch 1/30 |  Test Acc: 47.82% | PeakMem: 1132.0 MB | Avg Step Time: 0.0397s\n",
            "[Shampoo] Epoch 2/30 |  Test Acc: 50.16% | PeakMem: 1132.8 MB | Avg Step Time: 0.0456s\n",
            "[Shampoo] Epoch 3/30 |  Test Acc: 51.03% | PeakMem: 1132.5 MB | Avg Step Time: 0.0455s\n",
            "[Shampoo] Epoch 4/30 |  Test Acc: 51.64% | PeakMem: 1132.8 MB | Avg Step Time: 0.0451s\n",
            "[Shampoo] Epoch 5/30 |  Test Acc: 51.28% | PeakMem: 1132.5 MB | Avg Step Time: 0.0447s\n",
            "[Shampoo] Epoch 6/30 |  Test Acc: 50.71% | PeakMem: 1132.8 MB | Avg Step Time: 0.0450s\n",
            "[Shampoo] Epoch 7/30 |  Test Acc: 51.09% | PeakMem: 1132.5 MB | Avg Step Time: 0.0458s\n",
            "[Shampoo] Epoch 8/30 |  Test Acc: 50.89% | PeakMem: 1132.8 MB | Avg Step Time: 0.0459s\n",
            "[Shampoo] Epoch 9/30 |  Test Acc: 50.91% | PeakMem: 1132.5 MB | Avg Step Time: 0.0441s\n",
            "[Shampoo] Epoch 10/30 |  Test Acc: 50.58% | PeakMem: 1132.8 MB | Avg Step Time: 0.0436s\n",
            "[Shampoo] Epoch 11/30 |  Test Acc: 50.55% | PeakMem: 1132.5 MB | Avg Step Time: 0.0458s\n",
            "[Shampoo] Epoch 12/30 |  Test Acc: 50.31% | PeakMem: 1132.8 MB | Avg Step Time: 0.0451s\n",
            "[Shampoo] Epoch 13/30 |  Test Acc: 49.94% | PeakMem: 1132.5 MB | Avg Step Time: 0.0405s\n",
            "[Shampoo] Epoch 14/30 |  Test Acc: 50.09% | PeakMem: 1132.8 MB | Avg Step Time: 0.0457s\n",
            "[Shampoo] Epoch 15/30 |  Test Acc: 49.73% | PeakMem: 1132.5 MB | Avg Step Time: 0.0441s\n",
            "[Shampoo] Epoch 16/30 |  Test Acc: 49.32% | PeakMem: 1132.8 MB | Avg Step Time: 0.0409s\n",
            "[Shampoo] Epoch 17/30 |  Test Acc: 49.30% | PeakMem: 1132.5 MB | Avg Step Time: 0.0411s\n",
            "[Shampoo] Epoch 18/30 |  Test Acc: 49.77% | PeakMem: 1132.8 MB | Avg Step Time: 0.0451s\n",
            "[Shampoo] Epoch 19/30 |  Test Acc: 49.73% | PeakMem: 1132.5 MB | Avg Step Time: 0.0444s\n",
            "[Shampoo] Epoch 20/30 |  Test Acc: 48.97% | PeakMem: 1132.8 MB | Avg Step Time: 0.0416s\n",
            "[Shampoo] Epoch 21/30 |  Test Acc: 49.55% | PeakMem: 1132.5 MB | Avg Step Time: 0.0435s\n",
            "[Shampoo] Epoch 22/30 |  Test Acc: 49.07% | PeakMem: 1132.8 MB | Avg Step Time: 0.0443s\n",
            "[Shampoo] Epoch 23/30 |  Test Acc: 49.24% | PeakMem: 1132.5 MB | Avg Step Time: 0.0442s\n",
            "[Shampoo] Epoch 24/30 |  Test Acc: 49.08% | PeakMem: 1132.8 MB | Avg Step Time: 0.0468s\n",
            "[Shampoo] Epoch 25/30 |  Test Acc: 49.26% | PeakMem: 1132.5 MB | Avg Step Time: 0.0462s\n",
            "[Shampoo] Epoch 26/30 |  Test Acc: 48.92% | PeakMem: 1132.8 MB | Avg Step Time: 0.0419s\n",
            "[Shampoo] Epoch 27/30 |  Test Acc: 49.37% | PeakMem: 1132.5 MB | Avg Step Time: 0.0445s\n",
            "[Shampoo] Epoch 28/30 |  Test Acc: 49.11% | PeakMem: 1132.8 MB | Avg Step Time: 0.0463s\n",
            "[Shampoo] Epoch 29/30 |  Test Acc: 49.10% | PeakMem: 1132.5 MB | Avg Step Time: 0.0444s\n",
            "[Shampoo] Epoch 30/30 |  Test Acc: 48.93% | PeakMem: 1132.8 MB | Avg Step Time: 0.0410s\n",
            "\n",
            "===== Training with SGD =====\n",
            "[SGD] Epoch 1/30 |  Test Acc: 27.59% | PeakMem: 1046.3 MB | Avg Step Time: 0.0153s\n",
            "[SGD] Epoch 2/30 |  Test Acc: 44.37% | PeakMem: 1045.0 MB | Avg Step Time: 0.0146s\n",
            "[SGD] Epoch 3/30 |  Test Acc: 46.06% | PeakMem: 1045.8 MB | Avg Step Time: 0.0149s\n",
            "[SGD] Epoch 4/30 |  Test Acc: 55.79% | PeakMem: 1047.3 MB | Avg Step Time: 0.0146s\n",
            "[SGD] Epoch 5/30 |  Test Acc: 56.92% | PeakMem: 1047.3 MB | Avg Step Time: 0.0142s\n",
            "[SGD] Epoch 6/30 |  Test Acc: 61.56% | PeakMem: 1047.8 MB | Avg Step Time: 0.0147s\n",
            "[SGD] Epoch 7/30 |  Test Acc: 60.08% | PeakMem: 1047.8 MB | Avg Step Time: 0.0149s\n",
            "[SGD] Epoch 8/30 |  Test Acc: 63.48% | PeakMem: 1047.8 MB | Avg Step Time: 0.0147s\n",
            "[SGD] Epoch 9/30 |  Test Acc: 63.98% | PeakMem: 1047.8 MB | Avg Step Time: 0.0139s\n",
            "[SGD] Epoch 10/30 |  Test Acc: 66.23% | PeakMem: 1047.8 MB | Avg Step Time: 0.0140s\n",
            "[SGD] Epoch 11/30 |  Test Acc: 62.66% | PeakMem: 1047.8 MB | Avg Step Time: 0.0148s\n",
            "[SGD] Epoch 12/30 |  Test Acc: 23.26% | PeakMem: 1047.8 MB | Avg Step Time: 0.0148s\n",
            "[SGD] Epoch 13/30 |  Test Acc: 65.51% | PeakMem: 1047.8 MB | Avg Step Time: 0.0145s\n",
            "[SGD] Epoch 14/30 |  Test Acc: 48.09% | PeakMem: 1047.8 MB | Avg Step Time: 0.0146s\n",
            "[SGD] Epoch 15/30 |  Test Acc: 67.25% | PeakMem: 1047.8 MB | Avg Step Time: 0.0149s\n",
            "[SGD] Epoch 16/30 |  Test Acc: 67.42% | PeakMem: 1047.8 MB | Avg Step Time: 0.0147s\n",
            "[SGD] Epoch 17/30 |  Test Acc: 69.25% | PeakMem: 1047.8 MB | Avg Step Time: 0.0145s\n",
            "[SGD] Epoch 18/30 |  Test Acc: 69.05% | PeakMem: 1047.8 MB | Avg Step Time: 0.0147s\n",
            "[SGD] Epoch 19/30 |  Test Acc: 68.74% | PeakMem: 1047.8 MB | Avg Step Time: 0.0147s\n",
            "[SGD] Epoch 20/30 |  Test Acc: 68.27% | PeakMem: 1047.8 MB | Avg Step Time: 0.0142s\n",
            "[SGD] Epoch 21/30 |  Test Acc: 69.27% | PeakMem: 1047.8 MB | Avg Step Time: 0.0152s\n",
            "[SGD] Epoch 22/30 |  Test Acc: 69.36% | PeakMem: 1047.8 MB | Avg Step Time: 0.0153s\n",
            "[SGD] Epoch 23/30 |  Test Acc: 70.54% | PeakMem: 1047.8 MB | Avg Step Time: 0.0148s\n",
            "[SGD] Epoch 24/30 |  Test Acc: 68.62% | PeakMem: 1047.8 MB | Avg Step Time: 0.0145s\n",
            "[SGD] Epoch 25/30 |  Test Acc: 71.08% | PeakMem: 1047.8 MB | Avg Step Time: 0.0166s\n",
            "[SGD] Epoch 26/30 |  Test Acc: 71.96% | PeakMem: 1047.8 MB | Avg Step Time: 0.0163s\n",
            "[SGD] Epoch 27/30 |  Test Acc: 71.04% | PeakMem: 1047.8 MB | Avg Step Time: 0.0165s\n",
            "[SGD] Epoch 28/30 |  Test Acc: 70.07% | PeakMem: 1047.8 MB | Avg Step Time: 0.0164s\n",
            "[SGD] Epoch 29/30 |  Test Acc: 71.18% | PeakMem: 1047.8 MB | Avg Step Time: 0.0164s\n",
            "[SGD] Epoch 30/30 |  Test Acc: 70.82% | PeakMem: 1047.8 MB | Avg Step Time: 0.0164s\n",
            "\n",
            "===== Training with Adam =====\n",
            "[Adam] Epoch 1/30 |  Test Acc: 11.54% | PeakMem: 1125.9 MB | Avg Step Time: 0.0176s\n",
            "[Adam] Epoch 2/30 |  Test Acc: 15.65% | PeakMem: 1127.9 MB | Avg Step Time: 0.0164s\n",
            "[Adam] Epoch 3/30 |  Test Acc: 20.43% | PeakMem: 1125.6 MB | Avg Step Time: 0.0177s\n",
            "[Adam] Epoch 4/30 |  Test Acc: 23.82% | PeakMem: 1127.9 MB | Avg Step Time: 0.0174s\n",
            "[Adam] Epoch 5/30 |  Test Acc: 23.53% | PeakMem: 1127.1 MB | Avg Step Time: 0.0178s\n",
            "[Adam] Epoch 6/30 |  Test Acc: 31.86% | PeakMem: 1126.6 MB | Avg Step Time: 0.0175s\n",
            "[Adam] Epoch 7/30 |  Test Acc: 34.06% | PeakMem: 1126.6 MB | Avg Step Time: 0.0156s\n",
            "[Adam] Epoch 8/30 |  Test Acc: 37.25% | PeakMem: 1126.6 MB | Avg Step Time: 0.0157s\n",
            "[Adam] Epoch 9/30 |  Test Acc: 38.85% | PeakMem: 1126.6 MB | Avg Step Time: 0.0153s\n",
            "[Adam] Epoch 10/30 |  Test Acc: 43.05% | PeakMem: 1126.6 MB | Avg Step Time: 0.0170s\n",
            "[Adam] Epoch 11/30 |  Test Acc: 45.06% | PeakMem: 1126.6 MB | Avg Step Time: 0.0174s\n",
            "[Adam] Epoch 12/30 |  Test Acc: 49.42% | PeakMem: 1126.6 MB | Avg Step Time: 0.0175s\n",
            "[Adam] Epoch 13/30 |  Test Acc: 49.31% | PeakMem: 1126.6 MB | Avg Step Time: 0.0174s\n",
            "[Adam] Epoch 14/30 |  Test Acc: 52.39% | PeakMem: 1126.6 MB | Avg Step Time: 0.0176s\n",
            "[Adam] Epoch 15/30 |  Test Acc: 57.06% | PeakMem: 1126.6 MB | Avg Step Time: 0.0175s\n",
            "[Adam] Epoch 16/30 |  Test Acc: 59.51% | PeakMem: 1126.6 MB | Avg Step Time: 0.0174s\n",
            "[Adam] Epoch 17/30 |  Test Acc: 61.48% | PeakMem: 1126.6 MB | Avg Step Time: 0.0172s\n",
            "[Adam] Epoch 18/30 |  Test Acc: 62.40% | PeakMem: 1126.6 MB | Avg Step Time: 0.0176s\n",
            "[Adam] Epoch 19/30 |  Test Acc: 63.74% | PeakMem: 1126.6 MB | Avg Step Time: 0.0178s\n",
            "[Adam] Epoch 20/30 |  Test Acc: 63.25% | PeakMem: 1126.6 MB | Avg Step Time: 0.0177s\n",
            "[Adam] Epoch 21/30 |  Test Acc: 64.23% | PeakMem: 1126.6 MB | Avg Step Time: 0.0178s\n",
            "[Adam] Epoch 22/30 |  Test Acc: 65.60% | PeakMem: 1126.6 MB | Avg Step Time: 0.0159s\n",
            "[Adam] Epoch 23/30 |  Test Acc: 66.00% | PeakMem: 1126.6 MB | Avg Step Time: 0.0167s\n",
            "[Adam] Epoch 24/30 |  Test Acc: 66.36% | PeakMem: 1126.6 MB | Avg Step Time: 0.0173s\n",
            "[Adam] Epoch 25/30 |  Test Acc: 66.03% | PeakMem: 1126.6 MB | Avg Step Time: 0.0166s\n",
            "[Adam] Epoch 26/30 |  Test Acc: 65.34% | PeakMem: 1126.6 MB | Avg Step Time: 0.0165s\n",
            "[Adam] Epoch 27/30 |  Test Acc: 65.98% | PeakMem: 1126.6 MB | Avg Step Time: 0.0161s\n",
            "[Adam] Epoch 28/30 |  Test Acc: 65.98% | PeakMem: 1126.6 MB | Avg Step Time: 0.0166s\n",
            "[Adam] Epoch 29/30 |  Test Acc: 64.24% | PeakMem: 1126.6 MB | Avg Step Time: 0.0170s\n",
            "[Adam] Epoch 30/30 |  Test Acc: 66.31% | PeakMem: 1126.6 MB | Avg Step Time: 0.0177s\n",
            "\n",
            "===== Training with AdamW =====\n",
            "[AdamW] Epoch 1/30 |  Test Acc: 18.65% | PeakMem: 1126.9 MB | Avg Step Time: 0.0184s\n",
            "[AdamW] Epoch 2/30 |  Test Acc: 25.32% | PeakMem: 1125.6 MB | Avg Step Time: 0.0183s\n",
            "[AdamW] Epoch 3/30 |  Test Acc: 24.62% | PeakMem: 1125.6 MB | Avg Step Time: 0.0184s\n",
            "[AdamW] Epoch 4/30 |  Test Acc: 45.99% | PeakMem: 1125.6 MB | Avg Step Time: 0.0180s\n",
            "[AdamW] Epoch 5/30 |  Test Acc: 54.17% | PeakMem: 1125.6 MB | Avg Step Time: 0.0183s\n",
            "[AdamW] Epoch 6/30 |  Test Acc: 56.56% | PeakMem: 1125.6 MB | Avg Step Time: 0.0179s\n",
            "[AdamW] Epoch 7/30 |  Test Acc: 62.00% | PeakMem: 1125.6 MB | Avg Step Time: 0.0179s\n",
            "[AdamW] Epoch 8/30 |  Test Acc: 61.61% | PeakMem: 1125.6 MB | Avg Step Time: 0.0179s\n",
            "[AdamW] Epoch 9/30 |  Test Acc: 65.86% | PeakMem: 1125.6 MB | Avg Step Time: 0.0180s\n",
            "[AdamW] Epoch 10/30 |  Test Acc: 65.38% | PeakMem: 1125.6 MB | Avg Step Time: 0.0180s\n",
            "[AdamW] Epoch 11/30 |  Test Acc: 67.32% | PeakMem: 1125.6 MB | Avg Step Time: 0.0172s\n",
            "[AdamW] Epoch 12/30 |  Test Acc: 62.34% | PeakMem: 1125.6 MB | Avg Step Time: 0.0169s\n",
            "[AdamW] Epoch 13/30 |  Test Acc: 64.17% | PeakMem: 1125.6 MB | Avg Step Time: 0.0179s\n",
            "[AdamW] Epoch 14/30 |  Test Acc: 70.20% | PeakMem: 1125.6 MB | Avg Step Time: 0.0182s\n",
            "[AdamW] Epoch 15/30 |  Test Acc: 69.55% | PeakMem: 1125.6 MB | Avg Step Time: 0.0173s\n",
            "[AdamW] Epoch 16/30 |  Test Acc: 60.44% | PeakMem: 1125.6 MB | Avg Step Time: 0.0163s\n",
            "[AdamW] Epoch 17/30 |  Test Acc: 63.71% | PeakMem: 1125.6 MB | Avg Step Time: 0.0170s\n",
            "[AdamW] Epoch 18/30 |  Test Acc: 62.33% | PeakMem: 1125.6 MB | Avg Step Time: 0.0185s\n",
            "[AdamW] Epoch 19/30 |  Test Acc: 64.54% | PeakMem: 1125.6 MB | Avg Step Time: 0.0184s\n",
            "[AdamW] Epoch 20/30 |  Test Acc: 69.14% | PeakMem: 1125.6 MB | Avg Step Time: 0.0168s\n",
            "[AdamW] Epoch 21/30 |  Test Acc: 66.89% | PeakMem: 1125.6 MB | Avg Step Time: 0.0166s\n",
            "[AdamW] Epoch 22/30 |  Test Acc: 64.74% | PeakMem: 1125.6 MB | Avg Step Time: 0.0163s\n",
            "[AdamW] Epoch 23/30 |  Test Acc: 64.59% | PeakMem: 1125.6 MB | Avg Step Time: 0.0157s\n",
            "[AdamW] Epoch 24/30 |  Test Acc: 70.37% | PeakMem: 1125.6 MB | Avg Step Time: 0.0166s\n",
            "[AdamW] Epoch 25/30 |  Test Acc: 68.50% | PeakMem: 1125.6 MB | Avg Step Time: 0.0167s\n",
            "[AdamW] Epoch 26/30 |  Test Acc: 69.17% | PeakMem: 1125.6 MB | Avg Step Time: 0.0162s\n",
            "[AdamW] Epoch 27/30 |  Test Acc: 71.11% | PeakMem: 1125.6 MB | Avg Step Time: 0.0160s\n",
            "[AdamW] Epoch 28/30 |  Test Acc: 71.01% | PeakMem: 1125.6 MB | Avg Step Time: 0.0164s\n",
            "[AdamW] Epoch 29/30 |  Test Acc: 69.46% | PeakMem: 1125.6 MB | Avg Step Time: 0.0176s\n",
            "[AdamW] Epoch 30/30 |  Test Acc: 68.11% | PeakMem: 1125.6 MB | Avg Step Time: 0.0171s\n",
            "\n",
            "===== Training with Adagrad =====\n",
            "[Adagrad] Epoch 1/30 |  Test Acc: 19.14% | PeakMem: 1047.1 MB | Avg Step Time: 0.0170s\n",
            "[Adagrad] Epoch 2/30 |  Test Acc: 24.19% | PeakMem: 1047.3 MB | Avg Step Time: 0.0169s\n",
            "[Adagrad] Epoch 3/30 |  Test Acc: 32.56% | PeakMem: 1047.3 MB | Avg Step Time: 0.0171s\n",
            "[Adagrad] Epoch 4/30 |  Test Acc: 40.37% | PeakMem: 1047.3 MB | Avg Step Time: 0.0168s\n",
            "[Adagrad] Epoch 5/30 |  Test Acc: 36.93% | PeakMem: 1047.3 MB | Avg Step Time: 0.0164s\n",
            "[Adagrad] Epoch 6/30 |  Test Acc: 49.06% | PeakMem: 1047.3 MB | Avg Step Time: 0.0155s\n",
            "[Adagrad] Epoch 7/30 |  Test Acc: 50.08% | PeakMem: 1047.3 MB | Avg Step Time: 0.0147s\n",
            "[Adagrad] Epoch 8/30 |  Test Acc: 52.49% | PeakMem: 1047.3 MB | Avg Step Time: 0.0144s\n",
            "[Adagrad] Epoch 9/30 |  Test Acc: 48.19% | PeakMem: 1047.3 MB | Avg Step Time: 0.0149s\n",
            "[Adagrad] Epoch 10/30 |  Test Acc: 55.57% | PeakMem: 1047.3 MB | Avg Step Time: 0.0157s\n",
            "[Adagrad] Epoch 11/30 |  Test Acc: 61.11% | PeakMem: 1047.3 MB | Avg Step Time: 0.0153s\n",
            "[Adagrad] Epoch 12/30 |  Test Acc: 64.19% | PeakMem: 1047.3 MB | Avg Step Time: 0.0163s\n",
            "[Adagrad] Epoch 13/30 |  Test Acc: 63.13% | PeakMem: 1047.3 MB | Avg Step Time: 0.0167s\n",
            "[Adagrad] Epoch 14/30 |  Test Acc: 60.45% | PeakMem: 1047.3 MB | Avg Step Time: 0.0170s\n",
            "[Adagrad] Epoch 15/30 |  Test Acc: 57.43% | PeakMem: 1047.3 MB | Avg Step Time: 0.0169s\n",
            "[Adagrad] Epoch 16/30 |  Test Acc: 61.61% | PeakMem: 1047.3 MB | Avg Step Time: 0.0171s\n",
            "[Adagrad] Epoch 17/30 |  Test Acc: 63.70% | PeakMem: 1047.3 MB | Avg Step Time: 0.0166s\n",
            "[Adagrad] Epoch 18/30 |  Test Acc: 64.46% | PeakMem: 1047.3 MB | Avg Step Time: 0.0168s\n",
            "[Adagrad] Epoch 19/30 |  Test Acc: 60.79% | PeakMem: 1047.3 MB | Avg Step Time: 0.0168s\n",
            "[Adagrad] Epoch 20/30 |  Test Acc: 62.33% | PeakMem: 1047.3 MB | Avg Step Time: 0.0170s\n",
            "[Adagrad] Epoch 21/30 |  Test Acc: 64.61% | PeakMem: 1047.3 MB | Avg Step Time: 0.0169s\n",
            "[Adagrad] Epoch 22/30 |  Test Acc: 67.94% | PeakMem: 1047.3 MB | Avg Step Time: 0.0166s\n",
            "[Adagrad] Epoch 23/30 |  Test Acc: 67.74% | PeakMem: 1047.3 MB | Avg Step Time: 0.0160s\n",
            "[Adagrad] Epoch 24/30 |  Test Acc: 65.95% | PeakMem: 1047.3 MB | Avg Step Time: 0.0169s\n",
            "[Adagrad] Epoch 25/30 |  Test Acc: 62.12% | PeakMem: 1047.3 MB | Avg Step Time: 0.0169s\n",
            "[Adagrad] Epoch 26/30 |  Test Acc: 60.05% | PeakMem: 1047.3 MB | Avg Step Time: 0.0170s\n",
            "[Adagrad] Epoch 27/30 |  Test Acc: 68.65% | PeakMem: 1047.3 MB | Avg Step Time: 0.0168s\n",
            "[Adagrad] Epoch 28/30 |  Test Acc: 66.95% | PeakMem: 1047.3 MB | Avg Step Time: 0.0170s\n",
            "[Adagrad] Epoch 29/30 |  Test Acc: 69.54% | PeakMem: 1047.3 MB | Avg Step Time: 0.0169s\n",
            "[Adagrad] Epoch 30/30 |  Test Acc: 62.08% | PeakMem: 1047.3 MB | Avg Step Time: 0.0169s\n"
          ]
        },
        {
          "data": {
            "image/png": "[encoded data removed]",
            "text/plain": [
              "<Figure size 2000x400 with 4 Axes>"
            ]
          },
          "metadata": {},
          "output_type": "display_data"
        }
      ],
      "source": [
        "run_cifar_experiment()"
      ]
    },
    {
      "cell_type": "markdown",
      "metadata": {
        "id": "ouGCAknTGqlE"
      },
      "source": [
        "# ***DistilBERT SST-2***"
      ]
    },
    {
      "cell_type": "markdown",
      "metadata": {
        "id": "raL73IrpFvXw"
      },
      "source": [
        "Setup"
      ]
    },
    {
      "cell_type": "code",
      "execution_count": null,
      "metadata": {
        "colab": {
          "base_uri": "https://localhost:8080/"
        },
        "id": "QHezNB9OF0Cf",
        "outputId": "990ce1da-7557-4f5b-e092-0dfc6102d77b"
      },
      "outputs": [
        {
          "name": "stderr",
          "output_type": "stream",
          "text": [
            "Some weights of DistilBertForSequenceClassification were not initialized from the model checkpoint at distilbert-base-uncased and are newly initialized: ['classifier.bias', 'classifier.weight', 'pre_classifier.bias', 'pre_classifier.weight']\n",
            "You should probably TRAIN this model on a down-stream task to be able to use it for predictions and inference.\n"
          ]
        }
      ],
      "source": [
        "data = load_dataset(\"glue\", \"sst2\")\n",
        "train_data = data[\"train\"]\n",
        "val_data   = data[\"validation\"]\n",
        "\n",
        "tokenizer = DistilBertTokenizerFast.from_pretrained(\"distilbert-base-uncased\")\n",
        "\n",
        "def tokenize_batch(batch):\n",
        "    return tokenizer(batch[\"sentence\"], padding=\"max_length\", truncation=True, max_length=128)\n",
        "\n",
        "train_data = train_data.map(tokenize_batch, batched=True)\n",
        "val_data   = val_data.map(tokenize_batch,   batched=True)\n",
        "\n",
        "train_data.set_format(\"torch\", columns=[\"input_ids\", \"attention_mask\", \"label\"])\n",
        "val_data.set_format(\"torch\",   columns=[\"input_ids\", \"attention_mask\", \"label\"])\n",
        "\n",
        "train_loader_nlp = torch.utils.data.DataLoader(train_data, batch_size=256, shuffle=True)\n",
        "val_loader_nlp   = torch.utils.data.DataLoader(val_data,   batch_size=256, shuffle=False)\n",
        "\n",
        "base_model_nlp = DistilBertForSequenceClassification.from_pretrained(\n",
        "    \"distilbert-base-uncased\", num_labels=2\n",
        ").to(device)"
      ]
    },
    {
      "cell_type": "code",
      "execution_count": null,
      "metadata": {
        "id": "Yb4XurOgF-JC"
      },
      "outputs": [],
      "source": [
        "def train_and_eval_bert(optimizer_name, base_model, train_loader, val_loader, device, num_epochs=3):\n",
        "    model = copy.deepcopy(base_model).to(device)\n",
        "    if optimizer_name == \"SGD\":\n",
        "      optimizer = optim.SGD(model.parameters(), lr=0.01, momentum=0.9, weight_decay=0.0)\n",
        "    elif optimizer_name == \"Adam\":\n",
        "        optimizer = optim.Adam(model.parameters(), lr=1e-5, weight_decay=.0001)\n",
        "    elif optimizer_name == \"AdamW\":\n",
        "        optimizer = optim.AdamW(model.parameters(), lr=1e-4, weight_decay=0.0001)\n",
        "    elif optimizer_name == \"Adagrad\":\n",
        "        optimizer = optim.Adagrad(model.parameters(), lr=1e-4, weight_decay=0.0001)\n",
        "    elif optimizer_name == 'Shampoo':\n",
        "        optimizer = Shampoo(model.parameters(),\n",
        "              gamma=1e-4,\n",
        "              alpha=0.9,\n",
        "              epsilon=1e-4,\n",
        "              f=100,\n",
        "              exponent=0.5,\n",
        "              diag_threshold=1200)\n",
        "    else:\n",
        "        raise ValueError(f\"Unknown optimizer {optimizer_name}\")\n",
        "\n",
        "    criterion = nn.CrossEntropyLoss()\n",
        "\n",
        "    train_loss_per_epoch = []\n",
        "    val_acc_per_epoch = []\n",
        "    mem_usage_per_epoch = []\n",
        "    avg_step_time_per_epoch = []\n",
        "\n",
        "    for epoch in range(1, num_epochs + 1):\n",
        "        model.train()\n",
        "        running_loss = 0.0\n",
        "\n",
        "        if device.type == \"cuda\":\n",
        "            torch.cuda.reset_peak_memory_stats(device)\n",
        "\n",
        "        start_epoch_time = time.time()\n",
        "        print_interval = 100\n",
        "\n",
        "        for batch_idx, batch in enumerate(train_loader, start=1):\n",
        "            input_ids      = batch[\"input_ids\"].to(device)\n",
        "            attention_mask = batch[\"attention_mask\"].to(device)\n",
        "            labels         = batch[\"label\"].to(device)\n",
        "\n",
        "            outputs = model(input_ids=input_ids, attention_mask=attention_mask, labels=labels)\n",
        "            loss = outputs.loss\n",
        "\n",
        "            optimizer.zero_grad()\n",
        "            loss.backward()\n",
        "            optimizer.step()\n",
        "\n",
        "            running_loss += loss.item()\n",
        "            if batch_idx % print_interval == 0:\n",
        "                current_loss = running_loss / batch_idx\n",
        "                print(f\"[{optimizer_name}] Epoch {epoch}/{num_epochs} - \"\n",
        "                      f\"Batch {batch_idx}/{len(train_loader)} - Avg Loss: {current_loss:.4f}\")\n",
        "\n",
        "        epoch_duration = time.time() - start_epoch_time\n",
        "        average_step_time = epoch_duration / len(train_loader)\n",
        "        avg_step_time_per_epoch.append(average_step_time)\n",
        "\n",
        "        avg_loss = running_loss / len(train_loader)\n",
        "        train_loss_per_epoch.append(avg_loss)\n",
        "\n",
        "        model.eval()\n",
        "        correct = 0\n",
        "        total   = 0\n",
        "        with torch.no_grad():\n",
        "            for batch in val_loader:\n",
        "                input_ids      = batch[\"input_ids\"].to(device)\n",
        "                attention_mask = batch[\"attention_mask\"].to(device)\n",
        "                labels         = batch[\"label\"].to(device)\n",
        "\n",
        "                outputs = model(input_ids=input_ids, attention_mask=attention_mask)\n",
        "                logits  = outputs.logits\n",
        "                _, predicted = torch.max(logits, dim=1)\n",
        "\n",
        "                total += labels.size(0)\n",
        "                correct += (predicted == labels).sum().item()\n",
        "\n",
        "        accuracy = 100.0 * correct / total\n",
        "        val_acc_per_epoch.append(accuracy)\n",
        "\n",
        "        if device.type == \"cuda\":\n",
        "            peak_mem = torch.cuda.max_memory_allocated(device) / (1024 ** 2)\n",
        "        else:\n",
        "            peak_mem = 0.0\n",
        "        mem_usage_per_epoch.append(peak_mem)\n",
        "\n",
        "        print(f\"[{optimizer_name}] Epoch {epoch}/{num_epochs} | \"\n",
        "              f\"Loss: {avg_loss:.4f} | Val Acc: {accuracy:.2f}% | \"\n",
        "              f\"PeakMem: {peak_mem:.1f} MB | StepTime: {average_step_time:.4f}s\")\n",
        "\n",
        "    return train_loss_per_epoch, val_acc_per_epoch, mem_usage_per_epoch, avg_step_time_per_epoch"
      ]
    },
    {
      "cell_type": "code",
      "execution_count": null,
      "metadata": {
        "id": "wGZrAcA5GEGG"
      },
      "outputs": [],
      "source": [
        "def run_bert_experiment():\n",
        "    optimizers_to_compare_nlp = [\"Shampoo\", \"SGD\", \"Adam\", \"AdamW\", \"Adagrad\"]\n",
        "    num_epochs_nlp = 3\n",
        "    results_nlp = {}\n",
        "\n",
        "    for opt_name in optimizers_to_compare_nlp:\n",
        "        gc.collect()\n",
        "        torch.cuda.empty_cache()\n",
        "        print(f\"\\n===== Training DistilBERT with {opt_name} =====\")\n",
        "\n",
        "        train_loss, val_acc, mem_usage, step_time = train_and_eval_bert(\n",
        "            opt_name,\n",
        "            base_model_nlp,\n",
        "            train_loader_nlp,\n",
        "            val_loader_nlp,\n",
        "            device,\n",
        "            num_epochs=num_epochs_nlp\n",
        "        )\n",
        "\n",
        "        results_nlp[opt_name] = {\n",
        "            \"loss\": train_loss,\n",
        "            \"acc\": val_acc,\n",
        "            \"mem\": mem_usage,\n",
        "            \"time\": step_time\n",
        "        }\n",
        "\n",
        "    epochs_range_nlp = range(1, num_epochs_nlp + 1)\n",
        "    plt.figure(figsize=(20, 4))\n",
        "\n",
        "    plt.subplot(1, 4, 1)\n",
        "    for opt_name in optimizers_to_compare_nlp:\n",
        "        plt.plot(epochs_range_nlp, results_nlp[opt_name][\"loss\"], label=opt_name)\n",
        "    plt.title(\"Training Loss (NLP)\")\n",
        "    plt.xlabel(\"Epoch\")\n",
        "    plt.ylabel(\"Loss\")\n",
        "    plt.legend()\n",
        "\n",
        "    plt.subplot(1, 4, 2)\n",
        "    for opt_name in optimizers_to_compare_nlp:\n",
        "        plt.plot(epochs_range_nlp, results_nlp[opt_name][\"acc\"], label=opt_name)\n",
        "    plt.title(\"Validation Accuracy (NLP)\")\n",
        "    plt.xlabel(\"Epoch\")\n",
        "    plt.ylabel(\"Accuracy (%)\")\n",
        "    plt.legend()\n",
        "\n",
        "    plt.subplot(1, 4, 3)\n",
        "    for opt_name in optimizers_to_compare_nlp:\n",
        "        plt.plot(epochs_range_nlp, results_nlp[opt_name][\"mem\"], label=opt_name)\n",
        "    plt.title(\"Peak GPU Memory Usage (NLP)\")\n",
        "    plt.xlabel(\"Epoch\")\n",
        "    plt.ylabel(\"MB\")\n",
        "    plt.legend()\n",
        "\n",
        "    plt.subplot(1, 4, 4)\n",
        "    for opt_name in optimizers_to_compare_nlp:\n",
        "        plt.plot(epochs_range_nlp, results_nlp[opt_name][\"time\"], label=opt_name)\n",
        "    plt.title(\"Avg Step Time Per Epoch (NLP)\")\n",
        "    plt.xlabel(\"Epoch\")\n",
        "    plt.ylabel(\"Time (s)\")\n",
        "    plt.legend()\n",
        "\n",
        "    plt.tight_layout()\n",
        "    plt.show()\n"
      ]
    },
    {
      "cell_type": "code",
      "execution_count": null,
      "metadata": {
        "colab": {
          "base_uri": "https://localhost:8080/",
          "height": 1000
        },
        "id": "E546U3PMGH-Y",
        "outputId": "0040bff4-df41-402e-e6a6-109e024d5219"
      },
      "outputs": [
        {
          "name": "stdout",
          "output_type": "stream",
          "text": [
            "\n",
            "===== Training DistilBERT with Shampoo =====\n",
            "[Shampoo] Epoch 1/3 - Batch 100/264 - Avg Loss: 0.6962\n",
            "[Shampoo] Epoch 1/3 - Batch 200/264 - Avg Loss: 0.6215\n",
            "[Shampoo] Epoch 1/3 | Loss: 0.5405 | Val Acc: 88.42% | PeakMem: 11635.4 MB | StepTime: 0.6149s\n",
            "[Shampoo] Epoch 2/3 - Batch 100/264 - Avg Loss: 0.2618\n",
            "[Shampoo] Epoch 2/3 - Batch 200/264 - Avg Loss: 0.2615\n",
            "[Shampoo] Epoch 2/3 | Loss: 0.2596 | Val Acc: 88.76% | PeakMem: 11635.9 MB | StepTime: 0.6167s\n",
            "[Shampoo] Epoch 3/3 - Batch 100/264 - Avg Loss: 0.2622\n",
            "[Shampoo] Epoch 3/3 - Batch 200/264 - Avg Loss: 0.2584\n",
            "[Shampoo] Epoch 3/3 | Loss: 0.2572 | Val Acc: 88.42% | PeakMem: 11635.9 MB | StepTime: 0.5221s\n",
            "\n",
            "===== Training DistilBERT with SGD =====\n",
            "[SGD] Epoch 1/3 - Batch 100/264 - Avg Loss: 0.4280\n",
            "[SGD] Epoch 1/3 - Batch 200/264 - Avg Loss: 0.3337\n",
            "[SGD] Epoch 1/3 | Loss: 0.3056 | Val Acc: 89.91% | PeakMem: 11082.7 MB | StepTime: 0.4950s\n",
            "[SGD] Epoch 2/3 - Batch 100/264 - Avg Loss: 0.1646\n",
            "[SGD] Epoch 2/3 - Batch 200/264 - Avg Loss: 0.1635\n",
            "[SGD] Epoch 2/3 | Loss: 0.1605 | Val Acc: 89.22% | PeakMem: 11083.4 MB | StepTime: 0.4962s\n",
            "[SGD] Epoch 3/3 - Batch 100/264 - Avg Loss: 0.1104\n",
            "[SGD] Epoch 3/3 - Batch 200/264 - Avg Loss: 0.1145\n",
            "[SGD] Epoch 3/3 | Loss: 0.1162 | Val Acc: 89.33% | PeakMem: 11083.7 MB | StepTime: 0.4961s\n",
            "\n",
            "===== Training DistilBERT with Adam =====\n",
            "[Adam] Epoch 1/3 - Batch 100/264 - Avg Loss: 0.4365\n",
            "[Adam] Epoch 1/3 - Batch 200/264 - Avg Loss: 0.3488\n",
            "[Adam] Epoch 1/3 | Loss: 0.3221 | Val Acc: 88.30% | PeakMem: 11338.1 MB | StepTime: 0.5003s\n",
            "[Adam] Epoch 2/3 - Batch 100/264 - Avg Loss: 0.1960\n",
            "[Adam] Epoch 2/3 - Batch 200/264 - Avg Loss: 0.1912\n",
            "[Adam] Epoch 2/3 | Loss: 0.1877 | Val Acc: 90.14% | PeakMem: 11338.6 MB | StepTime: 0.5008s\n",
            "[Adam] Epoch 3/3 - Batch 100/264 - Avg Loss: 0.1466\n",
            "[Adam] Epoch 3/3 - Batch 200/264 - Avg Loss: 0.1462\n",
            "[Adam] Epoch 3/3 | Loss: 0.1464 | Val Acc: 90.71% | PeakMem: 11338.5 MB | StepTime: 0.5002s\n",
            "\n",
            "===== Training DistilBERT with AdamW =====\n",
            "[AdamW] Epoch 1/3 - Batch 100/264 - Avg Loss: 0.2887\n",
            "[AdamW] Epoch 1/3 - Batch 200/264 - Avg Loss: 0.2372\n",
            "[AdamW] Epoch 1/3 | Loss: 0.2204 | Val Acc: 89.79% | PeakMem: 11338.1 MB | StepTime: 0.5002s\n",
            "[AdamW] Epoch 2/3 - Batch 100/264 - Avg Loss: 0.1075\n",
            "[AdamW] Epoch 2/3 - Batch 200/264 - Avg Loss: 0.1087\n",
            "[AdamW] Epoch 2/3 | Loss: 0.1090 | Val Acc: 90.37% | PeakMem: 11338.6 MB | StepTime: 0.5001s\n",
            "[AdamW] Epoch 3/3 - Batch 100/264 - Avg Loss: 0.0718\n",
            "[AdamW] Epoch 3/3 - Batch 200/264 - Avg Loss: 0.0718\n",
            "[AdamW] Epoch 3/3 | Loss: 0.0731 | Val Acc: 90.48% | PeakMem: 11338.5 MB | StepTime: 0.5011s\n",
            "\n",
            "===== Training DistilBERT with Adagrad =====\n",
            "[Adagrad] Epoch 1/3 - Batch 100/264 - Avg Loss: 0.3300\n",
            "[Adagrad] Epoch 1/3 - Batch 200/264 - Avg Loss: 0.2840\n",
            "[Adagrad] Epoch 1/3 | Loss: 0.2706 | Val Acc: 88.88% | PeakMem: 11085.4 MB | StepTime: 0.4991s\n",
            "[Adagrad] Epoch 2/3 - Batch 100/264 - Avg Loss: 0.1897\n",
            "[Adagrad] Epoch 2/3 - Batch 200/264 - Avg Loss: 0.1845\n",
            "[Adagrad] Epoch 2/3 | Loss: 0.1840 | Val Acc: 90.71% | PeakMem: 11084.8 MB | StepTime: 0.5735s\n",
            "[Adagrad] Epoch 3/3 - Batch 100/264 - Avg Loss: 0.1617\n",
            "[Adagrad] Epoch 3/3 - Batch 200/264 - Avg Loss: 0.1610\n",
            "[Adagrad] Epoch 3/3 | Loss: 0.1597 | Val Acc: 90.60% | PeakMem: 11084.4 MB | StepTime: 0.5980s\n"
          ]
        },
        {
          "data": {
            "image/png": "[encoded data removed]",
            "text/plain": [
              "<Figure size 2000x400 with 4 Axes>"
            ]
          },
          "metadata": {},
          "output_type": "display_data"
        }
      ],
      "source": [
        "run_bert_experiment()"
      ]
    },
    {
      "cell_type": "code",
      "execution_count": null,
      "metadata": {
        "id": "yyXuZi2YfU9t"
      },
      "outputs": [],
      "source": [
        "gc.collect()\n",
        "torch.cuda.empty_cache()"
      ]
    },
    {
      "cell_type": "markdown",
      "metadata": {
        "id": "Rp-xD_fqHsWM"
      },
      "source": [
        "# **1/2 vs 1/4 Exponent**"
      ]
    },
    {
      "cell_type": "code",
      "execution_count": null,
      "metadata": {
        "id": "Mmn2IXG5GU66"
      },
      "outputs": [],
      "source": [
        "def train_with_optimizer(opt_class, opt_kwargs, train_loader, test_loader, device, num_epochs=10):\n",
        "    torch.manual_seed(42)\n",
        "    model = torchvision.models.resnet34(weights=None, num_classes=10).to(device)\n",
        "\n",
        "    optimizer = opt_class(model.parameters(), **opt_kwargs)\n",
        "    criterion = nn.CrossEntropyLoss()\n",
        "\n",
        "    epoch_metrics = {\"loss\": [], \"time\": []}\n",
        "\n",
        "    for epoch in range(1, num_epochs + 1):\n",
        "        model.train()\n",
        "        running_loss = 0.0\n",
        "\n",
        "        if device.type == \"cuda\":\n",
        "            torch.cuda.reset_peak_memory_stats(device)\n",
        "\n",
        "        start_epoch = time.time()\n",
        "        print_interval = 10\n",
        "\n",
        "        for batch_idx, (images, labels) in enumerate(train_loader, start=1):\n",
        "            images, labels = images.to(device), labels.to(device)\n",
        "            outputs = model(images)\n",
        "            loss = criterion(outputs, labels)\n",
        "\n",
        "            optimizer.zero_grad()\n",
        "            loss.backward()\n",
        "            optimizer.step()\n",
        "\n",
        "            running_loss += loss.item()\n",
        "\n",
        "\n",
        "        epoch_time = time.time() - start_epoch\n",
        "        epoch_loss = running_loss / len(train_loader)\n",
        "        epoch_metrics[\"loss\"].append(epoch_loss)\n",
        "        epoch_metrics[\"time\"].append(epoch_time)\n",
        "        print(f\"Epoch {epoch} completed in {epoch_time:.2f}s - Loss: {epoch_loss:.4f}\")\n",
        "\n",
        "    model.eval()\n",
        "    correct = 0\n",
        "    total = 0\n",
        "    with torch.no_grad():\n",
        "        for images, labels in test_loader:\n",
        "            images, labels = images.to(device), labels.to(device)\n",
        "            outputs = model(images)\n",
        "            _, predicted = torch.max(outputs, dim=1)\n",
        "            total += labels.size(0)\n",
        "            correct += (predicted == labels).sum().item()\n",
        "\n",
        "    accuracy = 100.0 * correct / total\n",
        "    print(f\"Test Accuracy: {accuracy:.2f}%\")\n",
        "    return accuracy, epoch_metrics"
      ]
    },
    {
      "cell_type": "code",
      "execution_count": null,
      "metadata": {
        "id": "F3_BqhkhGWlL"
      },
      "outputs": [],
      "source": [
        "def run_preconditioner_exp_test():\n",
        "  print(\"\\nTraining with Shampoo optimizer (preconditioner exponent = 1/4)...\")\n",
        "  acc_1_4, metrics_1_4 = train_with_optimizer(\n",
        "    Shampoo,\n",
        "    {'exponent': 0.25},\n",
        "    train_loader, test_loader, device, num_epochs=10\n",
        "  )\n",
        "  print(f\"Final Test Accuracy with Shampoo (1/4 exponent): {acc_1_4:.2f}%\")\n",
        "\n",
        "  print(\"\\nTraining with Shampoo optimizer (preconditioner exponent = 1/2)...\")\n",
        "  acc_1_2, metrics_1_2 = train_with_optimizer(\n",
        "    Shampoo,\n",
        "    {'exponent': 0.5},\n",
        "    train_loader, test_loader, device, num_epochs=10\n",
        "  )\n",
        "  print(f\"Final Test Accuracy with Shampoo (1/2 exponent): {acc_1_2:.2f}%\")"
      ]
    },
    {
      "cell_type": "code",
      "execution_count": null,
      "metadata": {
        "colab": {
          "base_uri": "https://localhost:8080/"
        },
        "id": "9gexD1_lGZ7r",
        "outputId": "670fc2a6-845f-4fef-b92d-932aca168824"
      },
      "outputs": [
        {
          "name": "stdout",
          "output_type": "stream",
          "text": [
            "\n",
            "Training with Shampoo optimizer (preconditioner exponent = 1/4)...\n",
            "Epoch 1 completed in 7.65s - Loss: 1.6743\n",
            "Epoch 2 completed in 8.47s - Loss: 1.2324\n",
            "Epoch 3 completed in 8.21s - Loss: 1.0029\n",
            "Epoch 4 completed in 8.86s - Loss: 0.8037\n",
            "Epoch 5 completed in 8.88s - Loss: 0.6011\n",
            "Epoch 6 completed in 9.03s - Loss: 0.4097\n",
            "Epoch 7 completed in 8.85s - Loss: 0.2554\n",
            "Epoch 8 completed in 8.30s - Loss: 0.1732\n",
            "Epoch 9 completed in 8.80s - Loss: 0.1090\n",
            "Epoch 10 completed in 8.47s - Loss: 0.0729\n",
            "Test Accuracy: 59.97%\n",
            "Final Test Accuracy with Shampoo (1/4 exponent): 59.97%\n",
            "\n",
            "Training with Shampoo optimizer (preconditioner exponent = 1/2)...\n",
            "Epoch 1 completed in 7.01s - Loss: 1.6886\n",
            "Epoch 2 completed in 8.51s - Loss: 1.2578\n",
            "Epoch 3 completed in 8.96s - Loss: 1.0982\n",
            "Epoch 4 completed in 8.88s - Loss: 0.9657\n",
            "Epoch 5 completed in 8.83s - Loss: 0.8493\n",
            "Epoch 6 completed in 8.93s - Loss: 0.7456\n",
            "Epoch 7 completed in 8.79s - Loss: 0.6457\n",
            "Epoch 8 completed in 9.08s - Loss: 0.5651\n",
            "Epoch 9 completed in 9.02s - Loss: 0.4805\n",
            "Epoch 10 completed in 8.99s - Loss: 0.4117\n",
            "Test Accuracy: 53.98%\n",
            "Final Test Accuracy with Shampoo (1/2 exponent): 53.98%\n"
          ]
        }
      ],
      "source": [
        "run_preconditioner_exp_test()"
      ]
    },
    {
      "cell_type": "markdown",
      "metadata": {
        "id": "FzxXrqyJUP_2"
      },
      "source": [
        "# **Grid Search Utils**"
      ]
    },
    {
      "cell_type": "code",
      "execution_count": null,
      "metadata": {
        "id": "8KJ63sbdCV2j"
      },
      "outputs": [],
      "source": [
        "def train_and_eval_grid(\n",
        "    optimizer_name,\n",
        "    model,\n",
        "    train_loader,\n",
        "    test_loader,\n",
        "    device,\n",
        "    num_epochs=5,\n",
        "    learning_rate=0.0002,\n",
        "    momentum=0.4,\n",
        "    epsilon=1e-4,\n",
        "    update_freq=5,\n",
        "    weight_decay=0.0\n",
        "):\n",
        "    model_copy = copy.deepcopy(model).to(device)\n",
        "\n",
        "    optimizer = _create_optimizer(\n",
        "        optimizer_name, model_copy.parameters(),\n",
        "        lr=learning_rate, momentum=momentum, eps=epsilon,\n",
        "        update_freq=update_freq, weight_decay=weight_decay\n",
        "    )\n",
        "\n",
        "    train_loss, test_acc, mem_usage, step_time = _train_loop_cifar(\n",
        "        model_copy, optimizer, train_loader, test_loader, device,\n",
        "        num_epochs, learning_rate, momentum, epsilon, update_freq, weight_decay,\n",
        "        optimizer_name\n",
        "    )\n",
        "\n",
        "    return train_loss, test_acc, mem_usage, step_time"
      ]
    },
    {
      "cell_type": "code",
      "execution_count": null,
      "metadata": {
        "id": "9UspTXQjGqFJ"
      },
      "outputs": [],
      "source": [
        "def run_grid_search():\n",
        "  optimizer_to_search = \"Shampoo\"\n",
        "  param_grid = {\n",
        "      \"learning_rate\": [0.1, .01, .001, .0001],\n",
        "      \"momentum\": [0.4, 0.8],\n",
        "      \"epsilon\": [1e-1, 1e-4],\n",
        "      \"update_freq\": [50],\n",
        "      \"weight_decay\": [0]\n",
        "  }\n",
        "\n",
        "  best_accuracy = 0.0\n",
        "  best_params = None\n",
        "  all_results = []\n",
        "\n",
        "  for wd in param_grid[\"weight_decay\"]:\n",
        "      for lr in param_grid[\"learning_rate\"]:\n",
        "          for mom in param_grid[\"momentum\"]:\n",
        "              for eps in param_grid[\"epsilon\"]:\n",
        "                  for freq in param_grid[\"update_freq\"]:\n",
        "                      gc.collect()\n",
        "                      torch.cuda.empty_cache()\n",
        "\n",
        "                      print(\"\\n--- GRID SEARCH COMBO ---\")\n",
        "                      print(f\"Optimizer: {optimizer_to_search} | LR={lr}, Momentum={mom}, Eps={eps}, \"\n",
        "                            f\"UpdateFreq={freq}, WeightDecay={wd}\")\n",
        "                      try:\n",
        "                          train_loss, test_acc, mem_usage, step_time = train_and_eval_grid(\n",
        "                              optimizer_name=optimizer_to_search,\n",
        "                              model=torchvision.models.resnet34(weights=None, num_classes=10),\n",
        "                              train_loader=train_loader,\n",
        "                              test_loader=test_loader,\n",
        "                              device=device,\n",
        "                              num_epochs=3,\n",
        "                              learning_rate=lr,\n",
        "                              momentum=mom,\n",
        "                              epsilon=eps,\n",
        "                              update_freq=freq,\n",
        "                              weight_decay=wd\n",
        "                          )\n",
        "                      except RuntimeError as e:\n",
        "                          if \"linalg.eigh\" in str(e):\n",
        "                              print(\"Caught LinAlgError for parameters: \"\n",
        "                                    f\"LR={lr}, Momentum={mom}, Eps={eps}, UpdateFreq={freq}. Skipping...\")\n",
        "                              continue\n",
        "                          else:\n",
        "                              raise\n",
        "\n",
        "                      final_accuracy = test_acc[-1]\n",
        "                      if final_accuracy > best_accuracy:\n",
        "                          best_accuracy = final_accuracy\n",
        "                          best_params = (lr, mom, eps, freq, wd)\n",
        "\n",
        "                      all_results.append({\n",
        "                          \"optimizer\": optimizer_to_search,\n",
        "                          \"learning_rate\": lr,\n",
        "                          \"momentum\": mom,\n",
        "                          \"epsilon\": eps,\n",
        "                          \"update_freq\": freq,\n",
        "                          \"weight_decay\": wd,\n",
        "                          \"train_loss\": train_loss,\n",
        "                          \"test_acc\": test_acc,\n",
        "                          \"mem_usage\": mem_usage,\n",
        "                          \"step_time\": step_time\n",
        "                      })\n",
        "\n",
        "  print(f\"\\nBest final accuracy: {best_accuracy:.2f}%\")\n",
        "  print(f\"Best params: LR={best_params[0]}, Momentum={best_params[1]}, \"\n",
        "        f\"Epsilon={best_params[2]}, UpdateFreq={best_params[3]}, Weight_decay={best_params[4]}\")\n"
      ]
    },
    {
      "cell_type": "code",
      "execution_count": null,
      "metadata": {
        "colab": {
          "base_uri": "https://localhost:8080/"
        },
        "id": "nSu55OvBGq6f",
        "outputId": "ae92f54d-3f7f-480a-b066-323bc5e1f097"
      },
      "outputs": [
        {
          "name": "stdout",
          "output_type": "stream",
          "text": [
            "\n",
            "--- GRID SEARCH COMBO ---\n",
            "Optimizer: Shampoo | LR=0.1, Momentum=0.4, Eps=0.1, UpdateFreq=50, WeightDecay=0\n",
            "[Shampoo] Epoch 1/3 |  Test Acc: 48.27% | PeakMem: 2104.7 MB | Avg Step Time: 0.0415s\n",
            "[Shampoo] Epoch 2/3 |  Test Acc: 50.93% | PeakMem: 2102.7 MB | Avg Step Time: 0.0482s\n",
            "[Shampoo] Epoch 3/3 |  Test Acc: 51.55% | PeakMem: 2102.7 MB | Avg Step Time: 0.0475s\n",
            "\n",
            "--- GRID SEARCH COMBO ---\n",
            "Optimizer: Shampoo | LR=0.1, Momentum=0.4, Eps=0.0001, UpdateFreq=50, WeightDecay=0\n",
            "[Shampoo] Epoch 1/3 |  Test Acc: 48.81% | PeakMem: 2104.7 MB | Avg Step Time: 0.0397s\n",
            "[Shampoo] Epoch 2/3 |  Test Acc: 50.45% | PeakMem: 2102.7 MB | Avg Step Time: 0.0430s\n",
            "[Shampoo] Epoch 3/3 |  Test Acc: 51.50% | PeakMem: 2102.7 MB | Avg Step Time: 0.0450s\n",
            "\n",
            "--- GRID SEARCH COMBO ---\n",
            "Optimizer: Shampoo | LR=0.1, Momentum=0.8, Eps=0.1, UpdateFreq=50, WeightDecay=0\n",
            "[Shampoo] Epoch 1/3 |  Test Acc: 48.60% | PeakMem: 2104.7 MB | Avg Step Time: 0.0400s\n",
            "[Shampoo] Epoch 2/3 |  Test Acc: 50.21% | PeakMem: 2102.7 MB | Avg Step Time: 0.0466s\n",
            "[Shampoo] Epoch 3/3 |  Test Acc: 51.42% | PeakMem: 2102.7 MB | Avg Step Time: 0.0482s\n",
            "\n",
            "--- GRID SEARCH COMBO ---\n",
            "Optimizer: Shampoo | LR=0.1, Momentum=0.8, Eps=0.0001, UpdateFreq=50, WeightDecay=0\n",
            "[Shampoo] Epoch 1/3 |  Test Acc: 48.21% | PeakMem: 2104.7 MB | Avg Step Time: 0.0425s\n",
            "[Shampoo] Epoch 2/3 |  Test Acc: 50.57% | PeakMem: 2102.7 MB | Avg Step Time: 0.0485s\n",
            "[Shampoo] Epoch 3/3 |  Test Acc: 51.22% | PeakMem: 2102.7 MB | Avg Step Time: 0.0473s\n",
            "\n",
            "--- GRID SEARCH COMBO ---\n",
            "Optimizer: Shampoo | LR=0.01, Momentum=0.4, Eps=0.1, UpdateFreq=50, WeightDecay=0\n",
            "[Shampoo] Epoch 1/3 |  Test Acc: 48.55% | PeakMem: 2104.7 MB | Avg Step Time: 0.0411s\n",
            "[Shampoo] Epoch 2/3 |  Test Acc: 50.37% | PeakMem: 2102.7 MB | Avg Step Time: 0.0483s\n",
            "[Shampoo] Epoch 3/3 |  Test Acc: 51.14% | PeakMem: 2102.7 MB | Avg Step Time: 0.0480s\n",
            "\n",
            "--- GRID SEARCH COMBO ---\n",
            "Optimizer: Shampoo | LR=0.01, Momentum=0.4, Eps=0.0001, UpdateFreq=50, WeightDecay=0\n",
            "[Shampoo] Epoch 1/3 |  Test Acc: 48.65% | PeakMem: 2104.7 MB | Avg Step Time: 0.0420s\n",
            "[Shampoo] Epoch 2/3 |  Test Acc: 50.80% | PeakMem: 2102.7 MB | Avg Step Time: 0.0495s\n",
            "[Shampoo] Epoch 3/3 |  Test Acc: 51.02% | PeakMem: 2102.7 MB | Avg Step Time: 0.0486s\n",
            "\n",
            "--- GRID SEARCH COMBO ---\n",
            "Optimizer: Shampoo | LR=0.01, Momentum=0.8, Eps=0.1, UpdateFreq=50, WeightDecay=0\n",
            "[Shampoo] Epoch 1/3 |  Test Acc: 48.69% | PeakMem: 2104.7 MB | Avg Step Time: 0.0416s\n",
            "[Shampoo] Epoch 2/3 |  Test Acc: 50.83% | PeakMem: 2102.7 MB | Avg Step Time: 0.0482s\n",
            "[Shampoo] Epoch 3/3 |  Test Acc: 51.99% | PeakMem: 2102.7 MB | Avg Step Time: 0.0479s\n",
            "\n",
            "--- GRID SEARCH COMBO ---\n",
            "Optimizer: Shampoo | LR=0.01, Momentum=0.8, Eps=0.0001, UpdateFreq=50, WeightDecay=0\n",
            "[Shampoo] Epoch 1/3 |  Test Acc: 49.64% | PeakMem: 2104.7 MB | Avg Step Time: 0.0418s\n",
            "[Shampoo] Epoch 2/3 |  Test Acc: 51.29% | PeakMem: 2102.7 MB | Avg Step Time: 0.0487s\n",
            "[Shampoo] Epoch 3/3 |  Test Acc: 51.78% | PeakMem: 2102.7 MB | Avg Step Time: 0.0490s\n",
            "\n",
            "--- GRID SEARCH COMBO ---\n",
            "Optimizer: Shampoo | LR=0.001, Momentum=0.4, Eps=0.1, UpdateFreq=50, WeightDecay=0\n",
            "[Shampoo] Epoch 1/3 |  Test Acc: 48.82% | PeakMem: 2104.7 MB | Avg Step Time: 0.0425s\n",
            "[Shampoo] Epoch 2/3 |  Test Acc: 50.39% | PeakMem: 2102.7 MB | Avg Step Time: 0.0489s\n",
            "[Shampoo] Epoch 3/3 |  Test Acc: 50.93% | PeakMem: 2102.7 MB | Avg Step Time: 0.0474s\n",
            "\n",
            "--- GRID SEARCH COMBO ---\n",
            "Optimizer: Shampoo | LR=0.001, Momentum=0.4, Eps=0.0001, UpdateFreq=50, WeightDecay=0\n",
            "[Shampoo] Epoch 1/3 |  Test Acc: 47.93% | PeakMem: 2104.7 MB | Avg Step Time: 0.0412s\n",
            "[Shampoo] Epoch 2/3 |  Test Acc: 49.39% | PeakMem: 2102.7 MB | Avg Step Time: 0.0486s\n",
            "[Shampoo] Epoch 3/3 |  Test Acc: 50.98% | PeakMem: 2102.7 MB | Avg Step Time: 0.0482s\n",
            "\n",
            "--- GRID SEARCH COMBO ---\n",
            "Optimizer: Shampoo | LR=0.001, Momentum=0.8, Eps=0.1, UpdateFreq=50, WeightDecay=0\n",
            "[Shampoo] Epoch 1/3 |  Test Acc: 49.43% | PeakMem: 2104.7 MB | Avg Step Time: 0.0423s\n",
            "[Shampoo] Epoch 2/3 |  Test Acc: 51.53% | PeakMem: 2102.7 MB | Avg Step Time: 0.0492s\n",
            "[Shampoo] Epoch 3/3 |  Test Acc: 52.49% | PeakMem: 2102.7 MB | Avg Step Time: 0.0484s\n",
            "\n",
            "--- GRID SEARCH COMBO ---\n",
            "Optimizer: Shampoo | LR=0.001, Momentum=0.8, Eps=0.0001, UpdateFreq=50, WeightDecay=0\n",
            "[Shampoo] Epoch 1/3 |  Test Acc: 47.91% | PeakMem: 2104.7 MB | Avg Step Time: 0.0421s\n",
            "[Shampoo] Epoch 2/3 |  Test Acc: 50.66% | PeakMem: 2102.7 MB | Avg Step Time: 0.0484s\n",
            "[Shampoo] Epoch 3/3 |  Test Acc: 52.12% | PeakMem: 2102.7 MB | Avg Step Time: 0.0482s\n",
            "\n",
            "--- GRID SEARCH COMBO ---\n",
            "Optimizer: Shampoo | LR=0.0001, Momentum=0.4, Eps=0.1, UpdateFreq=50, WeightDecay=0\n",
            "[Shampoo] Epoch 1/3 |  Test Acc: 48.95% | PeakMem: 2104.7 MB | Avg Step Time: 0.0419s\n",
            "[Shampoo] Epoch 2/3 |  Test Acc: 50.98% | PeakMem: 2102.7 MB | Avg Step Time: 0.0488s\n",
            "[Shampoo] Epoch 3/3 |  Test Acc: 52.17% | PeakMem: 2102.7 MB | Avg Step Time: 0.0485s\n",
            "\n",
            "--- GRID SEARCH COMBO ---\n",
            "Optimizer: Shampoo | LR=0.0001, Momentum=0.4, Eps=0.0001, UpdateFreq=50, WeightDecay=0\n",
            "[Shampoo] Epoch 1/3 |  Test Acc: 49.69% | PeakMem: 2104.7 MB | Avg Step Time: 0.0425s\n",
            "[Shampoo] Epoch 2/3 |  Test Acc: 50.86% | PeakMem: 2102.7 MB | Avg Step Time: 0.0409s\n",
            "[Shampoo] Epoch 3/3 |  Test Acc: 51.99% | PeakMem: 2102.7 MB | Avg Step Time: 0.0404s\n",
            "\n",
            "--- GRID SEARCH COMBO ---\n",
            "Optimizer: Shampoo | LR=0.0001, Momentum=0.8, Eps=0.1, UpdateFreq=50, WeightDecay=0\n",
            "[Shampoo] Epoch 1/3 |  Test Acc: 48.78% | PeakMem: 2104.7 MB | Avg Step Time: 0.0352s\n",
            "[Shampoo] Epoch 2/3 |  Test Acc: 50.52% | PeakMem: 2102.7 MB | Avg Step Time: 0.0408s\n",
            "[Shampoo] Epoch 3/3 |  Test Acc: 52.30% | PeakMem: 2102.7 MB | Avg Step Time: 0.0405s\n",
            "\n",
            "--- GRID SEARCH COMBO ---\n",
            "Optimizer: Shampoo | LR=0.0001, Momentum=0.8, Eps=0.0001, UpdateFreq=50, WeightDecay=0\n",
            "[Shampoo] Epoch 1/3 |  Test Acc: 48.87% | PeakMem: 2104.7 MB | Avg Step Time: 0.0351s\n",
            "[Shampoo] Epoch 2/3 |  Test Acc: 49.98% | PeakMem: 2102.7 MB | Avg Step Time: 0.0407s\n",
            "[Shampoo] Epoch 3/3 |  Test Acc: 51.57% | PeakMem: 2102.7 MB | Avg Step Time: 0.0404s\n",
            "\n",
            "Best final accuracy: 52.49%\n",
            "Best params: LR=0.001, Momentum=0.8, Epsilon=0.1, UpdateFreq=50, Weight_decay=0\n"
          ]
        }
      ],
      "source": [
        "run_grid_search()"
      ]
    },
    {
      "cell_type": "code",
      "execution_count": null,
      "metadata": {
        "id": "lEvdozItQJYM"
      },
      "outputs": [],
      "source": [
        "def run_sst2_grid_search(param_grid):\n",
        "\n",
        "    for optimizer in param_grid[\"optimizers\"]:\n",
        "        best_accuracy = 0.0\n",
        "        best_params = None\n",
        "        all_results = []\n",
        "        for wd in param_grid[\"weight_decay\"]:\n",
        "            for lr in param_grid[\"learning_rate\"]:\n",
        "                for mom in param_grid[\"momentum\"]:\n",
        "                    for eps in param_grid[\"epsilon\"]:\n",
        "                        if optimizer == \"Shampoo\":\n",
        "                            for freq in param_grid[\"update_freq\"]:\n",
        "                                try:\n",
        "                                    print(\"\\n--- GRID SEARCH COMBO ---\")\n",
        "                                    print(f\"Optimizer: {optimizer} | LR={lr}, Momentum={mom}, Eps={eps}, \"\n",
        "                                            f\"UpdateFreq={freq}, WeightDecay={wd}\")\n",
        "                                    gc.collect()\n",
        "                                    torch.cuda.empty_cache()\n",
        "\n",
        "                                    results = run_bert_experiment(optimizer, lr=lr, weight_decay=wd,\n",
        "                                                        momentum=mom, update_frequency=freq, epsilon=eps,\n",
        "                                                        num_epochs_nlp=1\n",
        "                                                        )\n",
        "\n",
        "                                    final_accuracy = results['acc'][-1]\n",
        "                                    if final_accuracy > best_accuracy:\n",
        "                                        best_accuracy = final_accuracy\n",
        "                                        best_params = (lr, mom, eps, freq, wd)\n",
        "\n",
        "                                    all_results.append({\n",
        "                                        \"optimizer\": optimizer,\n",
        "                                        \"learning_rate\": lr,\n",
        "                                        \"momentum\": mom,\n",
        "                                        \"epsilon\": eps,\n",
        "                                        \"update_freq\": freq,\n",
        "                                        \"weight_decay\": wd,\n",
        "                                        \"train_loss\": results['loss'][-1],\n",
        "                                        \"test_acc\": results['acc'][-1],\n",
        "                                        \"mem_usage\": results['mem'][-1],\n",
        "                                        \"step_time\": results['time'][-1]\n",
        "                                    })\n",
        "                                except Exception as e:\n",
        "                                    print('failed with ', e)\n",
        "                        else:\n",
        "                            print(\"\\n--- GRID SEARCH COMBO ---\")\n",
        "                            print(f\"Optimizer: {optimizer} | LR={lr}, Momentum={mom}, Eps={eps}, \"\n",
        "                                f\"WeightDecay={wd}\")\n",
        "                            results = run_bert_experiment(optimizer, lr=lr, weight_decay=wd,\n",
        "                                                momentum=mom, epsilon=eps,\n",
        "                                                num_epochs_nlp=1\n",
        "                                                )\n",
        "                            final_accuracy = results['acc'][-1]\n",
        "                            if final_accuracy > best_accuracy:\n",
        "                                best_accuracy = final_accuracy\n",
        "                                best_params = (lr, mom, eps, -1, wd)\n",
        "\n",
        "                            all_results.append({\n",
        "                                \"optimizer\": optimizer,\n",
        "                                \"learning_rate\": lr,\n",
        "                                \"momentum\": mom,\n",
        "                                \"epsilon\": eps,\n",
        "                                \"update_freq\": -1,\n",
        "                                \"weight_decay\": wd,\n",
        "                                \"train_loss\": results['loss'][-1],\n",
        "                                \"test_acc\": results['acc'][-1],\n",
        "                                \"mem_usage\": results['mem'][-1],\n",
        "                                \"step_time\": results['time'][-1]\n",
        "                            })\n",
        "        print(f\"For optimizer {optimizer} on 1 epoch\")\n",
        "        print(f\"\\nBest final accuracy: {best_accuracy:.2f}%\")\n",
        "        print(f\"Best params: LR={best_params[0]}, Momentum={best_params[1]}, \"\n",
        "            f\"Epsilon={best_params[2]}, UpdateFreq={best_params[3]}, Weight_decay={best_params[4]}\")\n"
      ]
    },
    {
      "cell_type": "code",
      "execution_count": null,
      "metadata": {
        "id": "_nCFCpUIQJYN",
        "outputId": "079febe4-2ba7-4b93-b999-ddafa1890bad"
      },
      "outputs": [
        {
          "name": "stderr",
          "output_type": "stream",
          "text": [
            "Some weights of DistilBertForSequenceClassification were not initialized from the model checkpoint at distilbert-base-uncased and are newly initialized: ['classifier.bias', 'classifier.weight', 'pre_classifier.bias', 'pre_classifier.weight']\n",
            "You should probably TRAIN this model on a down-stream task to be able to use it for predictions and inference.\n"
          ]
        },
        {
          "name": "stdout",
          "output_type": "stream",
          "text": [
            "\n",
            "--- GRID SEARCH COMBO ---\n",
            "Optimizer: Shampoo | LR=0.001, Momentum=0.9, Eps=0.0001, UpdateFreq=20, WeightDecay=0.0001\n",
            "\n",
            "===== Training DistilBERT with Shampoo =====\n",
            "[Shampoo] Epoch 1/1 - Batch 100/264 - Avg Loss: 1.0365\n",
            "[Shampoo] Epoch 1/1 - Batch 200/264 - Avg Loss: 0.8630\n",
            "[Shampoo] Epoch 1/1 | Loss: 209.6487 | Val Acc: 50.92% | PeakMem: 11394.1 MB | StepTime: 0.2639s\n",
            "\n",
            "--- GRID SEARCH COMBO ---\n",
            "Optimizer: Shampoo | LR=0.001, Momentum=0.9, Eps=0.0001, UpdateFreq=100, WeightDecay=0.0001\n"
          ]
        },
        {
          "name": "stderr",
          "output_type": "stream",
          "text": [
            "Some weights of DistilBertForSequenceClassification were not initialized from the model checkpoint at distilbert-base-uncased and are newly initialized: ['classifier.bias', 'classifier.weight', 'pre_classifier.bias', 'pre_classifier.weight']\n",
            "You should probably TRAIN this model on a down-stream task to be able to use it for predictions and inference.\n"
          ]
        },
        {
          "name": "stdout",
          "output_type": "stream",
          "text": [
            "\n",
            "===== Training DistilBERT with Shampoo =====\n",
            "[Shampoo] Epoch 1/1 - Batch 100/264 - Avg Loss: 0.7043\n",
            "[Shampoo] Epoch 1/1 - Batch 200/264 - Avg Loss: 0.7055\n",
            "[Shampoo] Epoch 1/1 | Loss: 178.8679 | Val Acc: 50.92% | PeakMem: 11393.8 MB | StepTime: 0.2388s\n",
            "\n",
            "--- GRID SEARCH COMBO ---\n",
            "Optimizer: Shampoo | LR=0.001, Momentum=0.5, Eps=0.0001, UpdateFreq=20, WeightDecay=0.0001\n"
          ]
        },
        {
          "name": "stderr",
          "output_type": "stream",
          "text": [
            "Some weights of DistilBertForSequenceClassification were not initialized from the model checkpoint at distilbert-base-uncased and are newly initialized: ['classifier.bias', 'classifier.weight', 'pre_classifier.bias', 'pre_classifier.weight']\n",
            "You should probably TRAIN this model on a down-stream task to be able to use it for predictions and inference.\n"
          ]
        },
        {
          "name": "stdout",
          "output_type": "stream",
          "text": [
            "\n",
            "===== Training DistilBERT with Shampoo =====\n",
            "failed with  linalg.eigh: The algorithm failed to converge because the input matrix is ill-conditioned or has too many repeated eigenvalues (error code: 757).\n",
            "\n",
            "--- GRID SEARCH COMBO ---\n",
            "Optimizer: Shampoo | LR=0.001, Momentum=0.5, Eps=0.0001, UpdateFreq=100, WeightDecay=0.0001\n"
          ]
        },
        {
          "name": "stderr",
          "output_type": "stream",
          "text": [
            "Some weights of DistilBertForSequenceClassification were not initialized from the model checkpoint at distilbert-base-uncased and are newly initialized: ['classifier.bias', 'classifier.weight', 'pre_classifier.bias', 'pre_classifier.weight']\n",
            "You should probably TRAIN this model on a down-stream task to be able to use it for predictions and inference.\n"
          ]
        },
        {
          "name": "stdout",
          "output_type": "stream",
          "text": [
            "\n",
            "===== Training DistilBERT with Shampoo =====\n",
            "[Shampoo] Epoch 1/1 - Batch 100/264 - Avg Loss: 0.6902\n",
            "failed with  linalg.eigh: The algorithm failed to converge because the input matrix is ill-conditioned or has too many repeated eigenvalues (error code: 767).\n",
            "\n",
            "--- GRID SEARCH COMBO ---\n",
            "Optimizer: Shampoo | LR=0.0001, Momentum=0.9, Eps=0.0001, UpdateFreq=20, WeightDecay=0.0001\n"
          ]
        },
        {
          "name": "stderr",
          "output_type": "stream",
          "text": [
            "Some weights of DistilBertForSequenceClassification were not initialized from the model checkpoint at distilbert-base-uncased and are newly initialized: ['classifier.bias', 'classifier.weight', 'pre_classifier.bias', 'pre_classifier.weight']\n",
            "You should probably TRAIN this model on a down-stream task to be able to use it for predictions and inference.\n"
          ]
        },
        {
          "name": "stdout",
          "output_type": "stream",
          "text": [
            "\n",
            "===== Training DistilBERT with Shampoo =====\n",
            "[Shampoo] Epoch 1/1 - Batch 100/264 - Avg Loss: 0.6841\n",
            "[Shampoo] Epoch 1/1 - Batch 200/264 - Avg Loss: 0.6789\n",
            "[Shampoo] Epoch 1/1 | Loss: 172.6133 | Val Acc: 51.03% | PeakMem: 11393.8 MB | StepTime: 0.2681s\n",
            "\n",
            "--- GRID SEARCH COMBO ---\n",
            "Optimizer: Shampoo | LR=0.0001, Momentum=0.9, Eps=0.0001, UpdateFreq=100, WeightDecay=0.0001\n"
          ]
        },
        {
          "name": "stderr",
          "output_type": "stream",
          "text": [
            "Some weights of DistilBertForSequenceClassification were not initialized from the model checkpoint at distilbert-base-uncased and are newly initialized: ['classifier.bias', 'classifier.weight', 'pre_classifier.bias', 'pre_classifier.weight']\n",
            "You should probably TRAIN this model on a down-stream task to be able to use it for predictions and inference.\n"
          ]
        },
        {
          "name": "stdout",
          "output_type": "stream",
          "text": [
            "\n",
            "===== Training DistilBERT with Shampoo =====\n",
            "[Shampoo] Epoch 1/1 - Batch 100/264 - Avg Loss: 0.7157\n",
            "[Shampoo] Epoch 1/1 - Batch 200/264 - Avg Loss: 0.6375\n",
            "[Shampoo] Epoch 1/1 | Loss: 141.1321 | Val Acc: 88.30% | PeakMem: 11393.8 MB | StepTime: 0.2402s\n",
            "\n",
            "--- GRID SEARCH COMBO ---\n",
            "Optimizer: Shampoo | LR=0.0001, Momentum=0.5, Eps=0.0001, UpdateFreq=20, WeightDecay=0.0001\n"
          ]
        },
        {
          "name": "stderr",
          "output_type": "stream",
          "text": [
            "Some weights of DistilBertForSequenceClassification were not initialized from the model checkpoint at distilbert-base-uncased and are newly initialized: ['classifier.bias', 'classifier.weight', 'pre_classifier.bias', 'pre_classifier.weight']\n",
            "You should probably TRAIN this model on a down-stream task to be able to use it for predictions and inference.\n"
          ]
        },
        {
          "name": "stdout",
          "output_type": "stream",
          "text": [
            "\n",
            "===== Training DistilBERT with Shampoo =====\n",
            "[Shampoo] Epoch 1/1 - Batch 100/264 - Avg Loss: 0.6801\n",
            "[Shampoo] Epoch 1/1 - Batch 200/264 - Avg Loss: 0.6763\n",
            "[Shampoo] Epoch 1/1 | Loss: 172.2189 | Val Acc: 50.92% | PeakMem: 11393.8 MB | StepTime: 0.2693s\n",
            "\n",
            "--- GRID SEARCH COMBO ---\n",
            "Optimizer: Shampoo | LR=0.0001, Momentum=0.5, Eps=0.0001, UpdateFreq=100, WeightDecay=0.0001\n"
          ]
        },
        {
          "name": "stderr",
          "output_type": "stream",
          "text": [
            "Some weights of DistilBertForSequenceClassification were not initialized from the model checkpoint at distilbert-base-uncased and are newly initialized: ['classifier.bias', 'classifier.weight', 'pre_classifier.bias', 'pre_classifier.weight']\n",
            "You should probably TRAIN this model on a down-stream task to be able to use it for predictions and inference.\n"
          ]
        },
        {
          "name": "stdout",
          "output_type": "stream",
          "text": [
            "\n",
            "===== Training DistilBERT with Shampoo =====\n",
            "[Shampoo] Epoch 1/1 - Batch 100/264 - Avg Loss: 0.6893\n",
            "[Shampoo] Epoch 1/1 - Batch 200/264 - Avg Loss: 0.6690\n",
            "[Shampoo] Epoch 1/1 | Loss: 182.8761 | Val Acc: 51.83% | PeakMem: 11393.8 MB | StepTime: 0.2404s\n",
            "\n",
            "--- GRID SEARCH COMBO ---\n",
            "Optimizer: Shampoo | LR=1e-05, Momentum=0.9, Eps=0.0001, UpdateFreq=20, WeightDecay=0.0001\n"
          ]
        },
        {
          "name": "stderr",
          "output_type": "stream",
          "text": [
            "Some weights of DistilBertForSequenceClassification were not initialized from the model checkpoint at distilbert-base-uncased and are newly initialized: ['classifier.bias', 'classifier.weight', 'pre_classifier.bias', 'pre_classifier.weight']\n",
            "You should probably TRAIN this model on a down-stream task to be able to use it for predictions and inference.\n"
          ]
        },
        {
          "name": "stdout",
          "output_type": "stream",
          "text": [
            "\n",
            "===== Training DistilBERT with Shampoo =====\n",
            "[Shampoo] Epoch 1/1 - Batch 100/264 - Avg Loss: 0.6904\n",
            "[Shampoo] Epoch 1/1 - Batch 200/264 - Avg Loss: 0.6897\n",
            "[Shampoo] Epoch 1/1 | Loss: 175.9449 | Val Acc: 51.26% | PeakMem: 11393.8 MB | StepTime: 0.2687s\n",
            "\n",
            "--- GRID SEARCH COMBO ---\n",
            "Optimizer: Shampoo | LR=1e-05, Momentum=0.9, Eps=0.0001, UpdateFreq=100, WeightDecay=0.0001\n"
          ]
        },
        {
          "name": "stderr",
          "output_type": "stream",
          "text": [
            "Some weights of DistilBertForSequenceClassification were not initialized from the model checkpoint at distilbert-base-uncased and are newly initialized: ['classifier.bias', 'classifier.weight', 'pre_classifier.bias', 'pre_classifier.weight']\n",
            "You should probably TRAIN this model on a down-stream task to be able to use it for predictions and inference.\n"
          ]
        },
        {
          "name": "stdout",
          "output_type": "stream",
          "text": [
            "\n",
            "===== Training DistilBERT with Shampoo =====\n",
            "[Shampoo] Epoch 1/1 - Batch 100/264 - Avg Loss: 0.6872\n",
            "[Shampoo] Epoch 1/1 - Batch 200/264 - Avg Loss: 0.6869\n",
            "[Shampoo] Epoch 1/1 | Loss: 175.0001 | Val Acc: 50.92% | PeakMem: 11393.8 MB | StepTime: 0.2404s\n",
            "\n",
            "--- GRID SEARCH COMBO ---\n",
            "Optimizer: Shampoo | LR=1e-05, Momentum=0.5, Eps=0.0001, UpdateFreq=20, WeightDecay=0.0001\n"
          ]
        },
        {
          "name": "stderr",
          "output_type": "stream",
          "text": [
            "Some weights of DistilBertForSequenceClassification were not initialized from the model checkpoint at distilbert-base-uncased and are newly initialized: ['classifier.bias', 'classifier.weight', 'pre_classifier.bias', 'pre_classifier.weight']\n",
            "You should probably TRAIN this model on a down-stream task to be able to use it for predictions and inference.\n"
          ]
        },
        {
          "name": "stdout",
          "output_type": "stream",
          "text": [
            "\n",
            "===== Training DistilBERT with Shampoo =====\n",
            "[Shampoo] Epoch 1/1 - Batch 100/264 - Avg Loss: 0.6918\n",
            "[Shampoo] Epoch 1/1 - Batch 200/264 - Avg Loss: 0.6914\n",
            "[Shampoo] Epoch 1/1 | Loss: 176.3767 | Val Acc: 51.15% | PeakMem: 11393.8 MB | StepTime: 0.2693s\n",
            "\n",
            "--- GRID SEARCH COMBO ---\n",
            "Optimizer: Shampoo | LR=1e-05, Momentum=0.5, Eps=0.0001, UpdateFreq=100, WeightDecay=0.0001\n"
          ]
        },
        {
          "name": "stderr",
          "output_type": "stream",
          "text": [
            "Some weights of DistilBertForSequenceClassification were not initialized from the model checkpoint at distilbert-base-uncased and are newly initialized: ['classifier.bias', 'classifier.weight', 'pre_classifier.bias', 'pre_classifier.weight']\n",
            "You should probably TRAIN this model on a down-stream task to be able to use it for predictions and inference.\n"
          ]
        },
        {
          "name": "stdout",
          "output_type": "stream",
          "text": [
            "\n",
            "===== Training DistilBERT with Shampoo =====\n",
            "[Shampoo] Epoch 1/1 - Batch 100/264 - Avg Loss: 0.6908\n",
            "[Shampoo] Epoch 1/1 - Batch 200/264 - Avg Loss: 0.6909\n",
            "[Shampoo] Epoch 1/1 | Loss: 176.1624 | Val Acc: 50.92% | PeakMem: 11393.8 MB | StepTime: 0.2406s\n",
            "For optimizer Shampoo on 1 epoch\n",
            "\n",
            "Best final accuracy: 88.30%\n",
            "Best params: LR=0.0001, Momentum=0.9, Epsilon=0.0001, UpdateFreq=100, Weight_decay=0.0001\n",
            "\n",
            "===== Training DistilBERT with Adam =====\n"
          ]
        },
        {
          "name": "stderr",
          "output_type": "stream",
          "text": [
            "Some weights of DistilBertForSequenceClassification were not initialized from the model checkpoint at distilbert-base-uncased and are newly initialized: ['classifier.bias', 'classifier.weight', 'pre_classifier.bias', 'pre_classifier.weight']\n",
            "You should probably TRAIN this model on a down-stream task to be able to use it for predictions and inference.\n"
          ]
        },
        {
          "name": "stdout",
          "output_type": "stream",
          "text": [
            "[Adam] Epoch 1/1 - Batch 100/264 - Avg Loss: 0.6933\n",
            "[Adam] Epoch 1/1 - Batch 200/264 - Avg Loss: 0.6904\n",
            "[Adam] Epoch 1/1 | Loss: 175.9485 | Val Acc: 50.92% | PeakMem: 11096.6 MB | StepTime: 0.2301s\n",
            "\n",
            "===== Training DistilBERT with Adam =====\n"
          ]
        },
        {
          "name": "stderr",
          "output_type": "stream",
          "text": [
            "Some weights of DistilBertForSequenceClassification were not initialized from the model checkpoint at distilbert-base-uncased and are newly initialized: ['classifier.bias', 'classifier.weight', 'pre_classifier.bias', 'pre_classifier.weight']\n",
            "You should probably TRAIN this model on a down-stream task to be able to use it for predictions and inference.\n"
          ]
        },
        {
          "name": "stdout",
          "output_type": "stream",
          "text": [
            "[Adam] Epoch 1/1 - Batch 100/264 - Avg Loss: 0.6962\n",
            "[Adam] Epoch 1/1 - Batch 200/264 - Avg Loss: 0.6916\n",
            "[Adam] Epoch 1/1 | Loss: 176.1918 | Val Acc: 50.92% | PeakMem: 11096.6 MB | StepTime: 0.2301s\n",
            "\n",
            "===== Training DistilBERT with Adam =====\n"
          ]
        },
        {
          "name": "stderr",
          "output_type": "stream",
          "text": [
            "Some weights of DistilBertForSequenceClassification were not initialized from the model checkpoint at distilbert-base-uncased and are newly initialized: ['classifier.bias', 'classifier.weight', 'pre_classifier.bias', 'pre_classifier.weight']\n",
            "You should probably TRAIN this model on a down-stream task to be able to use it for predictions and inference.\n"
          ]
        },
        {
          "name": "stdout",
          "output_type": "stream",
          "text": [
            "[Adam] Epoch 1/1 - Batch 100/264 - Avg Loss: 0.2855\n",
            "[Adam] Epoch 1/1 - Batch 200/264 - Avg Loss: 0.2385\n",
            "[Adam] Epoch 1/1 | Loss: 56.5071 | Val Acc: 89.56% | PeakMem: 11096.6 MB | StepTime: 0.2308s\n",
            "\n",
            "===== Training DistilBERT with Adam =====\n"
          ]
        },
        {
          "name": "stderr",
          "output_type": "stream",
          "text": [
            "Some weights of DistilBertForSequenceClassification were not initialized from the model checkpoint at distilbert-base-uncased and are newly initialized: ['classifier.bias', 'classifier.weight', 'pre_classifier.bias', 'pre_classifier.weight']\n",
            "You should probably TRAIN this model on a down-stream task to be able to use it for predictions and inference.\n"
          ]
        },
        {
          "name": "stdout",
          "output_type": "stream",
          "text": [
            "[Adam] Epoch 1/1 - Batch 100/264 - Avg Loss: 0.3079\n",
            "[Adam] Epoch 1/1 - Batch 200/264 - Avg Loss: 0.2461\n",
            "[Adam] Epoch 1/1 | Loss: 58.0275 | Val Acc: 88.30% | PeakMem: 11096.6 MB | StepTime: 0.2307s\n",
            "\n",
            "===== Training DistilBERT with Adam =====\n"
          ]
        },
        {
          "name": "stderr",
          "output_type": "stream",
          "text": [
            "Some weights of DistilBertForSequenceClassification were not initialized from the model checkpoint at distilbert-base-uncased and are newly initialized: ['classifier.bias', 'classifier.weight', 'pre_classifier.bias', 'pre_classifier.weight']\n",
            "You should probably TRAIN this model on a down-stream task to be able to use it for predictions and inference.\n"
          ]
        },
        {
          "name": "stdout",
          "output_type": "stream",
          "text": [
            "[Adam] Epoch 1/1 - Batch 100/264 - Avg Loss: 0.4135\n",
            "[Adam] Epoch 1/1 - Batch 200/264 - Avg Loss: 0.3345\n",
            "[Adam] Epoch 1/1 | Loss: 79.3121 | Val Acc: 89.68% | PeakMem: 11096.6 MB | StepTime: 0.2308s\n",
            "\n",
            "===== Training DistilBERT with Adam =====\n"
          ]
        },
        {
          "name": "stderr",
          "output_type": "stream",
          "text": [
            "Some weights of DistilBertForSequenceClassification were not initialized from the model checkpoint at distilbert-base-uncased and are newly initialized: ['classifier.bias', 'classifier.weight', 'pre_classifier.bias', 'pre_classifier.weight']\n",
            "You should probably TRAIN this model on a down-stream task to be able to use it for predictions and inference.\n"
          ]
        },
        {
          "name": "stdout",
          "output_type": "stream",
          "text": [
            "[Adam] Epoch 1/1 - Batch 100/264 - Avg Loss: 0.4246\n",
            "[Adam] Epoch 1/1 - Batch 200/264 - Avg Loss: 0.3407\n",
            "[Adam] Epoch 1/1 | Loss: 80.4868 | Val Acc: 89.45% | PeakMem: 11096.6 MB | StepTime: 0.2308s\n",
            "For optimizer Adam on 1 epoch\n",
            "\n",
            "Best final accuracy: 89.68%\n",
            "Best params: LR=1e-05, Momentum=0.9, Epsilon=0.0001, UpdateFreq=100, Weight_decay=0.0001\n",
            "\n",
            "===== Training DistilBERT with AdamW =====\n"
          ]
        },
        {
          "name": "stderr",
          "output_type": "stream",
          "text": [
            "Some weights of DistilBertForSequenceClassification were not initialized from the model checkpoint at distilbert-base-uncased and are newly initialized: ['classifier.bias', 'classifier.weight', 'pre_classifier.bias', 'pre_classifier.weight']\n",
            "You should probably TRAIN this model on a down-stream task to be able to use it for predictions and inference.\n"
          ]
        },
        {
          "name": "stdout",
          "output_type": "stream",
          "text": [
            "[AdamW] Epoch 1/1 - Batch 100/264 - Avg Loss: 0.7048\n",
            "[AdamW] Epoch 1/1 - Batch 200/264 - Avg Loss: 0.6961\n",
            "[AdamW] Epoch 1/1 | Loss: 176.9888 | Val Acc: 50.92% | PeakMem: 11096.6 MB | StepTime: 0.2298s\n",
            "\n",
            "===== Training DistilBERT with AdamW =====\n"
          ]
        },
        {
          "name": "stderr",
          "output_type": "stream",
          "text": [
            "Some weights of DistilBertForSequenceClassification were not initialized from the model checkpoint at distilbert-base-uncased and are newly initialized: ['classifier.bias', 'classifier.weight', 'pre_classifier.bias', 'pre_classifier.weight']\n",
            "You should probably TRAIN this model on a down-stream task to be able to use it for predictions and inference.\n"
          ]
        },
        {
          "name": "stdout",
          "output_type": "stream",
          "text": [
            "[AdamW] Epoch 1/1 - Batch 100/264 - Avg Loss: 0.7472\n",
            "[AdamW] Epoch 1/1 - Batch 200/264 - Avg Loss: 0.7177\n",
            "[AdamW] Epoch 1/1 | Loss: 181.2373 | Val Acc: 50.92% | PeakMem: 11096.6 MB | StepTime: 0.2297s\n",
            "\n",
            "===== Training DistilBERT with AdamW =====\n"
          ]
        },
        {
          "name": "stderr",
          "output_type": "stream",
          "text": [
            "Some weights of DistilBertForSequenceClassification were not initialized from the model checkpoint at distilbert-base-uncased and are newly initialized: ['classifier.bias', 'classifier.weight', 'pre_classifier.bias', 'pre_classifier.weight']\n",
            "You should probably TRAIN this model on a down-stream task to be able to use it for predictions and inference.\n"
          ]
        },
        {
          "name": "stdout",
          "output_type": "stream",
          "text": [
            "[AdamW] Epoch 1/1 - Batch 100/264 - Avg Loss: 0.2775\n",
            "[AdamW] Epoch 1/1 - Batch 200/264 - Avg Loss: 0.2338\n",
            "[AdamW] Epoch 1/1 | Loss: 55.6968 | Val Acc: 90.83% | PeakMem: 11096.6 MB | StepTime: 0.2304s\n",
            "\n",
            "===== Training DistilBERT with AdamW =====\n"
          ]
        },
        {
          "name": "stderr",
          "output_type": "stream",
          "text": [
            "Some weights of DistilBertForSequenceClassification were not initialized from the model checkpoint at distilbert-base-uncased and are newly initialized: ['classifier.bias', 'classifier.weight', 'pre_classifier.bias', 'pre_classifier.weight']\n",
            "You should probably TRAIN this model on a down-stream task to be able to use it for predictions and inference.\n"
          ]
        },
        {
          "name": "stdout",
          "output_type": "stream",
          "text": [
            "[AdamW] Epoch 1/1 - Batch 100/264 - Avg Loss: 0.2883\n",
            "[AdamW] Epoch 1/1 - Batch 200/264 - Avg Loss: 0.2393\n",
            "[AdamW] Epoch 1/1 | Loss: 56.6459 | Val Acc: 90.37% | PeakMem: 11096.6 MB | StepTime: 0.2305s\n",
            "\n",
            "===== Training DistilBERT with AdamW =====\n"
          ]
        },
        {
          "name": "stderr",
          "output_type": "stream",
          "text": [
            "Some weights of DistilBertForSequenceClassification were not initialized from the model checkpoint at distilbert-base-uncased and are newly initialized: ['classifier.bias', 'classifier.weight', 'pre_classifier.bias', 'pre_classifier.weight']\n",
            "You should probably TRAIN this model on a down-stream task to be able to use it for predictions and inference.\n"
          ]
        },
        {
          "name": "stdout",
          "output_type": "stream",
          "text": [
            "[AdamW] Epoch 1/1 - Batch 100/264 - Avg Loss: 0.4171\n",
            "[AdamW] Epoch 1/1 - Batch 200/264 - Avg Loss: 0.3334\n",
            "[AdamW] Epoch 1/1 | Loss: 79.2062 | Val Acc: 90.25% | PeakMem: 11096.6 MB | StepTime: 0.2304s\n",
            "\n",
            "===== Training DistilBERT with AdamW =====\n"
          ]
        },
        {
          "name": "stderr",
          "output_type": "stream",
          "text": [
            "Some weights of DistilBertForSequenceClassification were not initialized from the model checkpoint at distilbert-base-uncased and are newly initialized: ['classifier.bias', 'classifier.weight', 'pre_classifier.bias', 'pre_classifier.weight']\n",
            "You should probably TRAIN this model on a down-stream task to be able to use it for predictions and inference.\n"
          ]
        },
        {
          "name": "stdout",
          "output_type": "stream",
          "text": [
            "[AdamW] Epoch 1/1 - Batch 100/264 - Avg Loss: 0.4087\n",
            "[AdamW] Epoch 1/1 - Batch 200/264 - Avg Loss: 0.3344\n",
            "[AdamW] Epoch 1/1 | Loss: 78.8842 | Val Acc: 89.79% | PeakMem: 11096.6 MB | StepTime: 0.2306s\n",
            "For optimizer AdamW on 1 epoch\n",
            "\n",
            "Best final accuracy: 90.83%\n",
            "Best params: LR=0.0001, Momentum=0.9, Epsilon=0.0001, UpdateFreq=100, Weight_decay=0.0001\n",
            "\n",
            "===== Training DistilBERT with SGD =====\n"
          ]
        },
        {
          "name": "stderr",
          "output_type": "stream",
          "text": [
            "Some weights of DistilBertForSequenceClassification were not initialized from the model checkpoint at distilbert-base-uncased and are newly initialized: ['classifier.bias', 'classifier.weight', 'pre_classifier.bias', 'pre_classifier.weight']\n",
            "You should probably TRAIN this model on a down-stream task to be able to use it for predictions and inference.\n"
          ]
        },
        {
          "name": "stdout",
          "output_type": "stream",
          "text": [
            "[SGD] Epoch 1/1 - Batch 100/264 - Avg Loss: 0.6831\n",
            "[SGD] Epoch 1/1 - Batch 200/264 - Avg Loss: 0.6803\n",
            "[SGD] Epoch 1/1 | Loss: 172.8184 | Val Acc: 50.92% | PeakMem: 10588.0 MB | StepTime: 0.2248s\n",
            "\n",
            "===== Training DistilBERT with SGD =====\n"
          ]
        },
        {
          "name": "stderr",
          "output_type": "stream",
          "text": [
            "Some weights of DistilBertForSequenceClassification were not initialized from the model checkpoint at distilbert-base-uncased and are newly initialized: ['classifier.bias', 'classifier.weight', 'pre_classifier.bias', 'pre_classifier.weight']\n",
            "You should probably TRAIN this model on a down-stream task to be able to use it for predictions and inference.\n"
          ]
        },
        {
          "name": "stdout",
          "output_type": "stream",
          "text": [
            "[SGD] Epoch 1/1 - Batch 100/264 - Avg Loss: 0.6856\n",
            "[SGD] Epoch 1/1 - Batch 200/264 - Avg Loss: 0.6825\n",
            "[SGD] Epoch 1/1 | Loss: 173.4187 | Val Acc: 51.15% | PeakMem: 10588.0 MB | StepTime: 0.2249s\n",
            "\n",
            "===== Training DistilBERT with SGD =====\n"
          ]
        },
        {
          "name": "stderr",
          "output_type": "stream",
          "text": [
            "Some weights of DistilBertForSequenceClassification were not initialized from the model checkpoint at distilbert-base-uncased and are newly initialized: ['classifier.bias', 'classifier.weight', 'pre_classifier.bias', 'pre_classifier.weight']\n",
            "You should probably TRAIN this model on a down-stream task to be able to use it for predictions and inference.\n"
          ]
        },
        {
          "name": "stdout",
          "output_type": "stream",
          "text": [
            "[SGD] Epoch 1/1 - Batch 100/264 - Avg Loss: 0.6893\n",
            "[SGD] Epoch 1/1 - Batch 200/264 - Avg Loss: 0.6848\n",
            "[SGD] Epoch 1/1 | Loss: 174.1490 | Val Acc: 50.92% | PeakMem: 10588.0 MB | StepTime: 0.2248s\n",
            "\n",
            "===== Training DistilBERT with SGD =====\n"
          ]
        },
        {
          "name": "stderr",
          "output_type": "stream",
          "text": [
            "Some weights of DistilBertForSequenceClassification were not initialized from the model checkpoint at distilbert-base-uncased and are newly initialized: ['classifier.bias', 'classifier.weight', 'pre_classifier.bias', 'pre_classifier.weight']\n",
            "You should probably TRAIN this model on a down-stream task to be able to use it for predictions and inference.\n"
          ]
        },
        {
          "name": "stdout",
          "output_type": "stream",
          "text": [
            "[SGD] Epoch 1/1 - Batch 100/264 - Avg Loss: 0.6900\n",
            "[SGD] Epoch 1/1 - Batch 200/264 - Avg Loss: 0.6882\n",
            "[SGD] Epoch 1/1 | Loss: 175.2974 | Val Acc: 50.92% | PeakMem: 10588.0 MB | StepTime: 0.2246s\n",
            "\n",
            "===== Training DistilBERT with SGD =====\n"
          ]
        },
        {
          "name": "stderr",
          "output_type": "stream",
          "text": [
            "Some weights of DistilBertForSequenceClassification were not initialized from the model checkpoint at distilbert-base-uncased and are newly initialized: ['classifier.bias', 'classifier.weight', 'pre_classifier.bias', 'pre_classifier.weight']\n",
            "You should probably TRAIN this model on a down-stream task to be able to use it for predictions and inference.\n"
          ]
        },
        {
          "name": "stdout",
          "output_type": "stream",
          "text": [
            "[SGD] Epoch 1/1 - Batch 100/264 - Avg Loss: 0.6824\n",
            "[SGD] Epoch 1/1 - Batch 200/264 - Avg Loss: 0.6797\n",
            "[SGD] Epoch 1/1 | Loss: 172.8006 | Val Acc: 51.26% | PeakMem: 10588.0 MB | StepTime: 0.2247s\n",
            "\n",
            "===== Training DistilBERT with SGD =====\n"
          ]
        },
        {
          "name": "stderr",
          "output_type": "stream",
          "text": [
            "Some weights of DistilBertForSequenceClassification were not initialized from the model checkpoint at distilbert-base-uncased and are newly initialized: ['classifier.bias', 'classifier.weight', 'pre_classifier.bias', 'pre_classifier.weight']\n",
            "You should probably TRAIN this model on a down-stream task to be able to use it for predictions and inference.\n"
          ]
        },
        {
          "name": "stdout",
          "output_type": "stream",
          "text": [
            "[SGD] Epoch 1/1 - Batch 100/264 - Avg Loss: 0.6871\n",
            "[SGD] Epoch 1/1 - Batch 200/264 - Avg Loss: 0.6831\n",
            "[SGD] Epoch 1/1 | Loss: 173.5249 | Val Acc: 51.49% | PeakMem: 10588.0 MB | StepTime: 0.2247s\n",
            "For optimizer SGD on 1 epoch\n",
            "\n",
            "Best final accuracy: 51.49%\n",
            "Best params: LR=1e-05, Momentum=0.5, Epsilon=0.0001, UpdateFreq=100, Weight_decay=0.0001\n"
          ]
        }
      ],
      "source": [
        "cifar_param_grid = {\n",
        "      \"optimizers\" : ['Shampoo', 'Adam', 'AdamW', 'SGD'],\n",
        "      \"learning_rate\": [0.1, 0.01, 0.001, 0.0001],\n",
        "      \"momentum\": [0.9],\n",
        "      \"epsilon\": [1e-4],\n",
        "      \"update_freq\": [20,100],\n",
        "      \"weight_decay\": [0.0001]\n",
        "}\n",
        "sst2_param_grid = {\n",
        "      \"optimizers\" : ['Shampoo', 'Adam', 'AdamW', 'SGD'], # Adagrad\n",
        "      \"learning_rate\": [0.001, 0.0001, 0.00001],\n",
        "      \"momentum\": [0.9, 0.5],\n",
        "      \"epsilon\": [1e-4],\n",
        "      \"update_freq\": [20, 100],\n",
        "      \"weight_decay\": [0.0001]\n",
        "}\n",
        "# run_grid_search(cifar_param_grid, 'cifar')\n",
        "run_sst2_grid_search(sst2_param_grid)"
      ]
    },
    {
      "cell_type": "code",
      "execution_count": null,
      "metadata": {
        "id": "3Ktme1ipQJYN",
        "outputId": "05ae7912-c018-459f-b4f8-7d8f2eb2e0fa"
      },
      "outputs": [
        {
          "name": "stdout",
          "output_type": "stream",
          "text": [
            "\n",
            "--- GRID SEARCH COMBO ---\n",
            "Optimizer: Adagrad | LR=0.001, Momentum=0.9, Eps=0.0001, WeightDecay=0.0001\n",
            "\n",
            "===== Training DistilBERT with Adagrad =====\n"
          ]
        },
        {
          "name": "stderr",
          "output_type": "stream",
          "text": [
            "Some weights of DistilBertForSequenceClassification were not initialized from the model checkpoint at distilbert-base-uncased and are newly initialized: ['classifier.bias', 'classifier.weight', 'pre_classifier.bias', 'pre_classifier.weight']\n",
            "You should probably TRAIN this model on a down-stream task to be able to use it for predictions and inference.\n"
          ]
        },
        {
          "name": "stdout",
          "output_type": "stream",
          "text": [
            "[Adagrad] Epoch 1/1 - Batch 100/264 - Avg Loss: 0.5448\n",
            "[Adagrad] Epoch 1/1 - Batch 200/264 - Avg Loss: 0.4077\n",
            "[Adagrad] Epoch 1/1 | Loss: 92.0525 | Val Acc: 87.50% | PeakMem: 10844.5 MB | StepTime: 0.2263s\n",
            "\n",
            "--- GRID SEARCH COMBO ---\n",
            "Optimizer: Adagrad | LR=0.001, Momentum=0.5, Eps=0.0001, WeightDecay=0.0001\n",
            "\n",
            "===== Training DistilBERT with Adagrad =====\n"
          ]
        },
        {
          "name": "stderr",
          "output_type": "stream",
          "text": [
            "Some weights of DistilBertForSequenceClassification were not initialized from the model checkpoint at distilbert-base-uncased and are newly initialized: ['classifier.bias', 'classifier.weight', 'pre_classifier.bias', 'pre_classifier.weight']\n",
            "You should probably TRAIN this model on a down-stream task to be able to use it for predictions and inference.\n"
          ]
        },
        {
          "name": "stdout",
          "output_type": "stream",
          "text": [
            "[Adagrad] Epoch 1/1 - Batch 100/264 - Avg Loss: 0.5835\n",
            "[Adagrad] Epoch 1/1 - Batch 200/264 - Avg Loss: 0.4415\n",
            "[Adagrad] Epoch 1/1 | Loss: 100.6491 | Val Acc: 84.52% | PeakMem: 10844.5 MB | StepTime: 0.2276s\n",
            "\n",
            "--- GRID SEARCH COMBO ---\n",
            "Optimizer: Adagrad | LR=0.0001, Momentum=0.9, Eps=0.0001, WeightDecay=0.0001\n",
            "\n",
            "===== Training DistilBERT with Adagrad =====\n"
          ]
        },
        {
          "name": "stderr",
          "output_type": "stream",
          "text": [
            "Some weights of DistilBertForSequenceClassification were not initialized from the model checkpoint at distilbert-base-uncased and are newly initialized: ['classifier.bias', 'classifier.weight', 'pre_classifier.bias', 'pre_classifier.weight']\n",
            "You should probably TRAIN this model on a down-stream task to be able to use it for predictions and inference.\n"
          ]
        },
        {
          "name": "stdout",
          "output_type": "stream",
          "text": [
            "[Adagrad] Epoch 1/1 - Batch 100/264 - Avg Loss: 0.3259\n",
            "[Adagrad] Epoch 1/1 - Batch 200/264 - Avg Loss: 0.2843\n",
            "[Adagrad] Epoch 1/1 | Loss: 68.7171 | Val Acc: 88.76% | PeakMem: 10844.5 MB | StepTime: 0.2288s\n",
            "\n",
            "--- GRID SEARCH COMBO ---\n",
            "Optimizer: Adagrad | LR=0.0001, Momentum=0.5, Eps=0.0001, WeightDecay=0.0001\n",
            "\n",
            "===== Training DistilBERT with Adagrad =====\n"
          ]
        },
        {
          "name": "stderr",
          "output_type": "stream",
          "text": [
            "Some weights of DistilBertForSequenceClassification were not initialized from the model checkpoint at distilbert-base-uncased and are newly initialized: ['classifier.bias', 'classifier.weight', 'pre_classifier.bias', 'pre_classifier.weight']\n",
            "You should probably TRAIN this model on a down-stream task to be able to use it for predictions and inference.\n"
          ]
        },
        {
          "name": "stdout",
          "output_type": "stream",
          "text": [
            "[Adagrad] Epoch 1/1 - Batch 100/264 - Avg Loss: 0.3295\n",
            "[Adagrad] Epoch 1/1 - Batch 200/264 - Avg Loss: 0.2869\n",
            "[Adagrad] Epoch 1/1 | Loss: 69.6464 | Val Acc: 89.45% | PeakMem: 10844.5 MB | StepTime: 0.2291s\n",
            "\n",
            "--- GRID SEARCH COMBO ---\n",
            "Optimizer: Adagrad | LR=1e-05, Momentum=0.9, Eps=0.0001, WeightDecay=0.0001\n",
            "\n",
            "===== Training DistilBERT with Adagrad =====\n"
          ]
        },
        {
          "name": "stderr",
          "output_type": "stream",
          "text": [
            "Some weights of DistilBertForSequenceClassification were not initialized from the model checkpoint at distilbert-base-uncased and are newly initialized: ['classifier.bias', 'classifier.weight', 'pre_classifier.bias', 'pre_classifier.weight']\n",
            "You should probably TRAIN this model on a down-stream task to be able to use it for predictions and inference.\n"
          ]
        },
        {
          "name": "stdout",
          "output_type": "stream",
          "text": [
            "[Adagrad] Epoch 1/1 - Batch 100/264 - Avg Loss: 0.6541\n",
            "[Adagrad] Epoch 1/1 - Batch 200/264 - Avg Loss: 0.5665\n",
            "[Adagrad] Epoch 1/1 | Loss: 133.9412 | Val Acc: 83.72% | PeakMem: 10844.5 MB | StepTime: 0.2292s\n",
            "\n",
            "--- GRID SEARCH COMBO ---\n",
            "Optimizer: Adagrad | LR=1e-05, Momentum=0.5, Eps=0.0001, WeightDecay=0.0001\n",
            "\n",
            "===== Training DistilBERT with Adagrad =====\n"
          ]
        },
        {
          "name": "stderr",
          "output_type": "stream",
          "text": [
            "Some weights of DistilBertForSequenceClassification were not initialized from the model checkpoint at distilbert-base-uncased and are newly initialized: ['classifier.bias', 'classifier.weight', 'pre_classifier.bias', 'pre_classifier.weight']\n",
            "You should probably TRAIN this model on a down-stream task to be able to use it for predictions and inference.\n"
          ]
        },
        {
          "name": "stdout",
          "output_type": "stream",
          "text": [
            "[Adagrad] Epoch 1/1 - Batch 100/264 - Avg Loss: 0.5988\n",
            "[Adagrad] Epoch 1/1 - Batch 200/264 - Avg Loss: 0.5112\n",
            "[Adagrad] Epoch 1/1 | Loss: 122.0420 | Val Acc: 83.72% | PeakMem: 10844.5 MB | StepTime: 0.2293s\n",
            "For optimizer Adagrad on 1 epoch\n",
            "\n",
            "Best final accuracy: 89.45%\n",
            "Best params: LR=0.0001, Momentum=0.5, Epsilon=0.0001, UpdateFreq=-1, Weight_decay=0.0001\n"
          ]
        }
      ],
      "source": [
        "sst2_param_grid = {\n",
        "      \"optimizers\" : ['Adagrad'],\n",
        "      \"learning_rate\": [0.001, 0.0001, 0.00001],\n",
        "      \"momentum\": [0.9, 0.5],\n",
        "      \"epsilon\": [1e-4],\n",
        "      \"update_freq\": [20],\n",
        "      \"weight_decay\": [0.0001]\n",
        "}\n",
        "run_sst2_grid_search(sst2_param_grid)"
      ]
    },
    {
      "cell_type": "markdown",
      "metadata": {
        "id": "reEHJAA0QJYN"
      },
      "source": [
        "From the grid search, the best parameters for SST-2 are below:\n",
        "\n",
        "Shampoo: lr = 0.0001, momentum=0.9, epsilon=0.0001, update_frequency=100\n",
        "\n",
        "SGD: lr = 0.00001, momentum=0.5, weight_decay=0.0001\n",
        "\n",
        "Adam: lr = 0.00001, weight_decay = 0.0001\n",
        "\n",
        "AdamW: lr = 0.0001, weight_decay = 0.0001\n",
        "\n",
        "Adagrad: 0.0001, weight_decay = 0.0001"
      ]
    }
  ],
  "metadata": {
    "accelerator": "TPU",
    "colab": {
      "gpuType": "V28",
      "provenance": [],
      "include_colab_link": true
    },
    "kernelspec": {
      "display_name": "Python 3",
      "name": "python3"
    },
    "language_info": {
      "name": "python"
    }
  },
  "nbformat": 4,
  "nbformat_minor": 0
}