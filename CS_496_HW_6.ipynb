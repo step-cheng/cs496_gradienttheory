{
  "nbformat": 4,
  "nbformat_minor": 0,
  "metadata": {
    "colab": {
      "provenance": [],
      "gpuType": "T4",
      "authorship_tag": "ABX9TyPB/N6C0rPZYvokooiZ+1md",
      "include_colab_link": true
    },
    "kernelspec": {
      "name": "python3",
      "display_name": "Python 3"
    },
    "language_info": {
      "name": "python"
    },
    "accelerator": "GPU"
  },
  "cells": [
    {
      "cell_type": "markdown",
      "metadata": {
        "id": "view-in-github",
        "colab_type": "text"
      },
      "source": [
        "<a href=\"https://colab.research.google.com/github/step-cheng/cs496_gradienttheory/blob/main/CS_496_HW_6.ipynb\" target=\"_parent\"><img src=\"https://colab.research.google.com/assets/colab-badge.svg\" alt=\"Open In Colab\"/></a>"
      ]
    },
    {
      "cell_type": "code",
      "execution_count": 91,
      "metadata": {
        "id": "ptaDY14IJFiC"
      },
      "outputs": [],
      "source": [
        "import torch\n",
        "from torchvision import datasets\n",
        "import torch.nn as nn\n",
        "from torch.utils.data import DataLoader\n",
        "import torchvision\n",
        "from torchvision import transforms\n",
        "from tqdm import tqdm"
      ]
    },
    {
      "cell_type": "code",
      "source": [
        "transformation = transforms.Compose([\n",
        "    transforms.ToTensor(),\n",
        "    transforms.Normalize((0.4914, 0.4822, 0.4465), (0.2023, 0.1994, 0.2010))\n",
        "])\n",
        "\n",
        "train_dataset = datasets.CIFAR10(root='./data', train=True, download=True,\n",
        "                                 transform=transforms.Compose([transforms.RandomCrop(size=32, padding=4),\n",
        "                                                               transforms.RandomHorizontalFlip(), transformation]))\n",
        "train_dataset_fast = datasets.CIFAR10(root='./data', train=True, download=True,\n",
        "                                      transform=transformation)\n",
        "test_dataset = datasets.CIFAR10(root='./data', train=False, download=True, transform=transformation)\n",
        "\n",
        "train_loader = DataLoader(train_dataset, batch_size=100, shuffle=True, num_workers=4)\n",
        "train_loader_fast = DataLoader(train_dataset_fast, batch_size=100, shuffle=True, num_workers=4)\n",
        "\n",
        "test_loader = DataLoader(test_dataset, batch_size=100, shuffle=False, num_workers=4)"
      ],
      "metadata": {
        "colab": {
          "base_uri": "https://localhost:8080/"
        },
        "id": "FxwbLWt_JOiP",
        "outputId": "1923788a-6b60-49e9-a390-5d26212d5584"
      },
      "execution_count": 119,
      "outputs": [
        {
          "output_type": "stream",
          "name": "stdout",
          "text": [
            "Files already downloaded and verified\n",
            "Files already downloaded and verified\n",
            "Files already downloaded and verified\n"
          ]
        }
      ]
    },
    {
      "cell_type": "markdown",
      "source": [
        "#Question 1"
      ],
      "metadata": {
        "id": "4pCaM4KkHx8g"
      }
    },
    {
      "cell_type": "code",
      "source": [
        "class Model(nn.Module):\n",
        "  def __init__(self):\n",
        "    super(Model, self).__init__()\n",
        "    self.layers = nn.Sequential(\n",
        "      nn.Conv2d(3, 5, 5),\n",
        "      nn.ReLU(),\n",
        "      nn.MaxPool2d(2, 2),\n",
        "      nn.Conv2d(5, 5, 5),\n",
        "      nn.ReLU(),\n",
        "      nn.MaxPool2d(2, 2),\n",
        "      nn.Flatten(),\n",
        "      nn.Linear(125, 30),\n",
        "      nn.ReLU(),\n",
        "      nn.Linear(30, 10),\n",
        "    )\n",
        "\n",
        "  def forward(self, x):\n",
        "    out = self.layers(x)\n",
        "    return out\n",
        "\n",
        "device = 'cuda' if torch.cuda.is_available() else 'cpu'"
      ],
      "metadata": {
        "id": "wYnq4MtuJOky"
      },
      "execution_count": 78,
      "outputs": []
    },
    {
      "cell_type": "code",
      "source": [
        "def train():\n",
        "  device = torch.device('cuda' if torch.cuda.is_available() else 'cpu')\n",
        "  model = Model().to(device)\n",
        "  optimizer = torch.optim.SGD(model.parameters(), lr=0.01, momentum=0.9)\n",
        "  criterion = nn.CrossEntropyLoss()\n",
        "\n",
        "  iterations = 2\n",
        "  for it in range(iterations):\n",
        "    for x, y in tqdm(train_loader):\n",
        "      x, y = x.to(device), y.to(device)\n",
        "      optimizer.zero_grad()\n",
        "      logits = model(x)\n",
        "      loss = criterion(logits, y)\n",
        "      loss.backward()\n",
        "      optimizer.step()\n",
        "\n",
        "    matches = 0\n",
        "    samples = 0\n",
        "    for _, (x, y) in tqdm(enumerate(test_loader)):\n",
        "      x, y = x.to(device), y.to(device)\n",
        "      logits = model(x)\n",
        "      samples += x.shape[0]\n",
        "      matches += torch.eq(torch.argmax(logits, axis=-1), y).sum().item()\n",
        "    print(f\"Test Accuracy: {matches / samples}\")\n",
        "\n",
        "  return model"
      ],
      "metadata": {
        "id": "46ggioW4JOn6"
      },
      "execution_count": 26,
      "outputs": []
    },
    {
      "cell_type": "code",
      "source": [
        "trained_model = train()"
      ],
      "metadata": {
        "colab": {
          "base_uri": "https://localhost:8080/"
        },
        "id": "Yy9nZGJ3L0Gn",
        "outputId": "56abac22-45c3-4e8a-adb6-859020d46a91"
      },
      "execution_count": 27,
      "outputs": [
        {
          "output_type": "stream",
          "name": "stderr",
          "text": [
            "100%|██████████| 500/500 [00:17<00:00, 28.13it/s]\n",
            "1it [00:02,  2.49s/it]\n"
          ]
        },
        {
          "output_type": "stream",
          "name": "stdout",
          "text": [
            "Test Accuracy: 0.3871\n"
          ]
        },
        {
          "output_type": "stream",
          "name": "stderr",
          "text": [
            "100%|██████████| 500/500 [00:17<00:00, 28.68it/s]\n",
            "1it [00:03,  3.20s/it]"
          ]
        },
        {
          "output_type": "stream",
          "name": "stdout",
          "text": [
            "Test Accuracy: 0.4435\n"
          ]
        },
        {
          "output_type": "stream",
          "name": "stderr",
          "text": [
            "\n"
          ]
        }
      ]
    },
    {
      "cell_type": "code",
      "source": [
        "def calculate_hessian(model):\n",
        "  fast_iter = iter(train_loader_fast)\n",
        "  (x, y) = next(fast_iter)\n",
        "  device = torch.device('cuda' if torch.cuda.is_available() else 'cpu')\n",
        "  x, y = x.to(device), y.to(device)\n",
        "\n",
        "  criterion = nn.CrossEntropyLoss()\n",
        "\n",
        "  logits = model(x)\n",
        "  loss = criterion(logits, y)\n",
        "\n",
        "  grads = torch.autograd.grad(loss, model.parameters(), create_graph=True)\n",
        "  grads = torch.flatten(torch.concatenate([grad.flatten() for grad in grads]))\n",
        "  hessian = []\n",
        "  print('computing hessian...')\n",
        "  for g in grads:\n",
        "    hess = torch.autograd.grad(g, model.parameters(), retain_graph=True)\n",
        "    hess = torch.flatten(torch.concatenate([h.flatten() for h in hess]))\n",
        "    hessian.append(hess)\n",
        "  hessian = torch.stack(hessian)\n",
        "  print('computed hessian')\n",
        "  print(hessian.shape)\n",
        "\n",
        "  return hessian"
      ],
      "metadata": {
        "id": "qnG21yxDMFQI"
      },
      "execution_count": 65,
      "outputs": []
    },
    {
      "cell_type": "code",
      "source": [
        "H = calculate_hessian(trained_model)"
      ],
      "metadata": {
        "colab": {
          "base_uri": "https://localhost:8080/"
        },
        "id": "9K9QdJIXe8Lz",
        "outputId": "161b272f-586d-4821-8f72-2968dde6f93d"
      },
      "execution_count": 66,
      "outputs": [
        {
          "output_type": "stream",
          "name": "stdout",
          "text": [
            "computing hessian...\n",
            "computed hessian\n",
            "torch.Size([5100, 5100])\n"
          ]
        }
      ]
    },
    {
      "cell_type": "code",
      "source": [
        "eigens, _ = torch.linalg.eig(H)"
      ],
      "metadata": {
        "id": "LrTznQtTneOS"
      },
      "execution_count": 70,
      "outputs": []
    },
    {
      "cell_type": "code",
      "source": [
        "eigens_real = eigens.real\n",
        "lambdas, _ = torch.sort(eigens_real)\n",
        "smallest_lambdas = lambdas[:5]\n",
        "largest_lambdas = lambdas[-5:]\n",
        "\n",
        "print(f\"Smallest eigenvalues: {[l.item() for l in smallest_lambdas]}\")\n",
        "print(f\"Largest eigenvalues: {[l.item() for l in largest_lambdas]}\")\n",
        "print(f\"Smoothness constant: {lambdas[-1].item()}\")"
      ],
      "metadata": {
        "colab": {
          "base_uri": "https://localhost:8080/"
        },
        "id": "8wjfWBpTpKxe",
        "outputId": "ba4844f3-477c-4c93-840f-49118ae43278"
      },
      "execution_count": 90,
      "outputs": [
        {
          "output_type": "stream",
          "name": "stdout",
          "text": [
            "Smallest eigenvalues: [-3.288841962814331, -2.269296407699585, -2.157702922821045, -2.018486738204956, -1.9371747970581055]\n",
            "Largest eigenvalues: [17.273191452026367, 18.88569450378418, 23.667661666870117, 29.18709373474121, 56.27843475341797]\n",
            "Smoothness constant: 56.27843475341797\n"
          ]
        }
      ]
    },
    {
      "cell_type": "markdown",
      "source": [
        "*   5 smallest eigenvalues: -3.29, -2.27, -2.16, -2.02, -1.94\n",
        "*   5 largest eigenvalues: 17.27, 18.89, 23.67, 29.19, 56.28\n",
        "*   smoothness constant is the largest eigenvalue: 56.28"
      ],
      "metadata": {
        "id": "Zkv9pkFlHUOA"
      }
    },
    {
      "cell_type": "markdown",
      "source": [
        "#Question 2"
      ],
      "metadata": {
        "id": "IXYnXC-UwnHW"
      }
    },
    {
      "cell_type": "code",
      "source": [
        "def HVP(model):\n",
        "  beta = 0.9\n",
        "  num_params = 0\n",
        "  for p in model.parameters():\n",
        "    num_params += p.numel()\n",
        "  v = torch.randn(num_params).to(device)\n",
        "  v = v / torch.norm(v)\n",
        "  criterion = nn.CrossEntropyLoss()\n",
        "  iterations = 100\n",
        "\n",
        "  lambdas = []\n",
        "\n",
        "  for x, y in tqdm(train_loader_fast):\n",
        "    x, y = x.to(device), y.to(device)\n",
        "\n",
        "    logits = model(x)\n",
        "    loss = criterion(logits, y)\n",
        "\n",
        "    grads = torch.autograd.grad(loss, model.parameters(), create_graph=True)\n",
        "    grads = torch.flatten(torch.concatenate([grad.flatten() for grad in grads]))\n",
        "\n",
        "    scalar = torch.dot(grads, v)\n",
        "    u = torch.autograd.grad(scalar, model.parameters(), retain_graph=True)\n",
        "    u = torch.flatten(torch.concatenate([i.flatten() for i in u]))\n",
        "\n",
        "    model.eval()\n",
        "    largest_lambda = torch.dot(v, u)\n",
        "    lambdas.append(largest_lambda.item())\n",
        "\n",
        "    # v = u / torch.norm(u)\n",
        "    w = u / torch.norm(u)\n",
        "    v = (beta * v + (1 - beta) * w) / torch.norm(beta * v + (1 - beta) * w)\n",
        "    model.train()\n",
        "\n",
        "  return lambdas\n"
      ],
      "metadata": {
        "id": "pbqCRkDlqtIP"
      },
      "execution_count": 113,
      "outputs": []
    },
    {
      "cell_type": "code",
      "source": [
        "lambdas = HVP(trained_model)\n",
        "print('lambdas')\n",
        "for i in range(len(lambdas)):\n",
        "  print(f'Iteration {i}: {lambdas[i]}')"
      ],
      "metadata": {
        "colab": {
          "base_uri": "https://localhost:8080/"
        },
        "id": "nN_1wMD9yIYT",
        "outputId": "71b2c852-d0ea-494a-db3a-41f50d03a0c6"
      },
      "execution_count": 93,
      "outputs": [
        {
          "output_type": "stream",
          "name": "stdout",
          "text": [
            "lambdas\n",
            "Iteration 0: 0.0305522158741951\n",
            "Iteration 1: 0.592523992061615\n",
            "Iteration 2: 1.9779537916183472\n",
            "Iteration 3: 5.465104103088379\n",
            "Iteration 4: 5.223464012145996\n",
            "Iteration 5: 11.303793907165527\n",
            "Iteration 6: 19.11136245727539\n",
            "Iteration 7: 19.27696418762207\n",
            "Iteration 8: 18.090431213378906\n",
            "Iteration 9: 21.556529998779297\n",
            "Iteration 10: 23.42266845703125\n",
            "Iteration 11: 27.26761817932129\n",
            "Iteration 12: 34.03251647949219\n",
            "Iteration 13: 39.713348388671875\n",
            "Iteration 14: 32.801475524902344\n",
            "Iteration 15: 44.373634338378906\n",
            "Iteration 16: 36.10469055175781\n",
            "Iteration 17: 45.42321014404297\n",
            "Iteration 18: 41.0089111328125\n",
            "Iteration 19: 50.74760818481445\n",
            "Iteration 20: 59.04662322998047\n",
            "Iteration 21: 44.14892578125\n",
            "Iteration 22: 48.51994705200195\n",
            "Iteration 23: 40.65997314453125\n",
            "Iteration 24: 39.01117706298828\n",
            "Iteration 25: 50.71582794189453\n",
            "Iteration 26: 36.936302185058594\n",
            "Iteration 27: 43.978187561035156\n",
            "Iteration 28: 40.036041259765625\n",
            "Iteration 29: 53.984947204589844\n",
            "Iteration 30: 46.79404830932617\n",
            "Iteration 31: 41.78108215332031\n",
            "Iteration 32: 43.06134033203125\n",
            "Iteration 33: 42.07078552246094\n",
            "Iteration 34: 37.39076232910156\n",
            "Iteration 35: 46.7313346862793\n",
            "Iteration 36: 40.650062561035156\n",
            "Iteration 37: 47.549888610839844\n",
            "Iteration 38: 49.46973419189453\n",
            "Iteration 39: 41.624603271484375\n",
            "Iteration 40: 38.76784896850586\n",
            "Iteration 41: 48.23666000366211\n",
            "Iteration 42: 38.76176452636719\n",
            "Iteration 43: 37.79555130004883\n",
            "Iteration 44: 44.37104797363281\n",
            "Iteration 45: 54.44451904296875\n",
            "Iteration 46: 45.779762268066406\n",
            "Iteration 47: 39.71881103515625\n",
            "Iteration 48: 53.50048065185547\n",
            "Iteration 49: 45.17700958251953\n",
            "Iteration 50: 42.82368469238281\n",
            "Iteration 51: 60.34929656982422\n",
            "Iteration 52: 57.04107666015625\n",
            "Iteration 53: 53.287349700927734\n",
            "Iteration 54: 41.51445770263672\n",
            "Iteration 55: 46.383331298828125\n",
            "Iteration 56: 61.31837463378906\n",
            "Iteration 57: 50.75201416015625\n",
            "Iteration 58: 47.27742004394531\n",
            "Iteration 59: 53.88966369628906\n",
            "Iteration 60: 53.584312438964844\n",
            "Iteration 61: 36.1176643371582\n",
            "Iteration 62: 45.89213562011719\n",
            "Iteration 63: 47.033775329589844\n",
            "Iteration 64: 48.13104248046875\n",
            "Iteration 65: 40.28200149536133\n",
            "Iteration 66: 39.57013702392578\n",
            "Iteration 67: 39.08991241455078\n",
            "Iteration 68: 50.69392395019531\n",
            "Iteration 69: 44.62425231933594\n",
            "Iteration 70: 52.04399108886719\n",
            "Iteration 71: 54.09337615966797\n",
            "Iteration 72: 29.825592041015625\n",
            "Iteration 73: 47.53691101074219\n",
            "Iteration 74: 56.978057861328125\n",
            "Iteration 75: 47.36624526977539\n",
            "Iteration 76: 48.26551818847656\n",
            "Iteration 77: 47.77178955078125\n",
            "Iteration 78: 33.285728454589844\n",
            "Iteration 79: 43.45701217651367\n",
            "Iteration 80: 36.66896057128906\n",
            "Iteration 81: 44.23032760620117\n",
            "Iteration 82: 45.48377227783203\n",
            "Iteration 83: 53.855621337890625\n",
            "Iteration 84: 48.4761962890625\n",
            "Iteration 85: 48.75202178955078\n",
            "Iteration 86: 45.2906494140625\n",
            "Iteration 87: 51.48723602294922\n",
            "Iteration 88: 49.494773864746094\n",
            "Iteration 89: 60.492652893066406\n",
            "Iteration 90: 46.144752502441406\n",
            "Iteration 91: 38.35456085205078\n",
            "Iteration 92: 50.65728759765625\n",
            "Iteration 93: 36.95448303222656\n",
            "Iteration 94: 45.39581298828125\n",
            "Iteration 95: 36.56692886352539\n",
            "Iteration 96: 52.11139678955078\n",
            "Iteration 97: 39.346702575683594\n",
            "Iteration 98: 50.51545333862305\n",
            "Iteration 99: 38.77521896362305\n",
            "Iteration 100: 41.995582580566406\n",
            "Iteration 101: 46.779727935791016\n",
            "Iteration 102: 43.063209533691406\n",
            "Iteration 103: 47.12139892578125\n",
            "Iteration 104: 48.28694534301758\n",
            "Iteration 105: 50.02317810058594\n",
            "Iteration 106: 42.13432312011719\n",
            "Iteration 107: 42.40869903564453\n",
            "Iteration 108: 49.31084442138672\n",
            "Iteration 109: 59.24376678466797\n",
            "Iteration 110: 42.777767181396484\n",
            "Iteration 111: 39.878013610839844\n",
            "Iteration 112: 47.33000183105469\n",
            "Iteration 113: 44.97028350830078\n",
            "Iteration 114: 35.991111755371094\n",
            "Iteration 115: 50.25270080566406\n",
            "Iteration 116: 40.99501037597656\n",
            "Iteration 117: 47.524375915527344\n",
            "Iteration 118: 44.64616394042969\n",
            "Iteration 119: 46.07427978515625\n",
            "Iteration 120: 41.26439666748047\n",
            "Iteration 121: 45.06272888183594\n",
            "Iteration 122: 34.40838623046875\n",
            "Iteration 123: 45.47121810913086\n",
            "Iteration 124: 49.004730224609375\n",
            "Iteration 125: 45.15687942504883\n",
            "Iteration 126: 43.943817138671875\n",
            "Iteration 127: 41.00092315673828\n",
            "Iteration 128: 40.10912322998047\n",
            "Iteration 129: 50.162933349609375\n",
            "Iteration 130: 38.99421691894531\n",
            "Iteration 131: 35.84587097167969\n",
            "Iteration 132: 43.427974700927734\n",
            "Iteration 133: 44.78208541870117\n",
            "Iteration 134: 43.51862335205078\n",
            "Iteration 135: 45.32418441772461\n",
            "Iteration 136: 53.035770416259766\n",
            "Iteration 137: 37.29404067993164\n",
            "Iteration 138: 57.950714111328125\n",
            "Iteration 139: 36.215728759765625\n",
            "Iteration 140: 45.44795227050781\n",
            "Iteration 141: 45.16669464111328\n",
            "Iteration 142: 45.937217712402344\n",
            "Iteration 143: 41.081687927246094\n",
            "Iteration 144: 38.85807418823242\n",
            "Iteration 145: 49.263954162597656\n",
            "Iteration 146: 49.387290954589844\n",
            "Iteration 147: 48.635520935058594\n",
            "Iteration 148: 47.59125518798828\n",
            "Iteration 149: 45.390228271484375\n",
            "Iteration 150: 37.45897674560547\n",
            "Iteration 151: 39.11180877685547\n",
            "Iteration 152: 45.76543045043945\n",
            "Iteration 153: 46.685874938964844\n",
            "Iteration 154: 51.06541061401367\n",
            "Iteration 155: 52.10881042480469\n",
            "Iteration 156: 45.49209213256836\n",
            "Iteration 157: 47.50536346435547\n",
            "Iteration 158: 48.23878860473633\n",
            "Iteration 159: 39.2696533203125\n",
            "Iteration 160: 51.29507827758789\n",
            "Iteration 161: 61.136566162109375\n",
            "Iteration 162: 45.500301361083984\n",
            "Iteration 163: 54.498390197753906\n",
            "Iteration 164: 53.963233947753906\n",
            "Iteration 165: 42.73511505126953\n",
            "Iteration 166: 46.24016571044922\n",
            "Iteration 167: 50.46357727050781\n",
            "Iteration 168: 34.575645446777344\n",
            "Iteration 169: 43.03034591674805\n",
            "Iteration 170: 41.70036315917969\n",
            "Iteration 171: 53.244354248046875\n",
            "Iteration 172: 52.608734130859375\n",
            "Iteration 173: 49.24190139770508\n",
            "Iteration 174: 45.56605529785156\n",
            "Iteration 175: 46.25497817993164\n",
            "Iteration 176: 43.88530731201172\n",
            "Iteration 177: 45.03086471557617\n",
            "Iteration 178: 43.727012634277344\n",
            "Iteration 179: 46.384002685546875\n",
            "Iteration 180: 48.7158088684082\n",
            "Iteration 181: 54.84882354736328\n",
            "Iteration 182: 53.934043884277344\n",
            "Iteration 183: 38.171451568603516\n",
            "Iteration 184: 49.41587448120117\n",
            "Iteration 185: 43.020408630371094\n",
            "Iteration 186: 41.87567901611328\n",
            "Iteration 187: 53.619712829589844\n",
            "Iteration 188: 47.97819519042969\n",
            "Iteration 189: 44.794532775878906\n",
            "Iteration 190: 45.83366394042969\n",
            "Iteration 191: 42.57232666015625\n",
            "Iteration 192: 58.53748321533203\n",
            "Iteration 193: 43.80119323730469\n",
            "Iteration 194: 41.30021667480469\n",
            "Iteration 195: 36.856327056884766\n",
            "Iteration 196: 42.59459686279297\n",
            "Iteration 197: 48.10308837890625\n",
            "Iteration 198: 34.92113494873047\n",
            "Iteration 199: 42.87010955810547\n",
            "Iteration 200: 48.9256591796875\n",
            "Iteration 201: 45.112396240234375\n",
            "Iteration 202: 37.404579162597656\n",
            "Iteration 203: 50.09962463378906\n",
            "Iteration 204: 31.605255126953125\n",
            "Iteration 205: 48.810630798339844\n",
            "Iteration 206: 41.792057037353516\n",
            "Iteration 207: 38.54225158691406\n",
            "Iteration 208: 39.594627380371094\n",
            "Iteration 209: 54.71253967285156\n",
            "Iteration 210: 42.49919891357422\n",
            "Iteration 211: 40.49390411376953\n",
            "Iteration 212: 46.64921569824219\n",
            "Iteration 213: 38.23014450073242\n",
            "Iteration 214: 40.404300689697266\n",
            "Iteration 215: 58.93644332885742\n",
            "Iteration 216: 33.99521255493164\n",
            "Iteration 217: 36.38469314575195\n",
            "Iteration 218: 60.39999771118164\n",
            "Iteration 219: 43.23949432373047\n",
            "Iteration 220: 47.897796630859375\n",
            "Iteration 221: 52.26337814331055\n",
            "Iteration 222: 56.72822570800781\n",
            "Iteration 223: 42.50447082519531\n",
            "Iteration 224: 50.25816345214844\n",
            "Iteration 225: 62.06451416015625\n",
            "Iteration 226: 40.99268341064453\n",
            "Iteration 227: 47.15078353881836\n",
            "Iteration 228: 50.26145935058594\n",
            "Iteration 229: 40.68722152709961\n",
            "Iteration 230: 40.14710998535156\n",
            "Iteration 231: 43.80040740966797\n",
            "Iteration 232: 43.493221282958984\n",
            "Iteration 233: 43.60009002685547\n",
            "Iteration 234: 48.50664520263672\n",
            "Iteration 235: 46.07913589477539\n",
            "Iteration 236: 48.719085693359375\n",
            "Iteration 237: 35.02852249145508\n",
            "Iteration 238: 46.277854919433594\n",
            "Iteration 239: 47.508522033691406\n",
            "Iteration 240: 43.393226623535156\n",
            "Iteration 241: 49.722103118896484\n",
            "Iteration 242: 45.03766632080078\n",
            "Iteration 243: 42.558921813964844\n",
            "Iteration 244: 32.74586486816406\n",
            "Iteration 245: 48.11382293701172\n",
            "Iteration 246: 50.92255783081055\n",
            "Iteration 247: 40.398841857910156\n",
            "Iteration 248: 49.40190124511719\n",
            "Iteration 249: 50.24700927734375\n",
            "Iteration 250: 44.454132080078125\n",
            "Iteration 251: 33.63523864746094\n",
            "Iteration 252: 45.62763977050781\n",
            "Iteration 253: 44.393775939941406\n",
            "Iteration 254: 37.65966796875\n",
            "Iteration 255: 42.01835632324219\n",
            "Iteration 256: 41.106971740722656\n",
            "Iteration 257: 39.14288330078125\n",
            "Iteration 258: 44.838584899902344\n",
            "Iteration 259: 53.19981384277344\n",
            "Iteration 260: 56.9248161315918\n",
            "Iteration 261: 45.21868133544922\n",
            "Iteration 262: 33.84403991699219\n",
            "Iteration 263: 53.3988037109375\n",
            "Iteration 264: 52.65272903442383\n",
            "Iteration 265: 36.37799835205078\n",
            "Iteration 266: 43.516212463378906\n",
            "Iteration 267: 43.06981658935547\n",
            "Iteration 268: 39.074058532714844\n",
            "Iteration 269: 42.485904693603516\n",
            "Iteration 270: 46.76582336425781\n",
            "Iteration 271: 37.84917449951172\n",
            "Iteration 272: 37.06785583496094\n",
            "Iteration 273: 45.16862487792969\n",
            "Iteration 274: 37.97425842285156\n",
            "Iteration 275: 36.15016174316406\n",
            "Iteration 276: 38.41825866699219\n",
            "Iteration 277: 51.69194030761719\n",
            "Iteration 278: 38.834144592285156\n",
            "Iteration 279: 47.18233871459961\n",
            "Iteration 280: 46.17885208129883\n",
            "Iteration 281: 34.779701232910156\n",
            "Iteration 282: 39.588226318359375\n",
            "Iteration 283: 39.319122314453125\n",
            "Iteration 284: 50.79718017578125\n",
            "Iteration 285: 45.536582946777344\n",
            "Iteration 286: 48.176185607910156\n",
            "Iteration 287: 41.121150970458984\n",
            "Iteration 288: 46.833927154541016\n",
            "Iteration 289: 52.67832946777344\n",
            "Iteration 290: 48.58409881591797\n",
            "Iteration 291: 52.34590148925781\n",
            "Iteration 292: 50.386444091796875\n",
            "Iteration 293: 54.370567321777344\n",
            "Iteration 294: 37.057762145996094\n",
            "Iteration 295: 47.33871841430664\n",
            "Iteration 296: 41.01878356933594\n",
            "Iteration 297: 57.57432556152344\n",
            "Iteration 298: 38.828575134277344\n",
            "Iteration 299: 48.1137809753418\n",
            "Iteration 300: 39.60728073120117\n",
            "Iteration 301: 34.37605667114258\n",
            "Iteration 302: 49.05710983276367\n",
            "Iteration 303: 43.02808380126953\n",
            "Iteration 304: 50.381614685058594\n",
            "Iteration 305: 44.929954528808594\n",
            "Iteration 306: 39.701927185058594\n",
            "Iteration 307: 58.90739822387695\n",
            "Iteration 308: 44.112892150878906\n",
            "Iteration 309: 50.20412063598633\n",
            "Iteration 310: 37.527618408203125\n",
            "Iteration 311: 56.28972244262695\n",
            "Iteration 312: 55.34806823730469\n",
            "Iteration 313: 46.53684997558594\n",
            "Iteration 314: 41.09571838378906\n",
            "Iteration 315: 41.05799102783203\n",
            "Iteration 316: 44.65385437011719\n",
            "Iteration 317: 46.533626556396484\n",
            "Iteration 318: 48.943580627441406\n",
            "Iteration 319: 50.77855682373047\n",
            "Iteration 320: 55.056480407714844\n",
            "Iteration 321: 37.090370178222656\n",
            "Iteration 322: 47.35074234008789\n",
            "Iteration 323: 36.04927062988281\n",
            "Iteration 324: 41.38160705566406\n",
            "Iteration 325: 44.165504455566406\n",
            "Iteration 326: 39.28017044067383\n",
            "Iteration 327: 43.838863372802734\n",
            "Iteration 328: 60.64859390258789\n",
            "Iteration 329: 46.08259963989258\n",
            "Iteration 330: 50.21715545654297\n",
            "Iteration 331: 34.021385192871094\n",
            "Iteration 332: 47.70835876464844\n",
            "Iteration 333: 42.937400817871094\n",
            "Iteration 334: 49.27947998046875\n",
            "Iteration 335: 49.128822326660156\n",
            "Iteration 336: 52.98906707763672\n",
            "Iteration 337: 43.51017761230469\n",
            "Iteration 338: 40.560821533203125\n",
            "Iteration 339: 41.85801696777344\n",
            "Iteration 340: 53.95828628540039\n",
            "Iteration 341: 37.183074951171875\n",
            "Iteration 342: 36.00168991088867\n",
            "Iteration 343: 36.62017059326172\n",
            "Iteration 344: 41.84112548828125\n",
            "Iteration 345: 45.62493133544922\n",
            "Iteration 346: 50.5610466003418\n",
            "Iteration 347: 49.59592819213867\n",
            "Iteration 348: 38.285552978515625\n",
            "Iteration 349: 46.42457580566406\n",
            "Iteration 350: 35.52458953857422\n",
            "Iteration 351: 34.10252380371094\n",
            "Iteration 352: 48.195884704589844\n",
            "Iteration 353: 47.982208251953125\n",
            "Iteration 354: 44.55577087402344\n",
            "Iteration 355: 43.44591522216797\n",
            "Iteration 356: 45.978919982910156\n",
            "Iteration 357: 36.773597717285156\n",
            "Iteration 358: 49.0418701171875\n",
            "Iteration 359: 39.51490020751953\n",
            "Iteration 360: 41.64604568481445\n",
            "Iteration 361: 52.67011642456055\n",
            "Iteration 362: 40.969818115234375\n",
            "Iteration 363: 45.10209655761719\n",
            "Iteration 364: 49.88519287109375\n",
            "Iteration 365: 52.286109924316406\n",
            "Iteration 366: 41.711517333984375\n",
            "Iteration 367: 39.885475158691406\n",
            "Iteration 368: 36.02787780761719\n",
            "Iteration 369: 41.349830627441406\n",
            "Iteration 370: 46.009483337402344\n",
            "Iteration 371: 51.971221923828125\n",
            "Iteration 372: 50.8646240234375\n",
            "Iteration 373: 42.523990631103516\n",
            "Iteration 374: 39.15355682373047\n",
            "Iteration 375: 59.95737075805664\n",
            "Iteration 376: 50.93095779418945\n",
            "Iteration 377: 47.235877990722656\n",
            "Iteration 378: 40.66327667236328\n",
            "Iteration 379: 45.856143951416016\n",
            "Iteration 380: 50.54689025878906\n",
            "Iteration 381: 43.46666717529297\n",
            "Iteration 382: 52.53847122192383\n",
            "Iteration 383: 48.27019500732422\n",
            "Iteration 384: 47.99473571777344\n",
            "Iteration 385: 57.06803894042969\n",
            "Iteration 386: 51.537940979003906\n",
            "Iteration 387: 40.764991760253906\n",
            "Iteration 388: 52.727882385253906\n",
            "Iteration 389: 49.60407257080078\n",
            "Iteration 390: 41.27604293823242\n",
            "Iteration 391: 38.752220153808594\n",
            "Iteration 392: 40.62257385253906\n",
            "Iteration 393: 38.88059616088867\n",
            "Iteration 394: 39.107826232910156\n",
            "Iteration 395: 51.54515075683594\n",
            "Iteration 396: 47.302581787109375\n",
            "Iteration 397: 42.77373504638672\n",
            "Iteration 398: 47.971004486083984\n",
            "Iteration 399: 39.172325134277344\n",
            "Iteration 400: 49.057918548583984\n",
            "Iteration 401: 45.00428009033203\n",
            "Iteration 402: 47.79970169067383\n",
            "Iteration 403: 37.96242904663086\n",
            "Iteration 404: 43.917510986328125\n",
            "Iteration 405: 40.540252685546875\n",
            "Iteration 406: 39.180267333984375\n",
            "Iteration 407: 52.26150131225586\n",
            "Iteration 408: 38.70984649658203\n",
            "Iteration 409: 52.754085540771484\n",
            "Iteration 410: 38.171348571777344\n",
            "Iteration 411: 34.48834228515625\n",
            "Iteration 412: 34.69858169555664\n",
            "Iteration 413: 62.91756820678711\n",
            "Iteration 414: 58.82111358642578\n",
            "Iteration 415: 56.27279281616211\n",
            "Iteration 416: 60.0424690246582\n",
            "Iteration 417: 34.35071563720703\n",
            "Iteration 418: 41.86893844604492\n",
            "Iteration 419: 44.33824920654297\n",
            "Iteration 420: 39.73572540283203\n",
            "Iteration 421: 45.80109786987305\n",
            "Iteration 422: 56.67000198364258\n",
            "Iteration 423: 38.644126892089844\n",
            "Iteration 424: 50.68085479736328\n",
            "Iteration 425: 47.3431396484375\n",
            "Iteration 426: 55.728065490722656\n",
            "Iteration 427: 41.1558952331543\n",
            "Iteration 428: 55.607704162597656\n",
            "Iteration 429: 40.942527770996094\n",
            "Iteration 430: 41.19548797607422\n",
            "Iteration 431: 35.4005126953125\n",
            "Iteration 432: 62.29859161376953\n",
            "Iteration 433: 33.79069519042969\n",
            "Iteration 434: 47.945316314697266\n",
            "Iteration 435: 44.071495056152344\n",
            "Iteration 436: 50.66575622558594\n",
            "Iteration 437: 40.64389419555664\n",
            "Iteration 438: 36.97924041748047\n",
            "Iteration 439: 45.38874053955078\n",
            "Iteration 440: 44.9259033203125\n",
            "Iteration 441: 44.892356872558594\n",
            "Iteration 442: 38.03450012207031\n",
            "Iteration 443: 54.17406463623047\n",
            "Iteration 444: 42.02918243408203\n",
            "Iteration 445: 40.09678268432617\n",
            "Iteration 446: 43.68160629272461\n",
            "Iteration 447: 42.90190124511719\n",
            "Iteration 448: 45.117435455322266\n",
            "Iteration 449: 49.812721252441406\n",
            "Iteration 450: 46.797447204589844\n",
            "Iteration 451: 50.9424934387207\n",
            "Iteration 452: 54.98997497558594\n",
            "Iteration 453: 47.7492790222168\n",
            "Iteration 454: 38.769081115722656\n",
            "Iteration 455: 54.52131652832031\n",
            "Iteration 456: 45.24320983886719\n",
            "Iteration 457: 38.997440338134766\n",
            "Iteration 458: 38.888511657714844\n",
            "Iteration 459: 32.9849853515625\n",
            "Iteration 460: 61.4620361328125\n",
            "Iteration 461: 45.68022155761719\n",
            "Iteration 462: 50.00025177001953\n",
            "Iteration 463: 43.956199645996094\n",
            "Iteration 464: 53.528350830078125\n",
            "Iteration 465: 45.75731658935547\n",
            "Iteration 466: 38.836280822753906\n",
            "Iteration 467: 33.74382400512695\n",
            "Iteration 468: 42.07436752319336\n",
            "Iteration 469: 38.65576171875\n",
            "Iteration 470: 53.13042068481445\n",
            "Iteration 471: 46.96754455566406\n",
            "Iteration 472: 38.31800079345703\n",
            "Iteration 473: 41.19560241699219\n",
            "Iteration 474: 41.36492156982422\n",
            "Iteration 475: 39.182071685791016\n",
            "Iteration 476: 40.827064514160156\n",
            "Iteration 477: 38.78744125366211\n",
            "Iteration 478: 41.042503356933594\n",
            "Iteration 479: 43.02345275878906\n",
            "Iteration 480: 42.18193054199219\n",
            "Iteration 481: 47.39788055419922\n",
            "Iteration 482: 55.56306457519531\n",
            "Iteration 483: 33.98638916015625\n",
            "Iteration 484: 43.65544509887695\n",
            "Iteration 485: 40.873680114746094\n",
            "Iteration 486: 48.991111755371094\n",
            "Iteration 487: 47.73716735839844\n",
            "Iteration 488: 41.31489562988281\n",
            "Iteration 489: 42.76979064941406\n",
            "Iteration 490: 48.85908508300781\n",
            "Iteration 491: 44.58842086791992\n",
            "Iteration 492: 46.13006591796875\n",
            "Iteration 493: 44.47901153564453\n",
            "Iteration 494: 42.896644592285156\n",
            "Iteration 495: 44.26133728027344\n",
            "Iteration 496: 39.99367904663086\n",
            "Iteration 497: 40.74501037597656\n",
            "Iteration 498: 41.064239501953125\n",
            "Iteration 499: 47.42823791503906\n"
          ]
        }
      ]
    },
    {
      "cell_type": "markdown",
      "source": [
        "The largest eigenvalue of the Hessian is approximately 47.43 after iterating through the dataset once. This is similar to the eigenvalue calculated from question 1, 56.28"
      ],
      "metadata": {
        "id": "MV7yvEGmHAmZ"
      }
    },
    {
      "cell_type": "markdown",
      "source": [
        "#Question 3"
      ],
      "metadata": {
        "id": "Ky8HbrFnG1FG"
      }
    },
    {
      "cell_type": "code",
      "source": [
        "def train_resnet(model, iterations):\n",
        "  optimizer = torch.optim.SGD(model.parameters(), lr=0.01, momentum=0.9)\n",
        "  criterion = nn.CrossEntropyLoss()\n",
        "  model.train()\n",
        "  for it in range(iterations):\n",
        "    for x, y in tqdm(train_loader):\n",
        "      x, y = x.to(device), y.to(device)\n",
        "      optimizer.zero_grad()\n",
        "      logits = model(x)\n",
        "      loss = criterion(logits, y)\n",
        "      loss.backward()\n",
        "      optimizer.step()\n",
        "\n",
        "  model.eval()\n",
        "  matches = 0\n",
        "  samples = 0\n",
        "  for _, (x, y) in tqdm(enumerate(test_loader)):\n",
        "    x, y = x.to(device), y.to(device)\n",
        "    logits = model(x)\n",
        "    samples += x.shape[0]\n",
        "    matches += torch.eq(torch.argmax(logits, axis=-1), y).sum().item()\n",
        "  print(f\"Test Accuracy: {matches / samples}\")\n",
        "\n",
        "  return model"
      ],
      "metadata": {
        "id": "8BGprXX-0YOQ"
      },
      "execution_count": 122,
      "outputs": []
    },
    {
      "cell_type": "code",
      "source": [
        "resnet = torchvision.models.resnet50().to(device)"
      ],
      "metadata": {
        "id": "Zxfo4C5ky3AC"
      },
      "execution_count": 100,
      "outputs": []
    },
    {
      "cell_type": "code",
      "source": [
        "lambdas = HVP(resnet)\n",
        "print(f'largest Hessian eigenvalue: {lambdas[-1]}')"
      ],
      "metadata": {
        "colab": {
          "base_uri": "https://localhost:8080/"
        },
        "id": "s42kVve-1MAP",
        "outputId": "79871667-278c-4056-ff76-ed4f14cc91ac"
      },
      "execution_count": 114,
      "outputs": [
        {
          "output_type": "stream",
          "name": "stderr",
          "text": [
            "100%|██████████| 500/500 [02:04<00:00,  4.01it/s]"
          ]
        },
        {
          "output_type": "stream",
          "name": "stdout",
          "text": [
            "largest Hessian eigenvalue: 59950.4921875\n"
          ]
        },
        {
          "output_type": "stream",
          "name": "stderr",
          "text": [
            "\n"
          ]
        }
      ]
    },
    {
      "cell_type": "code",
      "source": [
        "resnet_10iter = train_resnet(resnet, iterations=10)"
      ],
      "metadata": {
        "colab": {
          "base_uri": "https://localhost:8080/"
        },
        "id": "aNi-TfB_1Epo",
        "outputId": "3484d391-e74f-4e80-f326-c8487089a906"
      },
      "execution_count": 121,
      "outputs": [
        {
          "output_type": "stream",
          "name": "stderr",
          "text": [
            "100%|██████████| 500/500 [00:33<00:00, 15.14it/s]\n",
            "100%|██████████| 500/500 [00:33<00:00, 14.94it/s]\n",
            "100%|██████████| 500/500 [00:32<00:00, 15.18it/s]\n",
            "100%|██████████| 500/500 [00:33<00:00, 15.01it/s]\n",
            "100%|██████████| 500/500 [00:33<00:00, 15.00it/s]\n",
            "100%|██████████| 500/500 [00:32<00:00, 15.25it/s]\n",
            "100%|██████████| 500/500 [00:33<00:00, 14.92it/s]\n",
            "100%|██████████| 500/500 [00:32<00:00, 15.24it/s]\n",
            "100%|██████████| 500/500 [00:33<00:00, 14.96it/s]\n",
            "100%|██████████| 500/500 [00:34<00:00, 14.31it/s]\n",
            "100it [00:03, 30.68it/s]"
          ]
        },
        {
          "output_type": "stream",
          "name": "stdout",
          "text": [
            "Test Accuracy: 0.5065\n"
          ]
        },
        {
          "output_type": "stream",
          "name": "stderr",
          "text": [
            "\n"
          ]
        }
      ]
    },
    {
      "cell_type": "code",
      "source": [
        "lambdas = HVP(resnet_10iter)\n",
        "print(f'largest Hessian eigenvalue: {lambdas[-1]}')"
      ],
      "metadata": {
        "colab": {
          "base_uri": "https://localhost:8080/"
        },
        "id": "9FU9Haay2yI0",
        "outputId": "ffd6034b-0307-4b65-8dcf-190c0eaeeb3e"
      },
      "execution_count": 134,
      "outputs": [
        {
          "output_type": "stream",
          "name": "stderr",
          "text": [
            "\r  0%|          | 0/500 [00:00<?, ?it/s]/usr/local/lib/python3.11/dist-packages/torch/utils/data/dataloader.py:617: UserWarning: This DataLoader will create 4 worker processes in total. Our suggested max number of worker in current system is 2, which is smaller than what this DataLoader is going to create. Please be aware that excessive worker creation might get DataLoader running slow or even freeze, lower the worker number to avoid potential slowness/freeze if necessary.\n",
            "  warnings.warn(\n",
            "100%|██████████| 500/500 [01:59<00:00,  4.17it/s]"
          ]
        },
        {
          "output_type": "stream",
          "name": "stdout",
          "text": [
            "largest Hessian eigenvalue: 99.82711791992188\n"
          ]
        },
        {
          "output_type": "stream",
          "name": "stderr",
          "text": [
            "\n"
          ]
        }
      ]
    },
    {
      "cell_type": "code",
      "source": [
        "resnet_100iter = train_resnet(resnet_10iter, iterations=100-10)"
      ],
      "metadata": {
        "colab": {
          "base_uri": "https://localhost:8080/"
        },
        "id": "j2gI1z-f1GFa",
        "outputId": "bc43778c-3a5c-4cfe-8692-1ea4a0659c10"
      },
      "execution_count": 136,
      "outputs": [
        {
          "output_type": "stream",
          "name": "stderr",
          "text": [
            "\r  0%|          | 0/500 [00:00<?, ?it/s]/usr/local/lib/python3.11/dist-packages/torch/utils/data/dataloader.py:617: UserWarning: This DataLoader will create 4 worker processes in total. Our suggested max number of worker in current system is 2, which is smaller than what this DataLoader is going to create. Please be aware that excessive worker creation might get DataLoader running slow or even freeze, lower the worker number to avoid potential slowness/freeze if necessary.\n",
            "  warnings.warn(\n",
            "100%|██████████| 500/500 [00:33<00:00, 14.81it/s]\n",
            "100%|██████████| 500/500 [00:32<00:00, 15.28it/s]\n",
            "100%|██████████| 500/500 [00:33<00:00, 15.06it/s]\n",
            "100%|██████████| 500/500 [00:33<00:00, 15.05it/s]\n",
            "100%|██████████| 500/500 [00:33<00:00, 15.11it/s]\n",
            "100%|██████████| 500/500 [00:33<00:00, 15.00it/s]\n",
            "100%|██████████| 500/500 [00:32<00:00, 15.22it/s]\n",
            "100%|██████████| 500/500 [00:33<00:00, 14.94it/s]\n",
            "100%|██████████| 500/500 [00:33<00:00, 15.11it/s]\n",
            "100%|██████████| 500/500 [00:33<00:00, 15.09it/s]\n",
            "100%|██████████| 500/500 [00:33<00:00, 15.07it/s]\n",
            "100%|██████████| 500/500 [00:32<00:00, 15.34it/s]\n",
            "100%|██████████| 500/500 [00:33<00:00, 14.96it/s]\n",
            "100%|██████████| 500/500 [00:33<00:00, 15.05it/s]\n",
            "100%|██████████| 500/500 [00:32<00:00, 15.32it/s]\n",
            "100%|██████████| 500/500 [00:33<00:00, 15.02it/s]\n",
            "100%|██████████| 500/500 [00:32<00:00, 15.32it/s]\n",
            "100%|██████████| 500/500 [00:33<00:00, 15.02it/s]\n",
            "100%|██████████| 500/500 [00:33<00:00, 15.10it/s]\n",
            "100%|██████████| 500/500 [00:32<00:00, 15.23it/s]\n",
            "100%|██████████| 500/500 [00:33<00:00, 14.98it/s]\n",
            "100%|██████████| 500/500 [00:32<00:00, 15.28it/s]\n",
            "100%|██████████| 500/500 [00:33<00:00, 15.02it/s]\n",
            "100%|██████████| 500/500 [00:32<00:00, 15.23it/s]\n",
            "100%|██████████| 500/500 [00:32<00:00, 15.33it/s]\n",
            "100%|██████████| 500/500 [00:33<00:00, 15.13it/s]\n",
            "100%|██████████| 500/500 [00:32<00:00, 15.37it/s]\n",
            "100%|██████████| 500/500 [00:33<00:00, 15.15it/s]\n",
            "100%|██████████| 500/500 [00:32<00:00, 15.34it/s]\n",
            "100%|██████████| 500/500 [00:32<00:00, 15.33it/s]\n",
            "100%|██████████| 500/500 [00:33<00:00, 15.15it/s]\n",
            "100%|██████████| 500/500 [00:32<00:00, 15.45it/s]\n",
            "100%|██████████| 500/500 [00:32<00:00, 15.16it/s]\n",
            "100%|██████████| 500/500 [00:32<00:00, 15.45it/s]\n",
            "100%|██████████| 500/500 [00:33<00:00, 15.08it/s]\n",
            "100%|██████████| 500/500 [00:33<00:00, 15.02it/s]\n",
            "100%|██████████| 500/500 [00:32<00:00, 15.34it/s]\n",
            "100%|██████████| 500/500 [00:33<00:00, 15.12it/s]\n",
            "100%|██████████| 500/500 [00:32<00:00, 15.36it/s]\n",
            "100%|██████████| 500/500 [00:33<00:00, 15.01it/s]\n",
            "100%|██████████| 500/500 [00:33<00:00, 15.12it/s]\n",
            "100%|██████████| 500/500 [00:32<00:00, 15.40it/s]\n",
            "100%|██████████| 500/500 [00:33<00:00, 15.15it/s]\n",
            "100%|██████████| 500/500 [00:32<00:00, 15.44it/s]\n",
            "100%|██████████| 500/500 [00:32<00:00, 15.16it/s]\n",
            "100%|██████████| 500/500 [00:32<00:00, 15.33it/s]\n",
            "100%|██████████| 500/500 [00:32<00:00, 15.16it/s]\n",
            "100%|██████████| 500/500 [00:33<00:00, 15.14it/s]\n",
            "100%|██████████| 500/500 [00:32<00:00, 15.41it/s]\n",
            "100%|██████████| 500/500 [00:33<00:00, 15.11it/s]\n",
            "100%|██████████| 500/500 [00:32<00:00, 15.35it/s]\n",
            "100%|██████████| 500/500 [00:33<00:00, 15.02it/s]\n",
            "100%|██████████| 500/500 [00:32<00:00, 15.25it/s]\n",
            "100%|██████████| 500/500 [00:32<00:00, 15.31it/s]\n",
            "100%|██████████| 500/500 [00:33<00:00, 15.11it/s]\n",
            "100%|██████████| 500/500 [00:32<00:00, 15.40it/s]\n",
            "100%|██████████| 500/500 [00:32<00:00, 15.17it/s]\n",
            "100%|██████████| 500/500 [00:32<00:00, 15.41it/s]\n",
            "100%|██████████| 500/500 [00:33<00:00, 15.07it/s]\n",
            "100%|██████████| 500/500 [00:32<00:00, 15.17it/s]\n",
            "100%|██████████| 500/500 [00:32<00:00, 15.51it/s]\n",
            "100%|██████████| 500/500 [00:33<00:00, 15.13it/s]\n",
            "100%|██████████| 500/500 [00:32<00:00, 15.39it/s]\n",
            "100%|██████████| 500/500 [00:33<00:00, 15.09it/s]\n",
            "100%|██████████| 500/500 [00:32<00:00, 15.37it/s]\n",
            "100%|██████████| 500/500 [00:32<00:00, 15.18it/s]\n",
            "100%|██████████| 500/500 [00:33<00:00, 15.13it/s]\n",
            "100%|██████████| 500/500 [00:32<00:00, 15.40it/s]\n",
            "100%|██████████| 500/500 [00:33<00:00, 15.02it/s]\n",
            "100%|██████████| 500/500 [00:32<00:00, 15.44it/s]\n",
            "100%|██████████| 500/500 [00:33<00:00, 15.12it/s]\n",
            "100%|██████████| 500/500 [00:32<00:00, 15.27it/s]\n",
            "100%|██████████| 500/500 [00:32<00:00, 15.23it/s]\n",
            "100%|██████████| 500/500 [00:33<00:00, 15.09it/s]\n",
            "100%|██████████| 500/500 [00:32<00:00, 15.33it/s]\n",
            "100%|██████████| 500/500 [00:32<00:00, 15.19it/s]\n",
            "100%|██████████| 500/500 [00:32<00:00, 15.37it/s]\n",
            "100%|██████████| 500/500 [00:33<00:00, 15.05it/s]\n",
            "100%|██████████| 500/500 [00:33<00:00, 15.09it/s]\n",
            "100%|██████████| 500/500 [00:32<00:00, 15.38it/s]\n",
            "100%|██████████| 500/500 [00:33<00:00, 15.09it/s]\n",
            "100%|██████████| 500/500 [00:32<00:00, 15.25it/s]\n",
            "100%|██████████| 500/500 [00:33<00:00, 15.01it/s]\n",
            "100%|██████████| 500/500 [00:32<00:00, 15.22it/s]\n",
            "100%|██████████| 500/500 [00:32<00:00, 15.18it/s]\n",
            "100%|██████████| 500/500 [00:33<00:00, 15.09it/s]\n",
            "100%|██████████| 500/500 [00:32<00:00, 15.36it/s]\n",
            "100%|██████████| 500/500 [00:33<00:00, 14.99it/s]\n",
            "100%|██████████| 500/500 [00:32<00:00, 15.38it/s]\n",
            "100%|██████████| 500/500 [00:33<00:00, 15.06it/s]\n",
            "100it [00:03, 32.32it/s]\n"
          ]
        },
        {
          "output_type": "stream",
          "name": "stdout",
          "text": [
            "Test Accuracy: 0.7746\n"
          ]
        }
      ]
    },
    {
      "cell_type": "code",
      "source": [
        "lambdas = HVP(resnet_100iter)\n",
        "print(f'largest Hessian eigenvalue: {lambdas[-1]}')"
      ],
      "metadata": {
        "colab": {
          "base_uri": "https://localhost:8080/"
        },
        "id": "DVag9qdv6i54",
        "outputId": "0f5d3e18-4ca4-43be-e543-ae08002bf75b"
      },
      "execution_count": 137,
      "outputs": [
        {
          "output_type": "stream",
          "name": "stderr",
          "text": [
            "100%|██████████| 500/500 [01:58<00:00,  4.20it/s]"
          ]
        },
        {
          "output_type": "stream",
          "name": "stdout",
          "text": [
            "largest Hessian eigenvalue: 5.35465669631958\n"
          ]
        },
        {
          "output_type": "stream",
          "name": "stderr",
          "text": [
            "\n"
          ]
        }
      ]
    },
    {
      "cell_type": "markdown",
      "source": [
        "As shown from the experiments, I list the largest Hessian eigenvalue below:\n",
        "\n",
        "*   Before Training: 59950.49\n",
        "*   After 10 epochs: 99.83\n",
        "*   After 100 epochs: 5.35\n",
        "\n"
      ],
      "metadata": {
        "id": "rM1DaMyJGeBc"
      }
    }
  ]
}