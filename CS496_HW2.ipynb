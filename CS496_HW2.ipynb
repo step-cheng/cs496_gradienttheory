{
  "nbformat": 4,
  "nbformat_minor": 0,
  "metadata": {
    "colab": {
      "provenance": [],
      "gpuType": "T4",
      "authorship_tag": "ABX9TyPfEDm16WzdxqUpshV/IRC4",
      "include_colab_link": true
    },
    "kernelspec": {
      "name": "python3",
      "display_name": "Python 3"
    },
    "language_info": {
      "name": "python"
    },
    "accelerator": "GPU"
  },
  "cells": [
    {
      "cell_type": "markdown",
      "metadata": {
        "id": "view-in-github",
        "colab_type": "text"
      },
      "source": [
        "<a href=\"https://colab.research.google.com/github/step-cheng/cs496_gradienttheory/blob/main/CS496_HW2.ipynb\" target=\"_parent\"><img src=\"https://colab.research.google.com/assets/colab-badge.svg\" alt=\"Open In Colab\"/></a>"
      ]
    },
    {
      "cell_type": "code",
      "execution_count": 53,
      "metadata": {
        "id": "Yhqd9KsIhnFm"
      },
      "outputs": [],
      "source": [
        "import torch\n",
        "from torchvision.datasets import MNIST\n",
        "from torchvision import transforms\n",
        "from torch.utils.data import DataLoader\n",
        "\n",
        "import matplotlib.pyplot as plt"
      ]
    },
    {
      "cell_type": "code",
      "source": [
        "train_set = MNIST('./', download=True,\n",
        "  transform=transforms.Compose([\n",
        "  transforms.ToTensor(),\n",
        "  ]), train=True)\n",
        "\n",
        "\n",
        "test_set = MNIST('./', download=True,\n",
        "  transform=transforms.Compose([\n",
        "  transforms.ToTensor(),\n",
        "  ]), train=False)\n"
      ],
      "metadata": {
        "id": "Eb2_ptc6h-9Z"
      },
      "execution_count": 54,
      "outputs": []
    },
    {
      "cell_type": "code",
      "source": [
        "train_loader = DataLoader(\n",
        "    dataset=train_set,\n",
        "    batch_size=100,\n",
        "    shuffle=True\n",
        ")\n",
        "test_loader = DataLoader(\n",
        "    dataset=test_set,\n",
        "    batch_size=10000,\n",
        "    shuffle=False\n",
        ")\n",
        "device = torch.device('cuda')"
      ],
      "metadata": {
        "id": "UzJzHavliv5f"
      },
      "execution_count": 55,
      "outputs": []
    },
    {
      "cell_type": "code",
      "source": [
        "class Model:\n",
        "  def __init__(self, dim, num_layers, norm):\n",
        "    # change to have a param dict\n",
        "    self.num_hlayers = num_layers - 2\n",
        "    self.norm=norm\n",
        "    self.p = {}\n",
        "    self.p['fce_w'] = torch.randn(784,100, requires_grad=True, device=device)\n",
        "    self.p['fce_b'] = torch.randn(100, requires_grad=True, device=device)\n",
        "    self.p['fcd_w'] = torch.randn(100,10, requires_grad=True, device=device)\n",
        "    self.p['fcd_b'] = torch.randn(10, requires_grad=True, device=device)\n",
        "    for i in range(self.num_hlayers):\n",
        "      self.p[f'fc{i}_w'] = torch.randn(100,100, requires_grad=True, device=device)\n",
        "      self.p[f'fc{i}_b'] = torch.randn(100, requires_grad=True, device=device)\n",
        "\n",
        "  def relu(self, x):\n",
        "    return x.clamp(min=0)\n",
        "\n",
        "  def normalize(self, x):\n",
        "    means = torch.mean(x, dim=-1, keepdim=True)\n",
        "    stds = torch.std(x, dim=-1, keepdim=True)\n",
        "    return (x - means) / (stds + 1e-7)\n",
        "\n",
        "  def __call__(self, x):\n",
        "    x = x.flatten(start_dim=1)\n",
        "    x = self.normalize(x) if self.norm else x\n",
        "    h = x @ self.p['fce_w'] + self.p['fce_b']\n",
        "    h = self.relu(h)\n",
        "    for i in range(self.num_hlayers):\n",
        "      h = self.normalize(h) if self.norm else h\n",
        "      h = h @ self.p[f'fc{i}_w'] + self.p[f'fc{i}_b']\n",
        "      h = self.relu(h)\n",
        "    h = self.normalize(h) if self.norm else h\n",
        "    out = h @ self.p['fcd_w'] + self.p['fcd_b']\n",
        "    return out"
      ],
      "metadata": {
        "id": "MJ8SMJj3jUmS"
      },
      "execution_count": 56,
      "outputs": []
    },
    {
      "cell_type": "code",
      "source": [
        "class Agent:\n",
        "  def __init__(self, dim, layers, norm, train_loader, test_loader, lr):\n",
        "    self.model = Model(dim, layers, norm)\n",
        "    self.ce_loss = torch.nn.CrossEntropyLoss()\n",
        "    self.lr = lr\n",
        "    self.train_loader = train_loader\n",
        "    self.test_loader = test_loader\n",
        "\n",
        "  def SGD(self, out, y):\n",
        "    with torch.no_grad():\n",
        "      for l in self.model.p:\n",
        "        self.model.p[l] -= self.model.p[l].grad * self.lr\n",
        "\n",
        "  def zero_grads(self):\n",
        "    for l in self.model.p:\n",
        "      self.model.p[l].grad.zero_()\n",
        "\n",
        "  def train(self):\n",
        "    for x, y in self.train_loader:\n",
        "      x = x.to(device)\n",
        "      y = y.to(device)\n",
        "      out = self.model(x)\n",
        "      loss = self.ce_loss(out, y)\n",
        "      loss.backward()\n",
        "      self.SGD(out, y)\n",
        "      self.zero_grads()\n",
        "\n",
        "  def find_matches(self, out, y):\n",
        "    preds = torch.argmax(out, dim=-1)\n",
        "    matches = torch.eq(preds, y).sum().item()\n",
        "    return matches\n",
        "\n",
        "  def test(self):\n",
        "    with torch.no_grad():\n",
        "      total_loss = 0\n",
        "      total_correct = 0\n",
        "      total_samples = 0\n",
        "\n",
        "      for x, y in self.test_loader:\n",
        "        x = x.to(device)\n",
        "        y = y.to(device)\n",
        "        out = self.model(x)\n",
        "        loss = self.ce_loss(out, y)\n",
        "        bsz = out.shape[0]\n",
        "\n",
        "        total_loss += loss.item() * bsz\n",
        "        total_correct += self.find_matches(out, y)\n",
        "        total_samples += bsz\n",
        "\n",
        "    final_loss = total_loss / total_samples\n",
        "    final_accuracy = total_correct / total_samples\n",
        "    print(f'Loss: {final_loss}')\n",
        "    print(f'Accuracy: {final_accuracy}')\n",
        "\n",
        "    return final_loss, final_accuracy\n",
        "\n"
      ],
      "metadata": {
        "id": "b0fN1rt9ot3m"
      },
      "execution_count": 57,
      "outputs": []
    },
    {
      "cell_type": "code",
      "source": [
        "# Experiment 1\n",
        "\n",
        "config = {\n",
        "    'dim' : 100,\n",
        "    'layers' : 2,\n",
        "    'train_loader' : train_loader,\n",
        "    'test_loader' : test_loader,\n",
        "    'lr' : 1,\n",
        "    'norm' : False,\n",
        "}\n",
        "agent = Agent(**config)\n",
        "\n",
        "epochs = 10\n",
        "losses = []\n",
        "accs = []\n",
        "for i in range(epochs):\n",
        "  print('Epoch', i)\n",
        "  loss, acc = agent.test()\n",
        "  losses.append(loss)\n",
        "  accs.append(acc)\n",
        "\n",
        "  agent.train()\n"
      ],
      "metadata": {
        "colab": {
          "base_uri": "https://localhost:8080/"
        },
        "id": "EoHI6o9poQ9X",
        "outputId": "8eae26c5-6567-4878-ef32-af998502f3e7"
      },
      "execution_count": 58,
      "outputs": [
        {
          "output_type": "stream",
          "name": "stdout",
          "text": [
            "Epoch 0\n",
            "Loss: 98.49726867675781\n",
            "Accuracy: 0.1238\n",
            "Epoch 1\n",
            "Loss: 0.5321667194366455\n",
            "Accuracy: 0.8579\n",
            "Epoch 2\n",
            "Loss: 0.4361081123352051\n",
            "Accuracy: 0.8843\n",
            "Epoch 3\n",
            "Loss: 0.390223890542984\n",
            "Accuracy: 0.9014\n",
            "Epoch 4\n",
            "Loss: 0.3536732792854309\n",
            "Accuracy: 0.9089\n",
            "Epoch 5\n",
            "Loss: 0.3082968592643738\n",
            "Accuracy: 0.9211\n",
            "Epoch 6\n",
            "Loss: 0.3307949900627136\n",
            "Accuracy: 0.9208\n",
            "Epoch 7\n",
            "Loss: 0.30264079570770264\n",
            "Accuracy: 0.9235\n",
            "Epoch 8\n",
            "Loss: 0.2880219519138336\n",
            "Accuracy: 0.9275\n",
            "Epoch 9\n",
            "Loss: 0.28324946761131287\n",
            "Accuracy: 0.9313\n"
          ]
        }
      ]
    },
    {
      "cell_type": "code",
      "source": [
        "plt.plot(range(epochs), losses)\n",
        "plt.yscale('log')\n",
        "plt.title('Loss')"
      ],
      "metadata": {
        "colab": {
          "base_uri": "https://localhost:8080/",
          "height": 469
        },
        "id": "v3UNx19pu7Ju",
        "outputId": "9433af2c-6898-458f-8d86-22e5edb56054"
      },
      "execution_count": 59,
      "outputs": [
        {
          "output_type": "execute_result",
          "data": {
            "text/plain": [
              "Text(0.5, 1.0, 'Loss')"
            ]
          },
          "metadata": {},
          "execution_count": 59
        },
        {
          "output_type": "display_data",
          "data": {
            "text/plain": [
              "<Figure size 640x480 with 1 Axes>"
            ],
            "image/png": "[encoded data removed]"
          },
          "metadata": {}
        }
      ]
    },
    {
      "cell_type": "code",
      "source": [
        "plt.plot(range(epochs), accs)\n",
        "plt.title('Accuracy')"
      ],
      "metadata": {
        "colab": {
          "base_uri": "https://localhost:8080/",
          "height": 469
        },
        "id": "EPGTnKU3vIQm",
        "outputId": "d4ff697a-8b10-4812-ae12-5636d97584bc"
      },
      "execution_count": 60,
      "outputs": [
        {
          "output_type": "execute_result",
          "data": {
            "text/plain": [
              "Text(0.5, 1.0, 'Accuracy')"
            ]
          },
          "metadata": {},
          "execution_count": 60
        },
        {
          "output_type": "display_data",
          "data": {
            "text/plain": [
              "<Figure size 640x480 with 1 Axes>"
            ],
            "image/png": "[encoded data removed]"
          },
          "metadata": {}
        }
      ]
    },
    {
      "cell_type": "code",
      "source": [
        "# Experiment 2\n",
        "config = {\n",
        "    'dim' : 100,\n",
        "    'layers' : 10,\n",
        "    'train_loader' : train_loader,\n",
        "    'test_loader' : test_loader,\n",
        "    'lr' : 0.001,\n",
        "    'norm' : False,\n",
        "}\n",
        "agent = Agent(**config)\n",
        "\n",
        "epochs = 10\n",
        "losses = []\n",
        "accs = []\n",
        "for i in range(epochs):\n",
        "  print('Epoch', i)\n",
        "  loss, acc = agent.test()\n",
        "  losses.append(loss)\n",
        "  accs.append(acc)\n",
        "\n",
        "  agent.train()"
      ],
      "metadata": {
        "colab": {
          "base_uri": "https://localhost:8080/"
        },
        "id": "9EVHDxZA0eJc",
        "outputId": "6d5df444-a711-4bc5-ae79-e79c5ac091b6"
      },
      "execution_count": 67,
      "outputs": [
        {
          "output_type": "stream",
          "name": "stdout",
          "text": [
            "Epoch 0\n",
            "Loss: 265208256.0\n",
            "Accuracy: 0.1335\n",
            "Epoch 1\n",
            "Loss: nan\n",
            "Accuracy: 0.098\n",
            "Epoch 2\n",
            "Loss: nan\n",
            "Accuracy: 0.098\n",
            "Epoch 3\n",
            "Loss: nan\n",
            "Accuracy: 0.098\n",
            "Epoch 4\n",
            "Loss: nan\n",
            "Accuracy: 0.098\n",
            "Epoch 5\n",
            "Loss: nan\n",
            "Accuracy: 0.098\n",
            "Epoch 6\n",
            "Loss: nan\n",
            "Accuracy: 0.098\n",
            "Epoch 7\n",
            "Loss: nan\n",
            "Accuracy: 0.098\n",
            "Epoch 8\n",
            "Loss: nan\n",
            "Accuracy: 0.098\n",
            "Epoch 9\n",
            "Loss: nan\n",
            "Accuracy: 0.098\n"
          ]
        }
      ]
    },
    {
      "cell_type": "code",
      "source": [
        "plt.plot(range(epochs), losses)\n",
        "plt.yscale('log')\n",
        "plt.title('Loss')"
      ],
      "metadata": {
        "colab": {
          "base_uri": "https://localhost:8080/",
          "height": 469
        },
        "id": "kTiDluVULXcZ",
        "outputId": "1637103f-29bc-470b-bd14-3666d1aede21"
      },
      "execution_count": 68,
      "outputs": [
        {
          "output_type": "execute_result",
          "data": {
            "text/plain": [
              "Text(0.5, 1.0, 'Loss')"
            ]
          },
          "metadata": {},
          "execution_count": 68
        },
        {
          "output_type": "display_data",
          "data": {
            "text/plain": [
              "<Figure size 640x480 with 1 Axes>"
            ],
            "image/png": "[encoded data removed]"
          },
          "metadata": {}
        }
      ]
    },
    {
      "cell_type": "code",
      "source": [
        "plt.plot(range(epochs), accs)\n",
        "plt.title('Accuracy')"
      ],
      "metadata": {
        "colab": {
          "base_uri": "https://localhost:8080/",
          "height": 469
        },
        "id": "G8AjZdE2LcWf",
        "outputId": "a95de878-a6cf-4570-b8c7-e065ec985ecf"
      },
      "execution_count": 69,
      "outputs": [
        {
          "output_type": "execute_result",
          "data": {
            "text/plain": [
              "Text(0.5, 1.0, 'Accuracy')"
            ]
          },
          "metadata": {},
          "execution_count": 69
        },
        {
          "output_type": "display_data",
          "data": {
            "text/plain": [
              "<Figure size 640x480 with 1 Axes>"
            ],
            "image/png": "[encoded data removed]"
          },
          "metadata": {}
        }
      ]
    },
    {
      "cell_type": "code",
      "source": [
        "# Experiment 3\n",
        "config = {\n",
        "    'dim' : 100,\n",
        "    'layers' : 10,\n",
        "    'train_loader' : train_loader,\n",
        "    'test_loader' : test_loader,\n",
        "    'lr' : 1,\n",
        "    'norm' : True,\n",
        "}\n",
        "agent = Agent(**config)\n",
        "\n",
        "epochs = 10\n",
        "losses = []\n",
        "accs = []\n",
        "for i in range(epochs):\n",
        "  print('Epoch', i)\n",
        "  loss, acc = agent.test()\n",
        "  losses.append(loss)\n",
        "  accs.append(acc)\n",
        "\n",
        "  agent.train()"
      ],
      "metadata": {
        "colab": {
          "base_uri": "https://localhost:8080/"
        },
        "id": "hTygwwARLdeE",
        "outputId": "0d5512da-943d-400a-8a06-9533b90c3ea9"
      },
      "execution_count": 64,
      "outputs": [
        {
          "output_type": "stream",
          "name": "stdout",
          "text": [
            "Epoch 0\n",
            "Loss: 15.448948860168457\n",
            "Accuracy: 0.0874\n",
            "Epoch 1\n",
            "Loss: 0.3560101091861725\n",
            "Accuracy: 0.9026\n",
            "Epoch 2\n",
            "Loss: 0.2267964780330658\n",
            "Accuracy: 0.9358\n",
            "Epoch 3\n",
            "Loss: 0.22441740334033966\n",
            "Accuracy: 0.9385\n",
            "Epoch 4\n",
            "Loss: 0.21185603737831116\n",
            "Accuracy: 0.9449\n",
            "Epoch 5\n",
            "Loss: 0.17743311822414398\n",
            "Accuracy: 0.9487\n",
            "Epoch 6\n",
            "Loss: 0.17950882017612457\n",
            "Accuracy: 0.952\n",
            "Epoch 7\n",
            "Loss: 0.1908424347639084\n",
            "Accuracy: 0.9504\n",
            "Epoch 8\n",
            "Loss: 0.186933234333992\n",
            "Accuracy: 0.952\n",
            "Epoch 9\n",
            "Loss: 0.1747194230556488\n",
            "Accuracy: 0.9563\n"
          ]
        }
      ]
    },
    {
      "cell_type": "code",
      "source": [
        "plt.plot(range(epochs), losses)\n",
        "plt.yscale('log')\n",
        "plt.title('Loss')"
      ],
      "metadata": {
        "colab": {
          "base_uri": "https://localhost:8080/",
          "height": 469
        },
        "id": "WX8hQrmzNaOe",
        "outputId": "5a5867de-7fa1-4205-9fec-e2c012f8dab4"
      },
      "execution_count": 65,
      "outputs": [
        {
          "output_type": "execute_result",
          "data": {
            "text/plain": [
              "Text(0.5, 1.0, 'Loss')"
            ]
          },
          "metadata": {},
          "execution_count": 65
        },
        {
          "output_type": "display_data",
          "data": {
            "text/plain": [
              "<Figure size 640x480 with 1 Axes>"
            ],
            "image/png": "[encoded data removed]"
          },
          "metadata": {}
        }
      ]
    },
    {
      "cell_type": "code",
      "source": [
        "plt.plot(range(epochs), accs)\n",
        "plt.title('Accuracy')"
      ],
      "metadata": {
        "colab": {
          "base_uri": "https://localhost:8080/",
          "height": 469
        },
        "id": "wrgmy01gNbyJ",
        "outputId": "aa14a92e-4876-4120-89d8-5b323d7eb170"
      },
      "execution_count": 66,
      "outputs": [
        {
          "output_type": "execute_result",
          "data": {
            "text/plain": [
              "Text(0.5, 1.0, 'Accuracy')"
            ]
          },
          "metadata": {},
          "execution_count": 66
        },
        {
          "output_type": "display_data",
          "data": {
            "text/plain": [
              "<Figure size 640x480 with 1 Axes>"
            ],
            "image/png": "[encoded data removed]"
          },
          "metadata": {}
        }
      ]
    },
    {
      "cell_type": "markdown",
      "source": [
        "## Discussion\n",
        "The two layer network performed well, with an accuracy of around 92%. This is because the MNIST dataset is relatively simple, so having two layers is sufficient. Each target class contains similar samples, and the data is binary, making it less information dense.\n",
        "\n",
        "The ten layer network without normalization performed poorly. Because there are many layers in a ten layer network, the variance of the input increases in magnitude as the input travels through each layer. Thus, when the gradients are calculated for each layer, the earlier layers may have exploding or vanishing gradients because the gradients are the products of many later weight matrices. For example, if the input before the ReLU activation is mostly negative values, then the activation output will be mostly zeros. Thus, the gradients at that layer and earlier layers will be zero, which means no learning takes place.\n",
        "\n",
        "Exploding and vanishing gradients are avoided when the input is normalized with z-score normalization at each layer of the network. Since the input is used to calculate the gradients for the weights, scaling the input to a consistent range ensures that gradients are not too large or small. This is why the ten layer network with normalization performed well, with an accuracy of around 95%."
      ],
      "metadata": {
        "id": "uOTKeLh6R5Kl"
      }
    }
  ]
}